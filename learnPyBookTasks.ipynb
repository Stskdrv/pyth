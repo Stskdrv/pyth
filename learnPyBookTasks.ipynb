{
 "cells": [
  {
   "cell_type": "code",
   "execution_count": null,
   "id": "c1cf0992-3e33-44dd-b574-280024ae0f0c",
   "metadata": {},
   "outputs": [],
   "source": [
    "#2.1, 2.2 chapter 53 page"
   ]
  },
  {
   "cell_type": "code",
   "execution_count": 2,
   "id": "22c2914a-af51-47b1-ba3b-f91a6c48b227",
   "metadata": {},
   "outputs": [
    {
     "name": "stdout",
     "output_type": "stream",
     "text": [
      "Hello World\n"
     ]
    }
   ],
   "source": [
    "msg = 'Hello World'\n",
    "print(msg)"
   ]
  },
  {
   "cell_type": "code",
   "execution_count": 4,
   "id": "bbb8813f-e2cc-4d9f-b0b8-8850015b6236",
   "metadata": {},
   "outputs": [
    {
     "name": "stdout",
     "output_type": "stream",
     "text": [
      "Hello World\n",
      "New msg\n"
     ]
    }
   ],
   "source": [
    "msg = 'Hello World'\n",
    "print(msg)\n",
    "\n",
    "msg= 'New msg'\n",
    "print(msg)"
   ]
  },
  {
   "cell_type": "code",
   "execution_count": null,
   "id": "46f7f505-cfa2-4c8e-9a78-3c36ba4cf31d",
   "metadata": {},
   "outputs": [],
   "source": [
    "#2.3 59 page"
   ]
  },
  {
   "cell_type": "code",
   "execution_count": 6,
   "id": "5a5909c2-54ba-42bd-b96a-32d8be55b4bc",
   "metadata": {},
   "outputs": [
    {
     "name": "stdout",
     "output_type": "stream",
     "text": [
      "Hello Stan, nice too see you prcticing Py\n"
     ]
    }
   ],
   "source": [
    "name = 'Stan'\n",
    "\n",
    "msg = f'Hello {name}, nice too see you prcticing Py'\n",
    "print(msg)"
   ]
  },
  {
   "cell_type": "code",
   "execution_count": null,
   "id": "11ebd001-e385-4f7a-b8bf-2dbec5ffa5f7",
   "metadata": {},
   "outputs": [],
   "source": [
    "#2.4-2.8 60 page"
   ]
  },
  {
   "cell_type": "code",
   "execution_count": 8,
   "id": "b85b42a6-5265-4b59-8e9c-345b57b79f3d",
   "metadata": {},
   "outputs": [
    {
     "name": "stdout",
     "output_type": "stream",
     "text": [
      "Stan Kad\n",
      "STAN KAD\n",
      "stan kad\n"
     ]
    }
   ],
   "source": [
    "name = 'stan kad'\n",
    "\n",
    "print(name.title())\n",
    "print(name.upper())\n",
    "print(name.lower())"
   ]
  },
  {
   "cell_type": "code",
   "execution_count": 28,
   "id": "6cd0a8cd-25ee-477a-b4b7-570afc87d124",
   "metadata": {},
   "outputs": [
    {
     "name": "stdout",
     "output_type": "stream",
     "text": [
      "\t Hi Stan \n",
      "\n",
      "Hi Stan \n",
      "\n",
      "\t Hi Stan\n",
      "Hi Stan\n"
     ]
    }
   ],
   "source": [
    "name = '\\t Hi Stan \\n' #https://pythonz.net/references/named/control-characters/\n",
    "print(name)\n",
    "print(name.lstrip())\n",
    "print(name.rstrip())\n",
    "print(name.strip())"
   ]
  },
  {
   "cell_type": "code",
   "execution_count": 40,
   "id": "50f2118a-a4e6-4a31-917d-0699fcc1c901",
   "metadata": {},
   "outputs": [
    {
     "name": "stdout",
     "output_type": "stream",
     "text": [
      "py.txt\n",
      "py\n"
     ]
    }
   ],
   "source": [
    "filename = 'py.txt'\n",
    "print(filename)\n",
    "print(filename.removesuffix('.txt'))"
   ]
  },
  {
   "cell_type": "code",
   "execution_count": 42,
   "id": "74a4a0ed-5d5c-455c-8eab-a0ab6e67c059",
   "metadata": {},
   "outputs": [
    {
     "name": "stdout",
     "output_type": "stream",
     "text": [
      "The Zen of Python, by Tim Peters\n",
      "\n",
      "Beautiful is better than ugly.\n",
      "Explicit is better than implicit.\n",
      "Simple is better than complex.\n",
      "Complex is better than complicated.\n",
      "Flat is better than nested.\n",
      "Sparse is better than dense.\n",
      "Readability counts.\n",
      "Special cases aren't special enough to break the rules.\n",
      "Although practicality beats purity.\n",
      "Errors should never pass silently.\n",
      "Unless explicitly silenced.\n",
      "In the face of ambiguity, refuse the temptation to guess.\n",
      "There should be one-- and preferably only one --obvious way to do it.\n",
      "Although that way may not be obvious at first unless you're Dutch.\n",
      "Now is better than never.\n",
      "Although never is often better than *right* now.\n",
      "If the implementation is hard to explain, it's a bad idea.\n",
      "If the implementation is easy to explain, it may be a good idea.\n",
      "Namespaces are one honking great idea -- let's do more of those!\n"
     ]
    }
   ],
   "source": [
    "import this #zen of Py"
   ]
  },
  {
   "cell_type": "code",
   "execution_count": null,
   "id": "308ec014-6665-449b-83de-8b2746b4ac42",
   "metadata": {},
   "outputs": [],
   "source": [
    "#3 chapter tasks"
   ]
  },
  {
   "cell_type": "code",
   "execution_count": 189,
   "id": "c9c11f7c-b30c-4bd1-a288-cdfb63e4708e",
   "metadata": {},
   "outputs": [
    {
     "name": "stdout",
     "output_type": "stream",
     "text": [
      "Roman\n",
      "Alex\n",
      "Yana\n",
      "Fedor\n"
     ]
    }
   ],
   "source": [
    "names = ['Roman', 'Alex', 'Yana', 'Fedor']\n",
    "\n",
    "for name in names: \n",
    "    print(name)\n"
   ]
  },
  {
   "cell_type": "code",
   "execution_count": 191,
   "id": "ea3ffef8-6b9a-4a54-b076-d5fe27a86fc4",
   "metadata": {},
   "outputs": [
    {
     "name": "stdout",
     "output_type": "stream",
     "text": [
      "Hello, Roman, hope u are dung great today\n",
      "Hello, Alex, hope u are dung great today\n",
      "Hello, Yana, hope u are dung great today\n",
      "Hello, Fedor, hope u are dung great today\n"
     ]
    }
   ],
   "source": [
    "for name in names: \n",
    "    print(f'Hello, {name}, hope u are dung great today')"
   ]
  },
  {
   "cell_type": "code",
   "execution_count": 193,
   "id": "e2be436b-df3a-4e6e-aaae-3e11abaea7ac",
   "metadata": {},
   "outputs": [],
   "source": [
    "# Alex could not join, we will replace him with Sabi"
   ]
  },
  {
   "cell_type": "code",
   "execution_count": 195,
   "id": "2c759993-b107-4e3d-abfb-1977518d664b",
   "metadata": {},
   "outputs": [
    {
     "name": "stdout",
     "output_type": "stream",
     "text": [
      "['Roman', 'Alex', 'Yana', 'Fedor']\n",
      "1\n",
      "['Roman', 'Sabi', 'Yana', 'Fedor']\n"
     ]
    }
   ],
   "source": [
    "index = names.index('Alex')\n",
    "print(names)\n",
    "print(index)\n",
    "\n",
    "names.insert(index, 'Sabi')\n",
    "names.remove('Alex')\n",
    "print(names)"
   ]
  },
  {
   "cell_type": "code",
   "execution_count": 197,
   "id": "f95ca556-8031-40a3-8440-f8b3ca9b5caf",
   "metadata": {},
   "outputs": [
    {
     "name": "stdout",
     "output_type": "stream",
     "text": [
      "Hello, Roman, hope u will join us today\n",
      "Hello, Sabi, hope u will join us today\n",
      "Hello, Yana, hope u will join us today\n",
      "Hello, Fedor, hope u will join us today\n"
     ]
    }
   ],
   "source": [
    "for name in names: \n",
    "    print(f'Hello, {name}, hope u will join us today')"
   ]
  },
  {
   "cell_type": "code",
   "execution_count": 199,
   "id": "04550f0c-9980-4477-bc65-12127a6224eb",
   "metadata": {
    "scrolled": true
   },
   "outputs": [
    {
     "name": "stdout",
     "output_type": "stream",
     "text": [
      "4\n",
      "['Roman', 'Sabi', 'Yana', 'Fedor']\n",
      "['Joe', 'Roman', 'Migo', 'Sabi', 'Yana', 'Fedor', 'Chris']\n"
     ]
    }
   ],
   "source": [
    "names_len = len(names)\n",
    "print(names_len)\n",
    "print(names)\n",
    "names.insert(0, 'Joe')\n",
    "names.insert(names_len//2, 'Migo')\n",
    "names.append('Chris')\n",
    "print(names)"
   ]
  },
  {
   "cell_type": "code",
   "execution_count": 201,
   "id": "f2b7f52c-a541-4ac5-8953-2c9c7c679cc8",
   "metadata": {},
   "outputs": [
    {
     "name": "stdout",
     "output_type": "stream",
     "text": [
      "['Joe', 'Roman', 'Migo', 'Sabi', 'Yana', 'Fedor', 'Chris']\n",
      "Now we have only two guests\n",
      "['Joe', 'Roman']\n"
     ]
    }
   ],
   "source": [
    "print(names)\n",
    "while len(names) > 2: \n",
    "    names.pop()\n",
    "print('Now we have only two guests')\n",
    "print(names)"
   ]
  },
  {
   "cell_type": "code",
   "execution_count": 203,
   "id": "583348e2-ff99-4842-978a-745ab101e8c5",
   "metadata": {},
   "outputs": [
    {
     "name": "stdout",
     "output_type": "stream",
     "text": [
      "[]\n"
     ]
    }
   ],
   "source": [
    "while len(names) > 0:\n",
    "    del names[0]\n",
    "print(names)\n"
   ]
  },
  {
   "cell_type": "code",
   "execution_count": null,
   "id": "9bc33ded-49ff-41e4-ae7e-14e2d630dbda",
   "metadata": {},
   "outputs": [],
   "source": [
    "# 3.8"
   ]
  },
  {
   "cell_type": "code",
   "execution_count": 223,
   "id": "299f43b5-5e30-4f7e-9743-f5ac00a99e11",
   "metadata": {},
   "outputs": [],
   "source": [
    "places = ['Bali', 'Monreal', 'Copenhagen', 'Maldives', 'Sydney', 'New York']"
   ]
  },
  {
   "cell_type": "code",
   "execution_count": 225,
   "id": "8fb18d02-6825-4b34-b21c-eda5081dda0a",
   "metadata": {},
   "outputs": [
    {
     "name": "stdout",
     "output_type": "stream",
     "text": [
      "['Bali', 'Monreal', 'Copenhagen', 'Maldives', 'Sydney', 'New York']\n"
     ]
    }
   ],
   "source": [
    "print(places)"
   ]
  },
  {
   "cell_type": "code",
   "execution_count": 235,
   "id": "fdcd8fd8-e5f3-475e-9d4f-d3cde95a218b",
   "metadata": {},
   "outputs": [
    {
     "name": "stdout",
     "output_type": "stream",
     "text": [
      "['Bali', 'Copenhagen', 'Maldives', 'Monreal', 'New York', 'Sydney']\n"
     ]
    }
   ],
   "source": [
    "print(sorted(places))"
   ]
  },
  {
   "cell_type": "code",
   "execution_count": 237,
   "id": "0aeb11df-0d69-4e62-8a74-47dfb4666afb",
   "metadata": {},
   "outputs": [
    {
     "name": "stdout",
     "output_type": "stream",
     "text": [
      "['Bali', 'Monreal', 'Copenhagen', 'Maldives', 'Sydney', 'New York']\n"
     ]
    }
   ],
   "source": [
    "print(places)"
   ]
  },
  {
   "cell_type": "code",
   "execution_count": 241,
   "id": "b637252a-226b-46e1-a492-37007ffbe58e",
   "metadata": {},
   "outputs": [
    {
     "name": "stdout",
     "output_type": "stream",
     "text": [
      "['Bali', 'Monreal', 'Copenhagen', 'Maldives', 'Sydney', 'New York']\n"
     ]
    }
   ],
   "source": [
    "places.reverse()\n",
    "print(places)"
   ]
  },
  {
   "cell_type": "code",
   "execution_count": 243,
   "id": "ff32a968-d7d3-465e-8728-98a2b5325dff",
   "metadata": {},
   "outputs": [
    {
     "name": "stdout",
     "output_type": "stream",
     "text": [
      "['Bali', 'Copenhagen', 'Maldives', 'Monreal', 'New York', 'Sydney']\n"
     ]
    }
   ],
   "source": [
    "places.sort()\n",
    "print(places)"
   ]
  },
  {
   "cell_type": "code",
   "execution_count": 245,
   "id": "23a5b194-c48f-4ea6-b8f3-f41726dd6c8c",
   "metadata": {},
   "outputs": [
    {
     "ename": "IndexError",
     "evalue": "list index out of range",
     "output_type": "error",
     "traceback": [
      "\u001b[0;31m---------------------------------------------------------------------------\u001b[0m",
      "\u001b[0;31mIndexError\u001b[0m                                Traceback (most recent call last)",
      "Cell \u001b[0;32mIn[245], line 1\u001b[0m\n\u001b[0;32m----> 1\u001b[0m places[\u001b[38;5;241m100\u001b[39m]\n",
      "\u001b[0;31mIndexError\u001b[0m: list index out of range"
     ]
    }
   ],
   "source": [
    "places[100]"
   ]
  },
  {
   "cell_type": "code",
   "execution_count": null,
   "id": "44119b58-dceb-423a-8ab8-1d14298fe8e4",
   "metadata": {},
   "outputs": [],
   "source": [
    "#4.3"
   ]
  },
  {
   "cell_type": "code",
   "execution_count": 251,
   "id": "87a5af41-02cd-41b4-a680-8b6ed6d2cd68",
   "metadata": {},
   "outputs": [
    {
     "name": "stdout",
     "output_type": "stream",
     "text": [
      "[1, 2, 3, 4, 5, 6, 7, 8, 9, 10, 11, 12, 13, 14, 15, 16, 17, 18, 19, 20]\n"
     ]
    }
   ],
   "source": [
    "nums = [val for val in range(1, 21)]\n",
    "print(nums)"
   ]
  },
  {
   "cell_type": "code",
   "execution_count": 255,
   "id": "db525b64-a3f2-489d-8f5d-f760c04355ad",
   "metadata": {},
   "outputs": [
    {
     "name": "stdout",
     "output_type": "stream",
     "text": [
      "[1, 2, 3, 4, 5, 6, 7, 8, 9, 10, 11, 12, 13, 14, 15, 16, 17, 18, 19, 20]\n"
     ]
    }
   ],
   "source": [
    "nums = list(range(1, 21))\n",
    "print(nums)"
   ]
  },
  {
   "cell_type": "code",
   "execution_count": 259,
   "id": "c3e400bf-e2fa-47c5-a4f3-771bd497df3b",
   "metadata": {},
   "outputs": [
    {
     "name": "stdout",
     "output_type": "stream",
     "text": [
      "[1, 3, 5, 7, 9, 11, 13, 15, 17, 19]\n"
     ]
    }
   ],
   "source": [
    "nums = list(range(1, 21, 2))\n",
    "print(nums)"
   ]
  },
  {
   "cell_type": "code",
   "execution_count": 261,
   "id": "136d3dbf-f8e9-4c49-bcd0-4359241428d7",
   "metadata": {},
   "outputs": [
    {
     "name": "stdout",
     "output_type": "stream",
     "text": [
      "[3, 6, 9, 12, 15, 18, 21, 24, 27, 30]\n"
     ]
    }
   ],
   "source": [
    "nums = list(range(3, 31, 3))\n",
    "print(nums)"
   ]
  },
  {
   "cell_type": "code",
   "execution_count": 263,
   "id": "270407d8-d827-4336-9e4a-653f917a6118",
   "metadata": {},
   "outputs": [
    {
     "name": "stdout",
     "output_type": "stream",
     "text": [
      "[1, 8, 27, 64, 125, 216, 343, 512, 729, 1000]\n"
     ]
    }
   ],
   "source": [
    "nums = [val**3 for val in range(1, 11)]\n",
    "print(nums)"
   ]
  },
  {
   "cell_type": "code",
   "execution_count": 265,
   "id": "1cd3bb1d-b72c-42d3-97ff-3a7109938053",
   "metadata": {},
   "outputs": [
    {
     "name": "stdout",
     "output_type": "stream",
     "text": [
      "[1, 8, 27, 64, 125, 216, 343, 512, 729, 1000]\n"
     ]
    }
   ],
   "source": [
    "nums = []\n",
    "\n",
    "for num in range(1,11):\n",
    "    nums.append(num**3);\n",
    "print(nums)"
   ]
  },
  {
   "cell_type": "code",
   "execution_count": null,
   "id": "16c4c047-ff6a-4631-ad78-70472886aba7",
   "metadata": {},
   "outputs": [],
   "source": [
    "#4.10 slices"
   ]
  },
  {
   "cell_type": "code",
   "execution_count": 267,
   "id": "33209f43-c51a-407a-8568-41163ed376d7",
   "metadata": {},
   "outputs": [
    {
     "name": "stdout",
     "output_type": "stream",
     "text": [
      "['Bali', 'Copenhagen', 'Maldives', 'Monreal', 'New York', 'Sydney']\n"
     ]
    }
   ],
   "source": [
    "print(places)"
   ]
  },
  {
   "cell_type": "code",
   "execution_count": 269,
   "id": "6d5f16cd-b66c-4e7c-b7db-d62116357970",
   "metadata": {},
   "outputs": [],
   "source": [
    "newPlaces = places[:]#full copy(shadow)"
   ]
  },
  {
   "cell_type": "code",
   "execution_count": 271,
   "id": "0513d49c-d596-4db4-9aea-8e01bd257988",
   "metadata": {},
   "outputs": [
    {
     "name": "stdout",
     "output_type": "stream",
     "text": [
      "['Bali', 'Copenhagen', 'Maldives', 'Monreal', 'New York', 'Sydney']\n"
     ]
    }
   ],
   "source": [
    "print(newPlaces)"
   ]
  },
  {
   "cell_type": "code",
   "execution_count": 283,
   "id": "cad2b7c8-ade7-442d-ae3a-5b6202df807c",
   "metadata": {},
   "outputs": [
    {
     "name": "stdout",
     "output_type": "stream",
     "text": [
      "['Bali', 'Copenhagen', 'Maldives']\n",
      "['Copenhagen', 'Maldives']\n",
      "['Monreal', 'New York', 'Sydney']\n"
     ]
    }
   ],
   "source": [
    "print(newPlaces[:3])\n",
    "print(newPlaces[1:3])\n",
    "print(newPlaces[-3:])"
   ]
  },
  {
   "cell_type": "code",
   "execution_count": 285,
   "id": "874c9863-ae43-4bfb-a712-79b4b78d08b1",
   "metadata": {},
   "outputs": [
    {
     "name": "stdout",
     "output_type": "stream",
     "text": [
      "['Bali', 'Copenhagen', 'Maldives', 'Monreal', 'New York', 'Sydney', 'Amster']\n",
      "['Bali', 'Copenhagen', 'Maldives', 'Monreal', 'New York', 'Sydney', 'Barca']\n"
     ]
    }
   ],
   "source": [
    "places.append('Amster')\n",
    "newPlaces.append('Barca')\n",
    "print(places)\n",
    "print(newPlaces)"
   ]
  },
  {
   "cell_type": "code",
   "execution_count": 287,
   "id": "7d49bdde-a2f3-4249-8db4-e8b7861dde8d",
   "metadata": {},
   "outputs": [],
   "source": [
    "#4.13 Tuples"
   ]
  },
  {
   "cell_type": "code",
   "execution_count": 289,
   "id": "6fd7e758-abf5-4e06-aeb4-dbf0a52352a9",
   "metadata": {},
   "outputs": [
    {
     "name": "stdout",
     "output_type": "stream",
     "text": [
      "want to take pizza?\n",
      "want to take lasania?\n",
      "want to take soup?\n",
      "want to take chicken brests?\n",
      "want to take meat?\n",
      "want to take fish?\n",
      "We have it all\n"
     ]
    }
   ],
   "source": [
    "menu = ('pizza', 'lasania', 'soup', 'chicken brests', 'meat', 'fish')\n",
    "for item in menu:\n",
    "    print(f'want to take {item}?')\n",
    "print('We have it all')"
   ]
  },
  {
   "cell_type": "code",
   "execution_count": 291,
   "id": "9fdbffd8-aa64-4989-9d6e-a11a5c324331",
   "metadata": {},
   "outputs": [
    {
     "ename": "TypeError",
     "evalue": "'tuple' object does not support item assignment",
     "output_type": "error",
     "traceback": [
      "\u001b[0;31m---------------------------------------------------------------------------\u001b[0m",
      "\u001b[0;31mTypeError\u001b[0m                                 Traceback (most recent call last)",
      "Cell \u001b[0;32mIn[291], line 1\u001b[0m\n\u001b[0;32m----> 1\u001b[0m menu[\u001b[38;5;241m3\u001b[39m] \u001b[38;5;241m=\u001b[39m \u001b[38;5;124m'\u001b[39m\u001b[38;5;124msteak\u001b[39m\u001b[38;5;124m'\u001b[39m\n",
      "\u001b[0;31mTypeError\u001b[0m: 'tuple' object does not support item assignment"
     ]
    }
   ],
   "source": [
    "menu[3] = 'steak' #tuples keep elems const\n"
   ]
  },
  {
   "cell_type": "code",
   "execution_count": 293,
   "id": "77b3b3e0-0c03-40cf-beec-177e744ff2e0",
   "metadata": {},
   "outputs": [
    {
     "name": "stdout",
     "output_type": "stream",
     "text": [
      "want to take pizza?\n",
      "want to take lasania?\n",
      "want to take soup?\n",
      "want to take steak?\n",
      "want to take meat?\n",
      "want to take fish?\n",
      "We have it all\n"
     ]
    }
   ],
   "source": [
    "menu = ('pizza', 'lasania', 'soup', 'steak', 'meat', 'fish')\n",
    "for item in menu:\n",
    "    print(f'want to take {item}?')\n",
    "print('We have it all')"
   ]
  },
  {
   "cell_type": "code",
   "execution_count": null,
   "id": "f83a9ebd-48bb-4af7-8aa3-5e5c2f8364d2",
   "metadata": {},
   "outputs": [],
   "source": [
    "#6 Dictionaies\n"
   ]
  },
  {
   "cell_type": "code",
   "execution_count": null,
   "id": "b8a8abb0-b94c-4fb3-ba66-37ccc3e86333",
   "metadata": {},
   "outputs": [],
   "source": [
    "#6.1"
   ]
  },
  {
   "cell_type": "code",
   "execution_count": 297,
   "id": "155879ed-57f0-4ee8-9fad-d19d6576c157",
   "metadata": {},
   "outputs": [
    {
     "name": "stdout",
     "output_type": "stream",
     "text": [
      "{'name': 'Stan', 'age': 31, 'prof': 'Programmer'}\n"
     ]
    }
   ],
   "source": [
    "person = {\n",
    "    'name': 'Stan',\n",
    "    'age': 31,\n",
    "    'prof': 'Programmer'\n",
    "}\n",
    "\n",
    "print(person)"
   ]
  },
  {
   "cell_type": "code",
   "execution_count": 299,
   "id": "e012816f-a399-4d00-a073-4a355f950c37",
   "metadata": {},
   "outputs": [
    {
     "name": "stdout",
     "output_type": "stream",
     "text": [
      "name: Stan\n",
      "age: 31\n",
      "prof: Programmer\n"
     ]
    }
   ],
   "source": [
    "for key,val in person.items(): #keys() values()\n",
    "    print(f'{key}: {val}')"
   ]
  },
  {
   "cell_type": "code",
   "execution_count": null,
   "id": "8f2ff774-f2f8-43a3-b072-b689dab35aea",
   "metadata": {},
   "outputs": [],
   "source": [
    "#7 cycles"
   ]
  },
  {
   "cell_type": "code",
   "execution_count": 303,
   "id": "3de2b83f-09c4-4ae0-a65a-0c671af4e102",
   "metadata": {},
   "outputs": [
    {
     "name": "stdin",
     "output_type": "stream",
     "text": [
      "Please specify your car VW polo\n"
     ]
    },
    {
     "name": "stdout",
     "output_type": "stream",
     "text": [
      "your car is VW polo\n"
     ]
    }
   ],
   "source": [
    "car = input('Please specify your car');\n",
    "\n",
    "print(f'your car is {car}')"
   ]
  },
  {
   "cell_type": "code",
   "execution_count": 309,
   "id": "24b76335-027b-44fb-9e29-de1dbb53ed71",
   "metadata": {},
   "outputs": [
    {
     "name": "stdin",
     "output_type": "stream",
     "text": [
      "Please specify how many guests will be there? 9\n"
     ]
    },
    {
     "name": "stdout",
     "output_type": "stream",
     "text": [
      "Please wait 20 mins\n"
     ]
    }
   ],
   "source": [
    "guestsNum = int(input('Please specify how many guests will be there?'));\n",
    "\n",
    "if guestsNum < 8:\n",
    "    print('Here is your table')\n",
    "else:\n",
    "    print('Please wait 20 mins')"
   ]
  },
  {
   "cell_type": "code",
   "execution_count": 343,
   "id": "8dbb1117-5846-4986-9113-5f80290249f9",
   "metadata": {},
   "outputs": [
    {
     "name": "stdin",
     "output_type": "stream",
     "text": [
      "Please specify ingredient, or press q+enter to stop:  c\n"
     ]
    },
    {
     "name": "stdout",
     "output_type": "stream",
     "text": [
      "Item was added.\n"
     ]
    },
    {
     "name": "stdin",
     "output_type": "stream",
     "text": [
      "Please specify ingredient, or press q+enter to stop:  q\n"
     ]
    },
    {
     "name": "stdout",
     "output_type": "stream",
     "text": [
      "Ingredients you added: ['c']\n"
     ]
    }
   ],
   "source": [
    "ingredients = []\n",
    "\n",
    "while True:\n",
    "    item = input('Please specify ingredient, or press q+enter to stop: ')\n",
    "    if item == 'q' or item == '':\n",
    "        break\n",
    "    ingredients.append(item)\n",
    "    print('Item was added.')\n",
    "\n",
    "print(f'Ingredients you added: {ingredients}')"
   ]
  },
  {
   "cell_type": "code",
   "execution_count": 345,
   "id": "fd65ef87-c8e5-4fdb-a243-c6be7856972f",
   "metadata": {},
   "outputs": [],
   "source": [
    "#7.8 Sandwiches"
   ]
  },
  {
   "cell_type": "code",
   "execution_count": 353,
   "id": "9b2ee5da-4ce9-4c35-b51d-1d156d4a0184",
   "metadata": {},
   "outputs": [
    {
     "name": "stdout",
     "output_type": "stream",
     "text": [
      "we run out of pastrami for today, sorry\n",
      "turkey was prepared\n",
      "butter was prepared\n",
      "turkey was prepared\n",
      "cheezzzy was prepared\n",
      "all sandwiches have been prepared: ['turkey', 'butter', 'turkey', 'cheezzzy']\n"
     ]
    }
   ],
   "source": [
    "sandwich_orders = ['pastrami', 'turkey', 'butter', 'turkey', 'cheezzzy', 'pastrami']\n",
    "\n",
    "prepared_sandwiches = []\n",
    "\n",
    "while 'pastrami' in sandwich_orders:\n",
    "    sandwich_orders.remove('pastrami')\n",
    "\n",
    "print('we run out of pastrami for today, sorry')\n",
    "\n",
    "for snw in sandwich_orders[:]:\n",
    "    \n",
    "    prepared_sandwiches.append(snw)\n",
    "    sandwich_orders.remove(snw)\n",
    "    print(f'{snw} was prepared')\n",
    "print(f'all sandwiches have been prepared: {prepared_sandwiches}')\n",
    "\n",
    "    "
   ]
  },
  {
   "cell_type": "code",
   "execution_count": null,
   "id": "eee4a7fe-266a-4848-bb51-bcf9222420a5",
   "metadata": {},
   "outputs": [],
   "source": [
    "#8 Functions"
   ]
  },
  {
   "cell_type": "code",
   "execution_count": 355,
   "id": "2562533a-c934-4722-8cff-b0be33b31fe7",
   "metadata": {},
   "outputs": [
    {
     "name": "stdout",
     "output_type": "stream",
     "text": [
      "Hey, we are testing functions\n"
     ]
    }
   ],
   "source": [
    "def display_msg(msg):\n",
    "    print(msg)\n",
    "\n",
    "display_msg('Hey, we are testing functions')"
   ]
  },
  {
   "cell_type": "code",
   "execution_count": 357,
   "id": "c19579a8-488e-4a3e-93a6-00b5da3d7598",
   "metadata": {},
   "outputs": [
    {
     "name": "stdout",
     "output_type": "stream",
     "text": [
      "you will get M size tshirt with text: HEY DUMMY\n",
      "you will get HEY DUMMY size tshirt with text: M\n"
     ]
    }
   ],
   "source": [
    "def print_tshirt(size, text):\n",
    "    print(f'you will get {size} size tshirt with text: {text}')\n",
    "\n",
    "print_tshirt('M', 'HEY DUMMY')\n",
    "print_tshirt(text= 'M', size = 'HEY DUMMY')"
   ]
  },
  {
   "cell_type": "code",
   "execution_count": 359,
   "id": "783ebf47-1b21-4b7b-a086-db5f7cc55b64",
   "metadata": {},
   "outputs": [
    {
     "name": "stdout",
     "output_type": "stream",
     "text": [
      "you will get M size tshirt with text: HEY DUMMY\n",
      "you will get L size tshirt with text: I love Py\n"
     ]
    }
   ],
   "source": [
    "def print_tshirt(size = 'L', text = 'I love Py'):\n",
    "    print(f'you will get {size} size tshirt with text: {text}')\n",
    "\n",
    "print_tshirt('M', 'HEY DUMMY')\n",
    "print_tshirt()"
   ]
  },
  {
   "cell_type": "code",
   "execution_count": null,
   "id": "f807b0cc-9e3f-4cc7-8f52-059e384266ed",
   "metadata": {},
   "outputs": [],
   "source": [
    "#8.7"
   ]
  },
  {
   "cell_type": "code",
   "execution_count": 375,
   "id": "979e0990-c261-42b0-ab45-0485825c5ff9",
   "metadata": {},
   "outputs": [
    {
     "name": "stdout",
     "output_type": "stream",
     "text": [
      "{'artist_name': 'lol', 'album_title': 'kek'}\n"
     ]
    }
   ],
   "source": [
    "def make_album(artist_name, album_title, tracks_nums=None):\n",
    "    album = {\"artist_name\": artist_name, \"album_title\": album_title}\n",
    "    if tracks_nums:\n",
    "        album['tracks_nums'] = tracks_nums\n",
    "    return album\n",
    "print(make_album('lol', 'kek'))"
   ]
  },
  {
   "cell_type": "code",
   "execution_count": 377,
   "id": "f00666c7-670d-48a9-b158-a3265139cf69",
   "metadata": {},
   "outputs": [
    {
     "name": "stdin",
     "output_type": "stream",
     "text": [
      "Please type artist name or q for exit Post Malone\n",
      "Please type album title Stoney\n"
     ]
    },
    {
     "name": "stdout",
     "output_type": "stream",
     "text": [
      "{'artist_name': 'Post Malone', 'album_title': 'Stoney'}\n"
     ]
    },
    {
     "name": "stdin",
     "output_type": "stream",
     "text": [
      "Please type artist name or q for exit B&B\n",
      "Please type album title Posty\n"
     ]
    },
    {
     "name": "stdout",
     "output_type": "stream",
     "text": [
      "{'artist_name': 'B&B', 'album_title': 'Posty'}\n"
     ]
    },
    {
     "name": "stdin",
     "output_type": "stream",
     "text": [
      "Please type artist name or q for exit q\n"
     ]
    },
    {
     "name": "stdout",
     "output_type": "stream",
     "text": [
      "[{'artist_name': 'Post Malone', 'album_title': 'Stoney'}, {'artist_name': 'B&B', 'album_title': 'Posty'}]\n"
     ]
    }
   ],
   "source": [
    "albums = []\n",
    "while True: \n",
    "    artist = input('Please type artist name or q for exit')\n",
    "    if artist == 'q':\n",
    "        break\n",
    "    title = input('Please type album title')\n",
    "    album = make_album(artist,title)\n",
    "    albums.append(album)\n",
    "    print(album)\n",
    "\n",
    "print(albums)\n",
    "    \n",
    "    "
   ]
  },
  {
   "cell_type": "code",
   "execution_count": 384,
   "id": "f272898d-1310-4b1d-89ba-f3be5611f1e2",
   "metadata": {},
   "outputs": [],
   "source": [
    "#8.9"
   ]
  },
  {
   "cell_type": "code",
   "execution_count": 436,
   "id": "4874a57c-2b4f-4bb2-9c10-5f45a67ba0e0",
   "metadata": {},
   "outputs": [],
   "source": [
    "messages = ['hello', 'how are you', 'what is new', 'hehehe']"
   ]
  },
  {
   "cell_type": "code",
   "execution_count": 438,
   "id": "8133b272-ef67-4b8e-a191-ed7f21615cb7",
   "metadata": {},
   "outputs": [],
   "source": [
    "send_messages = []"
   ]
  },
  {
   "cell_type": "code",
   "execution_count": 440,
   "id": "eaf51d50-1418-4406-968f-b50b0b68dc83",
   "metadata": {},
   "outputs": [],
   "source": [
    "def show_messages(msgs_list):\n",
    "    archived_messages = messages[:]\n",
    "    while messages:\n",
    "        msg = messages.pop(0)\n",
    "        send_messages.append(msg)\n",
    "        print(msg)\n",
    "\n",
    "    print(send_messages, 'messages')\n",
    "    print(messages, 'messages')\n",
    "    print(archived_messages, 'archived')"
   ]
  },
  {
   "cell_type": "code",
   "execution_count": 442,
   "id": "45dba575-e9d5-4782-9ee8-6acb673e34fd",
   "metadata": {},
   "outputs": [
    {
     "name": "stdout",
     "output_type": "stream",
     "text": [
      "hello\n",
      "how are you\n",
      "what is new\n",
      "hehehe\n",
      "['hello', 'how are you', 'what is new', 'hehehe'] messages\n",
      "[] messages\n",
      "['hello', 'how are you', 'what is new', 'hehehe'] archived\n"
     ]
    }
   ],
   "source": [
    "show_messages(messages)"
   ]
  },
  {
   "cell_type": "code",
   "execution_count": null,
   "id": "ce0daf02-7a41-4fc3-b44f-70b37be6e0ff",
   "metadata": {},
   "outputs": [],
   "source": [
    "#9 Classes"
   ]
  },
  {
   "cell_type": "code",
   "execution_count": 468,
   "id": "638af620-1091-4199-93cf-8b84e1de26a1",
   "metadata": {},
   "outputs": [
    {
     "name": "stdout",
     "output_type": "stream",
     "text": [
      "Ratatue\n",
      "Italian\n",
      "Ratatue  - Name\n",
      "Italian  - Cuisine\n",
      "0  - num served\n",
      "restaurant Ratatue is open\n",
      "Ratatue  - Name\n",
      "Italian  - Cuisine\n",
      "6  - num served\n"
     ]
    }
   ],
   "source": [
    "class Restaurant(): \n",
    "    def __init__(self, r_name, cuisine_type):\n",
    "        self.r_name = r_name\n",
    "        self.cuisine_type = cuisine_type\n",
    "        self.number_served = 0\n",
    "\n",
    "    def set_num_served(self, num):\n",
    "        self.number_served = num\n",
    "    def increment_num_served(self):\n",
    "        self.number_served += 1\n",
    "    \n",
    "    def desctibe_r(self): \n",
    "        print(self.r_name, ' - Name')\n",
    "        print(self.cuisine_type, ' - Cuisine')\n",
    "        print(self.number_served, ' - num served')\n",
    "    def open_r(self):\n",
    "        print(f'restaurant {self.r_name} is open')\n",
    "\n",
    "r1 = Restaurant('Ratatue', 'Italian')\n",
    "\n",
    "print(r1.r_name)\n",
    "print(r1.cuisine_type) \n",
    "\n",
    "r1.desctibe_r()\n",
    "r1.open_r()\n",
    "\n",
    "r1.set_num_served(5)\n",
    "r1.increment_num_served()\n",
    "\n",
    "r1.desctibe_r()"
   ]
  },
  {
   "cell_type": "code",
   "execution_count": 470,
   "id": "a8844daf-f277-4de7-b5fc-a620614b1fef",
   "metadata": {},
   "outputs": [],
   "source": [
    "class User():\n",
    "    def __init__(self, first_name, last_name, age):\n",
    "        self.first_name = first_name\n",
    "        self.last_name = last_name\n",
    "        self.age = age\n",
    "    def describe_u(self):\n",
    "        print('Name:', self.first_name, self.last_name)\n",
    "        print('Age:', self.age)\n",
    "    "
   ]
  },
  {
   "cell_type": "code",
   "execution_count": 472,
   "id": "3ff0194a-23b8-4163-926b-7373c9ab7201",
   "metadata": {},
   "outputs": [
    {
     "name": "stdout",
     "output_type": "stream",
     "text": [
      "Name: Stan Kad\n",
      "Age: 31\n"
     ]
    }
   ],
   "source": [
    "user1 = User('Stan', 'Kad', 31)\n",
    "user1.describe_u()"
   ]
  },
  {
   "cell_type": "code",
   "execution_count": null,
   "id": "559d96b6-d540-4314-aa19-7ec85788ab1d",
   "metadata": {},
   "outputs": [],
   "source": [
    "#class inheritance"
   ]
  },
  {
   "cell_type": "code",
   "execution_count": 486,
   "id": "16b630fd-a976-43fc-8bfd-f7b7b27cc442",
   "metadata": {},
   "outputs": [],
   "source": [
    "class IceCreamStand(Restaurant):\n",
    "    def __init__(self, r_name, cuisine_type, flavours):\n",
    "        super().__init__(r_name, cuisine_type)\n",
    "        self.flavours = flavours\n",
    "    def describe_icecream_store(self):\n",
    "        print(self.r_name, 'r_name')\n",
    "        print(self.cuisine_type, 'cuisine_type')\n",
    "        print(self.flavours, 'flavours')\n"
   ]
  },
  {
   "cell_type": "code",
   "execution_count": 490,
   "id": "82b6259f-2d61-47a1-887e-e7c4545b88cc",
   "metadata": {},
   "outputs": [
    {
     "name": "stdout",
     "output_type": "stream",
     "text": [
      "Andys  - Name\n",
      "Desert  - Cuisine\n",
      "0  - num served\n"
     ]
    }
   ],
   "source": [
    "icecream = IceCreamStand('Andys', 'Desert', ['chocolate', 'vanilla'])\n",
    "\n",
    "icecream.desctibe_r()"
   ]
  },
  {
   "cell_type": "code",
   "execution_count": null,
   "id": "b34b8126-378e-4d8d-9f6a-1204ed4c64bf",
   "metadata": {},
   "outputs": [],
   "source": [
    "#9.13 dice"
   ]
  },
  {
   "cell_type": "code",
   "execution_count": 519,
   "id": "7f9bcb5b-1176-4e7e-8efc-e293e902444d",
   "metadata": {},
   "outputs": [],
   "source": [
    "from random import choice\n",
    "\n",
    "class Dice:\n",
    "    def __init__(self, sides_num):\n",
    "        self.sides_num = sides_num\n",
    "\n",
    "    def roll_dice(self):\n",
    "        sides = list(range(1, self.sides_num))\n",
    "        print(choice(sides))\n",
    "\n",
    "\n",
    "    "
   ]
  },
  {
   "cell_type": "code",
   "execution_count": 537,
   "id": "f2c61977-33a2-4e38-9a34-5a9076673667",
   "metadata": {},
   "outputs": [
    {
     "name": "stdout",
     "output_type": "stream",
     "text": [
      "3\n"
     ]
    }
   ],
   "source": [
    "d = Dice(6)\n",
    "d.roll_dice()"
   ]
  },
  {
   "cell_type": "code",
   "execution_count": null,
   "id": "66556024-db7e-4d9f-b0b9-aa3aae40174d",
   "metadata": {},
   "outputs": [],
   "source": [
    "# Lottery"
   ]
  },
  {
   "cell_type": "code",
   "execution_count": 15,
   "id": "55f9cc82-b98f-4422-848d-d4110fcee818",
   "metadata": {},
   "outputs": [],
   "source": [
    "from random import choices\n",
    "class Lottery:\n",
    "    chars = [1,2,3,4,5,6,7,8,9,11,'A', 'B', 'C', 'D', 'E']\n",
    "краси\n",
    "    def __init__(self, char_num):\n",
    "        self.char_num = char_num\n",
    "\n",
    "    def get_seq(self):\n",
    "        print(choices(self.chars, k=self.char_num))\n"
   ]
  },
  {
   "cell_type": "code",
   "execution_count": 19,
   "id": "4754bf3e-4c51-4c85-9798-53132b59725d",
   "metadata": {},
   "outputs": [
    {
     "name": "stdout",
     "output_type": "stream",
     "text": [
      "[11, 'C', 4, 'E']\n"
     ]
    }
   ],
   "source": [
    "l = Lottery(4)\n",
    "l.get_seq()"
   ]
  },
  {
   "cell_type": "code",
   "execution_count": null,
   "id": "0583ce65-1cd2-4e22-8835-16401e00d54f",
   "metadata": {},
   "outputs": [],
   "source": [
    "#read files\n"
   ]
  },
  {
   "cell_type": "code",
   "execution_count": 29,
   "id": "8357f8bd-5a8c-48ea-8676-6c4c7467d060",
   "metadata": {},
   "outputs": [
    {
     "name": "stdout",
     "output_type": "stream",
     "text": [
      "Hello from Py\n"
     ]
    }
   ],
   "source": [
    "from pathlib import Path\n",
    "\n",
    "path = Path('py.txt')\n",
    "content = path.read_text()\n",
    "\n",
    "print(content)"
   ]
  },
  {
   "cell_type": "code",
   "execution_count": 31,
   "id": "5717230a-33f3-466e-ba9a-655488c693ad",
   "metadata": {},
   "outputs": [
    {
     "name": "stdout",
     "output_type": "stream",
     "text": [
      "I love py\n"
     ]
    }
   ],
   "source": [
    "path.write_text('I love py')\n",
    "content = path.read_text()\n",
    "\n",
    "print(content)"
   ]
  },
  {
   "cell_type": "code",
   "execution_count": null,
   "id": "80e80e4d-222b-4f7b-b3fb-15ed6a68f525",
   "metadata": {},
   "outputs": [],
   "source": [
    "#create file with name"
   ]
  },
  {
   "cell_type": "code",
   "execution_count": 43,
   "id": "0d52be61-9e4e-4915-823e-9d131a774a06",
   "metadata": {},
   "outputs": [
    {
     "name": "stdin",
     "output_type": "stream",
     "text": [
      "Please specify your name `\n"
     ]
    },
    {
     "name": "stdout",
     "output_type": "stream",
     "text": [
      "`\n"
     ]
    }
   ],
   "source": [
    "path = Path('Name.txt')\n",
    "name = input('Please specify your name')\n",
    "path.write_text(name)\n",
    "\n",
    "content = path.read_text()\n",
    "print(content)"
   ]
  },
  {
   "cell_type": "code",
   "execution_count": 64,
   "id": "30686690-43ee-435a-b2f8-7762a15cfd50",
   "metadata": {},
   "outputs": [
    {
     "ename": "KeyboardInterrupt",
     "evalue": "Interrupted by user",
     "output_type": "error",
     "traceback": [
      "\u001b[0;31m---------------------------------------------------------------------------\u001b[0m",
      "\u001b[0;31mKeyboardInterrupt\u001b[0m                         Traceback (most recent call last)",
      "Cell \u001b[0;32mIn[64], line 7\u001b[0m\n\u001b[1;32m      4\u001b[0m path\u001b[38;5;241m.\u001b[39mwrite_text(\u001b[38;5;124m'\u001b[39m\u001b[38;5;124m'\u001b[39m)\n\u001b[1;32m      6\u001b[0m \u001b[38;5;28;01mwhile\u001b[39;00m name \u001b[38;5;241m!=\u001b[39m \u001b[38;5;124m'\u001b[39m\u001b[38;5;124mq\u001b[39m\u001b[38;5;124m'\u001b[39m:\n\u001b[0;32m----> 7\u001b[0m     name \u001b[38;5;241m=\u001b[39m \u001b[38;5;28minput\u001b[39m(\u001b[38;5;124m'\u001b[39m\u001b[38;5;124mPlease put here your name or q for quit\u001b[39m\u001b[38;5;124m'\u001b[39m)\n\u001b[1;32m      9\u001b[0m     \u001b[38;5;28;01mif\u001b[39;00m(name \u001b[38;5;241m!=\u001b[39m \u001b[38;5;124m'\u001b[39m\u001b[38;5;124mq\u001b[39m\u001b[38;5;124m'\u001b[39m):\n\u001b[1;32m     10\u001b[0m         \u001b[38;5;28mprint\u001b[39m(\u001b[38;5;124mf\u001b[39m\u001b[38;5;124m'\u001b[39m\u001b[38;5;124mhello dear guest \u001b[39m\u001b[38;5;132;01m{\u001b[39;00mname\u001b[38;5;132;01m}\u001b[39;00m\u001b[38;5;124m'\u001b[39m)\n",
      "File \u001b[0;32m/opt/anaconda3/lib/python3.12/site-packages/ipykernel/kernelbase.py:1262\u001b[0m, in \u001b[0;36mKernel.raw_input\u001b[0;34m(self, prompt)\u001b[0m\n\u001b[1;32m   1260\u001b[0m     msg \u001b[38;5;241m=\u001b[39m \u001b[38;5;124m\"\u001b[39m\u001b[38;5;124mraw_input was called, but this frontend does not support input requests.\u001b[39m\u001b[38;5;124m\"\u001b[39m\n\u001b[1;32m   1261\u001b[0m     \u001b[38;5;28;01mraise\u001b[39;00m StdinNotImplementedError(msg)\n\u001b[0;32m-> 1262\u001b[0m \u001b[38;5;28;01mreturn\u001b[39;00m \u001b[38;5;28mself\u001b[39m\u001b[38;5;241m.\u001b[39m_input_request(\n\u001b[1;32m   1263\u001b[0m     \u001b[38;5;28mstr\u001b[39m(prompt),\n\u001b[1;32m   1264\u001b[0m     \u001b[38;5;28mself\u001b[39m\u001b[38;5;241m.\u001b[39m_parent_ident[\u001b[38;5;124m\"\u001b[39m\u001b[38;5;124mshell\u001b[39m\u001b[38;5;124m\"\u001b[39m],\n\u001b[1;32m   1265\u001b[0m     \u001b[38;5;28mself\u001b[39m\u001b[38;5;241m.\u001b[39mget_parent(\u001b[38;5;124m\"\u001b[39m\u001b[38;5;124mshell\u001b[39m\u001b[38;5;124m\"\u001b[39m),\n\u001b[1;32m   1266\u001b[0m     password\u001b[38;5;241m=\u001b[39m\u001b[38;5;28;01mFalse\u001b[39;00m,\n\u001b[1;32m   1267\u001b[0m )\n",
      "File \u001b[0;32m/opt/anaconda3/lib/python3.12/site-packages/ipykernel/kernelbase.py:1305\u001b[0m, in \u001b[0;36mKernel._input_request\u001b[0;34m(self, prompt, ident, parent, password)\u001b[0m\n\u001b[1;32m   1302\u001b[0m \u001b[38;5;28;01mexcept\u001b[39;00m \u001b[38;5;167;01mKeyboardInterrupt\u001b[39;00m:\n\u001b[1;32m   1303\u001b[0m     \u001b[38;5;66;03m# re-raise KeyboardInterrupt, to truncate traceback\u001b[39;00m\n\u001b[1;32m   1304\u001b[0m     msg \u001b[38;5;241m=\u001b[39m \u001b[38;5;124m\"\u001b[39m\u001b[38;5;124mInterrupted by user\u001b[39m\u001b[38;5;124m\"\u001b[39m\n\u001b[0;32m-> 1305\u001b[0m     \u001b[38;5;28;01mraise\u001b[39;00m \u001b[38;5;167;01mKeyboardInterrupt\u001b[39;00m(msg) \u001b[38;5;28;01mfrom\u001b[39;00m \u001b[38;5;28;01mNone\u001b[39;00m\n\u001b[1;32m   1306\u001b[0m \u001b[38;5;28;01mexcept\u001b[39;00m \u001b[38;5;167;01mException\u001b[39;00m:\n\u001b[1;32m   1307\u001b[0m     \u001b[38;5;28mself\u001b[39m\u001b[38;5;241m.\u001b[39mlog\u001b[38;5;241m.\u001b[39mwarning(\u001b[38;5;124m\"\u001b[39m\u001b[38;5;124mInvalid Message:\u001b[39m\u001b[38;5;124m\"\u001b[39m, exc_info\u001b[38;5;241m=\u001b[39m\u001b[38;5;28;01mTrue\u001b[39;00m)\n",
      "\u001b[0;31mKeyboardInterrupt\u001b[0m: Interrupted by user"
     ]
    }
   ],
   "source": [
    "name = ''\n",
    "path = Path('Guests.txt')\n",
    "\n",
    "path.write_text('')\n",
    "\n",
    "while name != 'q':\n",
    "    name = input('Please put here your name or q for quit')\n",
    "    \n",
    "    if(name != 'q'):\n",
    "        print(f'hello dear guest {name}')\n",
    "        content = path.read_text()\n",
    "        content += f'{name}.\\n'\n",
    "\n",
    "    path.write_text(content)\n",
    "\n",
    "print(Path('Guests.txt').read_text())\n",
    "    "
   ]
  },
  {
   "cell_type": "code",
   "execution_count": null,
   "id": "1f25b86b-58e3-4808-baa2-57ae75c7d60c",
   "metadata": {},
   "outputs": [],
   "source": [
    "#Exeptions "
   ]
  },
  {
   "cell_type": "code",
   "execution_count": 72,
   "id": "9297d2fe-49d7-40f2-967e-74dd0efb71e8",
   "metadata": {},
   "outputs": [
    {
     "name": "stdin",
     "output_type": "stream",
     "text": [
      "Please put a first num here or q for exit 3\n",
      "Please put a second num here 4\n"
     ]
    },
    {
     "name": "stdout",
     "output_type": "stream",
     "text": [
      "7\n"
     ]
    },
    {
     "name": "stdin",
     "output_type": "stream",
     "text": [
      "Please put a first num here or q for exit f3\n",
      "Please put a second num here 3\n"
     ]
    },
    {
     "name": "stdout",
     "output_type": "stream",
     "text": [
      "You put not a num\n"
     ]
    },
    {
     "ename": "KeyboardInterrupt",
     "evalue": "Interrupted by user",
     "output_type": "error",
     "traceback": [
      "\u001b[0;31m---------------------------------------------------------------------------\u001b[0m",
      "\u001b[0;31mKeyboardInterrupt\u001b[0m                         Traceback (most recent call last)",
      "Cell \u001b[0;32mIn[72], line 2\u001b[0m\n\u001b[1;32m      1\u001b[0m \u001b[38;5;28;01mwhile\u001b[39;00m \u001b[38;5;28;01mTrue\u001b[39;00m:\n\u001b[0;32m----> 2\u001b[0m     num1 \u001b[38;5;241m=\u001b[39m \u001b[38;5;28minput\u001b[39m(\u001b[38;5;124m'\u001b[39m\u001b[38;5;124mPlease put a first num here or q for exit\u001b[39m\u001b[38;5;124m'\u001b[39m)\n\u001b[1;32m      4\u001b[0m     \u001b[38;5;28;01mif\u001b[39;00m num1 \u001b[38;5;241m==\u001b[39m \u001b[38;5;124m'\u001b[39m\u001b[38;5;124mq\u001b[39m\u001b[38;5;124m'\u001b[39m:\n\u001b[1;32m      5\u001b[0m         \u001b[38;5;28;01mbreak\u001b[39;00m\n",
      "File \u001b[0;32m/opt/anaconda3/lib/python3.12/site-packages/ipykernel/kernelbase.py:1262\u001b[0m, in \u001b[0;36mKernel.raw_input\u001b[0;34m(self, prompt)\u001b[0m\n\u001b[1;32m   1260\u001b[0m     msg \u001b[38;5;241m=\u001b[39m \u001b[38;5;124m\"\u001b[39m\u001b[38;5;124mraw_input was called, but this frontend does not support input requests.\u001b[39m\u001b[38;5;124m\"\u001b[39m\n\u001b[1;32m   1261\u001b[0m     \u001b[38;5;28;01mraise\u001b[39;00m StdinNotImplementedError(msg)\n\u001b[0;32m-> 1262\u001b[0m \u001b[38;5;28;01mreturn\u001b[39;00m \u001b[38;5;28mself\u001b[39m\u001b[38;5;241m.\u001b[39m_input_request(\n\u001b[1;32m   1263\u001b[0m     \u001b[38;5;28mstr\u001b[39m(prompt),\n\u001b[1;32m   1264\u001b[0m     \u001b[38;5;28mself\u001b[39m\u001b[38;5;241m.\u001b[39m_parent_ident[\u001b[38;5;124m\"\u001b[39m\u001b[38;5;124mshell\u001b[39m\u001b[38;5;124m\"\u001b[39m],\n\u001b[1;32m   1265\u001b[0m     \u001b[38;5;28mself\u001b[39m\u001b[38;5;241m.\u001b[39mget_parent(\u001b[38;5;124m\"\u001b[39m\u001b[38;5;124mshell\u001b[39m\u001b[38;5;124m\"\u001b[39m),\n\u001b[1;32m   1266\u001b[0m     password\u001b[38;5;241m=\u001b[39m\u001b[38;5;28;01mFalse\u001b[39;00m,\n\u001b[1;32m   1267\u001b[0m )\n",
      "File \u001b[0;32m/opt/anaconda3/lib/python3.12/site-packages/ipykernel/kernelbase.py:1305\u001b[0m, in \u001b[0;36mKernel._input_request\u001b[0;34m(self, prompt, ident, parent, password)\u001b[0m\n\u001b[1;32m   1302\u001b[0m \u001b[38;5;28;01mexcept\u001b[39;00m \u001b[38;5;167;01mKeyboardInterrupt\u001b[39;00m:\n\u001b[1;32m   1303\u001b[0m     \u001b[38;5;66;03m# re-raise KeyboardInterrupt, to truncate traceback\u001b[39;00m\n\u001b[1;32m   1304\u001b[0m     msg \u001b[38;5;241m=\u001b[39m \u001b[38;5;124m\"\u001b[39m\u001b[38;5;124mInterrupted by user\u001b[39m\u001b[38;5;124m\"\u001b[39m\n\u001b[0;32m-> 1305\u001b[0m     \u001b[38;5;28;01mraise\u001b[39;00m \u001b[38;5;167;01mKeyboardInterrupt\u001b[39;00m(msg) \u001b[38;5;28;01mfrom\u001b[39;00m \u001b[38;5;28;01mNone\u001b[39;00m\n\u001b[1;32m   1306\u001b[0m \u001b[38;5;28;01mexcept\u001b[39;00m \u001b[38;5;167;01mException\u001b[39;00m:\n\u001b[1;32m   1307\u001b[0m     \u001b[38;5;28mself\u001b[39m\u001b[38;5;241m.\u001b[39mlog\u001b[38;5;241m.\u001b[39mwarning(\u001b[38;5;124m\"\u001b[39m\u001b[38;5;124mInvalid Message:\u001b[39m\u001b[38;5;124m\"\u001b[39m, exc_info\u001b[38;5;241m=\u001b[39m\u001b[38;5;28;01mTrue\u001b[39;00m)\n",
      "\u001b[0;31mKeyboardInterrupt\u001b[0m: Interrupted by user"
     ]
    }
   ],
   "source": [
    "while True:\n",
    "    num1 = input('Please put a first num here or q for exit')\n",
    "    \n",
    "    if num1 == 'q':\n",
    "        break\n",
    "    \n",
    "    num2 = input('Please put a second num here')\n",
    "\n",
    "    try:\n",
    "        print(int(num1) + int(num2))\n",
    "    except ValueError:\n",
    "        print('You put not a num')\n"
   ]
  },
  {
   "cell_type": "code",
   "execution_count": null,
   "id": "7dcd93a1-d0f6-470c-baeb-6fecfd9d3a38",
   "metadata": {},
   "outputs": [],
   "source": [
    "# create and open files 10.8"
   ]
  },
  {
   "cell_type": "code",
   "execution_count": 13,
   "id": "58b3160e-b174-4e10-a8da-23b119fb23b5",
   "metadata": {},
   "outputs": [
    {
     "name": "stdout",
     "output_type": "stream",
     "text": [
      "kitya\n",
      " lola\n",
      " cody\n",
      " jeremie\n",
      "\n",
      "popper\n",
      " gajie\n",
      " ismail\n",
      " romor\n",
      "\n",
      "file <_io.TextIOWrapper name='dogknames.txt' mode='w+' encoding='UTF-8'> could not be found\n"
     ]
    }
   ],
   "source": [
    "with open('catnames.txt', mode='w+') as file:\n",
    "    file.write('kitya\\n lola\\n cody\\n jeremie\\n');\n",
    "    file.seek(0);\n",
    "    try:\n",
    "     data = file.read()\n",
    "    except FileNotFoundError:\n",
    "        print(f'file {file} could not be found');\n",
    "    else:\n",
    "        print(data);\n",
    "\n",
    "with open('dogknames.txt', mode='w+') as file:\n",
    "    file.write('popper\\n gajie\\n ismail\\n romor\\n');\n",
    "    file.seek(0);\n",
    "    data = file.read();\n",
    "    print(data);\n",
    "\n",
    "\n",
    "try:\n",
    "     data = open('catnameseses.txt').read()\n",
    "except FileNotFoundError:\n",
    "        print(f'file {file} could not be found');\n",
    "else:\n",
    "        print(data);\n"
   ]
  },
  {
   "cell_type": "code",
   "execution_count": 15,
   "id": "f3b5df44-0f12-4d58-9d01-6bcf74154e6d",
   "metadata": {},
   "outputs": [],
   "source": [
    "#10.11 favorite num"
   ]
  },
  {
   "cell_type": "code",
   "execution_count": 33,
   "id": "42ca1742-fb65-459b-aa48-385594116b6c",
   "metadata": {},
   "outputs": [],
   "source": [
    "from pathlib import Path\n",
    "\n",
    "def getNnum():\n",
    "\n",
    "    path = Path('UserNum.txt')\n",
    "\n",
    "    try:\n",
    "        num = int(path.read_text())\n",
    "        if num: print(f'ypur num is {num}')\n",
    "    except FileNotFoundError:\n",
    "        print(f'file could not be found, you need to specify ypue name');\n",
    "        content = input('please specify your fav num')\n",
    "        path.write_text(content)\n",
    "        print(f'Now your fav num is {content}')\n",
    "    else:\n",
    "        print('Hey bro')\n",
    "\n",
    "\n",
    "\n",
    "\n"
   ]
  },
  {
   "cell_type": "code",
   "execution_count": 35,
   "id": "3779b4bc-984f-4953-8138-72a9210d4aa4",
   "metadata": {},
   "outputs": [
    {
     "name": "stdout",
     "output_type": "stream",
     "text": [
      "ypur num is 4\n",
      "Hey bro\n"
     ]
    }
   ],
   "source": [
    "getNnum()"
   ]
  },
  {
   "cell_type": "code",
   "execution_count": 63,
   "id": "f127b7a1-c10e-4e11-a03a-205acca9f974",
   "metadata": {},
   "outputs": [],
   "source": [
    "# remember me 10.14"
   ]
  },
  {
   "cell_type": "code",
   "execution_count": 84,
   "id": "c59ee426-82a4-45fd-af3e-c1ddb7a6ce32",
   "metadata": {},
   "outputs": [],
   "source": [
    "from pathlib import Path\n",
    "import json\n",
    "\n",
    "def greetUser():\n",
    "\n",
    "    pathName = 'userName.json'\n",
    "    path = Path(pathName)\n",
    "\n",
    "    try:\n",
    "        storedName = path.read_text()\n",
    "        print(f'your name is {storedName}')\n",
    "    except FileNotFoundError:\n",
    "        print(f'file could not be found, you need to specify your name');\n",
    "        content = input('please specify your name')\n",
    "        path.write_text(content)\n",
    "        print(f'Now your name is {content}')\n",
    "\n"
   ]
  },
  {
   "cell_type": "code",
   "execution_count": 86,
   "id": "7404439c-aa14-47f3-973f-38c68e55e474",
   "metadata": {},
   "outputs": [
    {
     "name": "stdout",
     "output_type": "stream",
     "text": [
      "your name is stan\n"
     ]
    }
   ],
   "source": [
    " greetUser()\n"
   ]
  },
  {
   "cell_type": "markdown",
   "id": "d8bc4739-8d29-4b9a-82a4-006256c7d33a",
   "metadata": {},
   "source": [
    "#tests\n",
    "## class itself\n",
    "class Employee:\n",
    "    def __init__(self, name, surname, salary):\n",
    "        self.name = name\n",
    "        self.surname = surname\n",
    "        self.salary = salary\n",
    "\n",
    "    def give_raise(self, prom = 5000):\n",
    "        self.salary += prom\n",
    "        return self.salary\n",
    "\n",
    "## test\n",
    "import pytest\n",
    "from get_name import Employee\n",
    "\n",
    "pytest.fixture()\n",
    "def employee():\n",
    "    empl = Employee('John', 'Smith', 3000)\n",
    "    return empl\n",
    "\n",
    "def test_give_default_raise():\n",
    "    default_raise = employee().give_raise()\n",
    "    assert default_raise == 8000\n",
    "\n",
    "def test_give_custom_raise():\n",
    "    default_raise = employee().give_raise(8000)\n",
    "    assert default_raise == 11000"
   ]
  }
 ],
 "metadata": {
  "kernelspec": {
   "display_name": "Python [conda env:base] *",
   "language": "python",
   "name": "conda-base-py"
  },
  "language_info": {
   "codemirror_mode": {
    "name": "ipython",
    "version": 3
   },
   "file_extension": ".py",
   "mimetype": "text/x-python",
   "name": "python",
   "nbconvert_exporter": "python",
   "pygments_lexer": "ipython3",
   "version": "3.12.7"
  }
 },
 "nbformat": 4,
 "nbformat_minor": 5
}
