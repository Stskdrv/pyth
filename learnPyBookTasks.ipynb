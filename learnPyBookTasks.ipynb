{
 "cells": [
  {
   "cell_type": "code",
   "execution_count": null,
   "id": "c1cf0992-3e33-44dd-b574-280024ae0f0c",
   "metadata": {},
   "outputs": [],
   "source": [
    "#2.1, 2.2 chapter 53 page"
   ]
  },
  {
   "cell_type": "code",
   "execution_count": 2,
   "id": "22c2914a-af51-47b1-ba3b-f91a6c48b227",
   "metadata": {},
   "outputs": [
    {
     "name": "stdout",
     "output_type": "stream",
     "text": [
      "Hello World\n"
     ]
    }
   ],
   "source": [
    "msg = 'Hello World'\n",
    "print(msg)"
   ]
  },
  {
   "cell_type": "code",
   "execution_count": 4,
   "id": "bbb8813f-e2cc-4d9f-b0b8-8850015b6236",
   "metadata": {},
   "outputs": [
    {
     "name": "stdout",
     "output_type": "stream",
     "text": [
      "Hello World\n",
      "New msg\n"
     ]
    }
   ],
   "source": [
    "msg = 'Hello World'\n",
    "print(msg)\n",
    "\n",
    "msg= 'New msg'\n",
    "print(msg)"
   ]
  },
  {
   "cell_type": "code",
   "execution_count": null,
   "id": "46f7f505-cfa2-4c8e-9a78-3c36ba4cf31d",
   "metadata": {},
   "outputs": [],
   "source": [
    "#2.3 59 page"
   ]
  },
  {
   "cell_type": "code",
   "execution_count": 6,
   "id": "5a5909c2-54ba-42bd-b96a-32d8be55b4bc",
   "metadata": {},
   "outputs": [
    {
     "name": "stdout",
     "output_type": "stream",
     "text": [
      "Hello Stan, nice too see you prcticing Py\n"
     ]
    }
   ],
   "source": [
    "name = 'Stan'\n",
    "\n",
    "msg = f'Hello {name}, nice too see you prcticing Py'\n",
    "print(msg)"
   ]
  },
  {
   "cell_type": "code",
   "execution_count": null,
   "id": "11ebd001-e385-4f7a-b8bf-2dbec5ffa5f7",
   "metadata": {},
   "outputs": [],
   "source": [
    "#2.4-2.8 60 page"
   ]
  },
  {
   "cell_type": "code",
   "execution_count": 8,
   "id": "b85b42a6-5265-4b59-8e9c-345b57b79f3d",
   "metadata": {},
   "outputs": [
    {
     "name": "stdout",
     "output_type": "stream",
     "text": [
      "Stan Kad\n",
      "STAN KAD\n",
      "stan kad\n"
     ]
    }
   ],
   "source": [
    "name = 'stan kad'\n",
    "\n",
    "print(name.title())\n",
    "print(name.upper())\n",
    "print(name.lower())"
   ]
  },
  {
   "cell_type": "code",
   "execution_count": 28,
   "id": "6cd0a8cd-25ee-477a-b4b7-570afc87d124",
   "metadata": {},
   "outputs": [
    {
     "name": "stdout",
     "output_type": "stream",
     "text": [
      "\t Hi Stan \n",
      "\n",
      "Hi Stan \n",
      "\n",
      "\t Hi Stan\n",
      "Hi Stan\n"
     ]
    }
   ],
   "source": [
    "name = '\\t Hi Stan \\n' #https://pythonz.net/references/named/control-characters/\n",
    "print(name)\n",
    "print(name.lstrip())\n",
    "print(name.rstrip())\n",
    "print(name.strip())"
   ]
  },
  {
   "cell_type": "code",
   "execution_count": 40,
   "id": "50f2118a-a4e6-4a31-917d-0699fcc1c901",
   "metadata": {},
   "outputs": [
    {
     "name": "stdout",
     "output_type": "stream",
     "text": [
      "py.txt\n",
      "py\n"
     ]
    }
   ],
   "source": [
    "filename = 'py.txt'\n",
    "print(filename)\n",
    "print(filename.removesuffix('.txt'))"
   ]
  },
  {
   "cell_type": "code",
   "execution_count": 42,
   "id": "74a4a0ed-5d5c-455c-8eab-a0ab6e67c059",
   "metadata": {},
   "outputs": [
    {
     "name": "stdout",
     "output_type": "stream",
     "text": [
      "The Zen of Python, by Tim Peters\n",
      "\n",
      "Beautiful is better than ugly.\n",
      "Explicit is better than implicit.\n",
      "Simple is better than complex.\n",
      "Complex is better than complicated.\n",
      "Flat is better than nested.\n",
      "Sparse is better than dense.\n",
      "Readability counts.\n",
      "Special cases aren't special enough to break the rules.\n",
      "Although practicality beats purity.\n",
      "Errors should never pass silently.\n",
      "Unless explicitly silenced.\n",
      "In the face of ambiguity, refuse the temptation to guess.\n",
      "There should be one-- and preferably only one --obvious way to do it.\n",
      "Although that way may not be obvious at first unless you're Dutch.\n",
      "Now is better than never.\n",
      "Although never is often better than *right* now.\n",
      "If the implementation is hard to explain, it's a bad idea.\n",
      "If the implementation is easy to explain, it may be a good idea.\n",
      "Namespaces are one honking great idea -- let's do more of those!\n"
     ]
    }
   ],
   "source": [
    "import this #zen of Py"
   ]
  },
  {
   "cell_type": "code",
   "execution_count": null,
   "id": "308ec014-6665-449b-83de-8b2746b4ac42",
   "metadata": {},
   "outputs": [],
   "source": [
    "#3 chapter tasks"
   ]
  },
  {
   "cell_type": "code",
   "execution_count": 189,
   "id": "c9c11f7c-b30c-4bd1-a288-cdfb63e4708e",
   "metadata": {},
   "outputs": [
    {
     "name": "stdout",
     "output_type": "stream",
     "text": [
      "Roman\n",
      "Alex\n",
      "Yana\n",
      "Fedor\n"
     ]
    }
   ],
   "source": [
    "names = ['Roman', 'Alex', 'Yana', 'Fedor']\n",
    "\n",
    "for name in names: \n",
    "    print(name)\n"
   ]
  },
  {
   "cell_type": "code",
   "execution_count": 191,
   "id": "ea3ffef8-6b9a-4a54-b076-d5fe27a86fc4",
   "metadata": {},
   "outputs": [
    {
     "name": "stdout",
     "output_type": "stream",
     "text": [
      "Hello, Roman, hope u are dung great today\n",
      "Hello, Alex, hope u are dung great today\n",
      "Hello, Yana, hope u are dung great today\n",
      "Hello, Fedor, hope u are dung great today\n"
     ]
    }
   ],
   "source": [
    "for name in names: \n",
    "    print(f'Hello, {name}, hope u are dung great today')"
   ]
  },
  {
   "cell_type": "code",
   "execution_count": 193,
   "id": "e2be436b-df3a-4e6e-aaae-3e11abaea7ac",
   "metadata": {},
   "outputs": [],
   "source": [
    "# Alex could not join, we will replace him with Sabi"
   ]
  },
  {
   "cell_type": "code",
   "execution_count": 195,
   "id": "2c759993-b107-4e3d-abfb-1977518d664b",
   "metadata": {},
   "outputs": [
    {
     "name": "stdout",
     "output_type": "stream",
     "text": [
      "['Roman', 'Alex', 'Yana', 'Fedor']\n",
      "1\n",
      "['Roman', 'Sabi', 'Yana', 'Fedor']\n"
     ]
    }
   ],
   "source": [
    "index = names.index('Alex')\n",
    "print(names)\n",
    "print(index)\n",
    "\n",
    "names.insert(index, 'Sabi')\n",
    "names.remove('Alex')\n",
    "print(names)"
   ]
  },
  {
   "cell_type": "code",
   "execution_count": 197,
   "id": "f95ca556-8031-40a3-8440-f8b3ca9b5caf",
   "metadata": {},
   "outputs": [
    {
     "name": "stdout",
     "output_type": "stream",
     "text": [
      "Hello, Roman, hope u will join us today\n",
      "Hello, Sabi, hope u will join us today\n",
      "Hello, Yana, hope u will join us today\n",
      "Hello, Fedor, hope u will join us today\n"
     ]
    }
   ],
   "source": [
    "for name in names: \n",
    "    print(f'Hello, {name}, hope u will join us today')"
   ]
  },
  {
   "cell_type": "code",
   "execution_count": 199,
   "id": "04550f0c-9980-4477-bc65-12127a6224eb",
   "metadata": {
    "scrolled": true
   },
   "outputs": [
    {
     "name": "stdout",
     "output_type": "stream",
     "text": [
      "4\n",
      "['Roman', 'Sabi', 'Yana', 'Fedor']\n",
      "['Joe', 'Roman', 'Migo', 'Sabi', 'Yana', 'Fedor', 'Chris']\n"
     ]
    }
   ],
   "source": [
    "names_len = len(names)\n",
    "print(names_len)\n",
    "print(names)\n",
    "names.insert(0, 'Joe')\n",
    "names.insert(names_len//2, 'Migo')\n",
    "names.append('Chris')\n",
    "print(names)"
   ]
  },
  {
   "cell_type": "code",
   "execution_count": 201,
   "id": "f2b7f52c-a541-4ac5-8953-2c9c7c679cc8",
   "metadata": {},
   "outputs": [
    {
     "name": "stdout",
     "output_type": "stream",
     "text": [
      "['Joe', 'Roman', 'Migo', 'Sabi', 'Yana', 'Fedor', 'Chris']\n",
      "Now we have only two guests\n",
      "['Joe', 'Roman']\n"
     ]
    }
   ],
   "source": [
    "print(names)\n",
    "while len(names) > 2: \n",
    "    names.pop()\n",
    "print('Now we have only two guests')\n",
    "print(names)"
   ]
  },
  {
   "cell_type": "code",
   "execution_count": 203,
   "id": "583348e2-ff99-4842-978a-745ab101e8c5",
   "metadata": {},
   "outputs": [
    {
     "name": "stdout",
     "output_type": "stream",
     "text": [
      "[]\n"
     ]
    }
   ],
   "source": [
    "while len(names) > 0:\n",
    "    del names[0]\n",
    "print(names)\n"
   ]
  },
  {
   "cell_type": "code",
   "execution_count": null,
   "id": "9bc33ded-49ff-41e4-ae7e-14e2d630dbda",
   "metadata": {},
   "outputs": [],
   "source": [
    "# 3.8"
   ]
  },
  {
   "cell_type": "code",
   "execution_count": 223,
   "id": "299f43b5-5e30-4f7e-9743-f5ac00a99e11",
   "metadata": {},
   "outputs": [],
   "source": [
    "places = ['Bali', 'Monreal', 'Copenhagen', 'Maldives', 'Sydney', 'New York']"
   ]
  },
  {
   "cell_type": "code",
   "execution_count": 225,
   "id": "8fb18d02-6825-4b34-b21c-eda5081dda0a",
   "metadata": {},
   "outputs": [
    {
     "name": "stdout",
     "output_type": "stream",
     "text": [
      "['Bali', 'Monreal', 'Copenhagen', 'Maldives', 'Sydney', 'New York']\n"
     ]
    }
   ],
   "source": [
    "print(places)"
   ]
  },
  {
   "cell_type": "code",
   "execution_count": 235,
   "id": "fdcd8fd8-e5f3-475e-9d4f-d3cde95a218b",
   "metadata": {},
   "outputs": [
    {
     "name": "stdout",
     "output_type": "stream",
     "text": [
      "['Bali', 'Copenhagen', 'Maldives', 'Monreal', 'New York', 'Sydney']\n"
     ]
    }
   ],
   "source": [
    "print(sorted(places))"
   ]
  },
  {
   "cell_type": "code",
   "execution_count": 237,
   "id": "0aeb11df-0d69-4e62-8a74-47dfb4666afb",
   "metadata": {},
   "outputs": [
    {
     "name": "stdout",
     "output_type": "stream",
     "text": [
      "['Bali', 'Monreal', 'Copenhagen', 'Maldives', 'Sydney', 'New York']\n"
     ]
    }
   ],
   "source": [
    "print(places)"
   ]
  },
  {
   "cell_type": "code",
   "execution_count": 241,
   "id": "b637252a-226b-46e1-a492-37007ffbe58e",
   "metadata": {},
   "outputs": [
    {
     "name": "stdout",
     "output_type": "stream",
     "text": [
      "['Bali', 'Monreal', 'Copenhagen', 'Maldives', 'Sydney', 'New York']\n"
     ]
    }
   ],
   "source": [
    "places.reverse()\n",
    "print(places)"
   ]
  },
  {
   "cell_type": "code",
   "execution_count": 243,
   "id": "ff32a968-d7d3-465e-8728-98a2b5325dff",
   "metadata": {},
   "outputs": [
    {
     "name": "stdout",
     "output_type": "stream",
     "text": [
      "['Bali', 'Copenhagen', 'Maldives', 'Monreal', 'New York', 'Sydney']\n"
     ]
    }
   ],
   "source": [
    "places.sort()\n",
    "print(places)"
   ]
  },
  {
   "cell_type": "code",
   "execution_count": 245,
   "id": "23a5b194-c48f-4ea6-b8f3-f41726dd6c8c",
   "metadata": {},
   "outputs": [
    {
     "ename": "IndexError",
     "evalue": "list index out of range",
     "output_type": "error",
     "traceback": [
      "\u001b[0;31m---------------------------------------------------------------------------\u001b[0m",
      "\u001b[0;31mIndexError\u001b[0m                                Traceback (most recent call last)",
      "Cell \u001b[0;32mIn[245], line 1\u001b[0m\n\u001b[0;32m----> 1\u001b[0m places[\u001b[38;5;241m100\u001b[39m]\n",
      "\u001b[0;31mIndexError\u001b[0m: list index out of range"
     ]
    }
   ],
   "source": [
    "places[100]"
   ]
  },
  {
   "cell_type": "code",
   "execution_count": null,
   "id": "44119b58-dceb-423a-8ab8-1d14298fe8e4",
   "metadata": {},
   "outputs": [],
   "source": [
    "#4.3"
   ]
  },
  {
   "cell_type": "code",
   "execution_count": 251,
   "id": "87a5af41-02cd-41b4-a680-8b6ed6d2cd68",
   "metadata": {},
   "outputs": [
    {
     "name": "stdout",
     "output_type": "stream",
     "text": [
      "[1, 2, 3, 4, 5, 6, 7, 8, 9, 10, 11, 12, 13, 14, 15, 16, 17, 18, 19, 20]\n"
     ]
    }
   ],
   "source": [
    "nums = [val for val in range(1, 21)]\n",
    "print(nums)"
   ]
  },
  {
   "cell_type": "code",
   "execution_count": 255,
   "id": "db525b64-a3f2-489d-8f5d-f760c04355ad",
   "metadata": {},
   "outputs": [
    {
     "name": "stdout",
     "output_type": "stream",
     "text": [
      "[1, 2, 3, 4, 5, 6, 7, 8, 9, 10, 11, 12, 13, 14, 15, 16, 17, 18, 19, 20]\n"
     ]
    }
   ],
   "source": [
    "nums = list(range(1, 21))\n",
    "print(nums)"
   ]
  },
  {
   "cell_type": "code",
   "execution_count": 259,
   "id": "c3e400bf-e2fa-47c5-a4f3-771bd497df3b",
   "metadata": {},
   "outputs": [
    {
     "name": "stdout",
     "output_type": "stream",
     "text": [
      "[1, 3, 5, 7, 9, 11, 13, 15, 17, 19]\n"
     ]
    }
   ],
   "source": [
    "nums = list(range(1, 21, 2))\n",
    "print(nums)"
   ]
  },
  {
   "cell_type": "code",
   "execution_count": 261,
   "id": "136d3dbf-f8e9-4c49-bcd0-4359241428d7",
   "metadata": {},
   "outputs": [
    {
     "name": "stdout",
     "output_type": "stream",
     "text": [
      "[3, 6, 9, 12, 15, 18, 21, 24, 27, 30]\n"
     ]
    }
   ],
   "source": [
    "nums = list(range(3, 31, 3))\n",
    "print(nums)"
   ]
  },
  {
   "cell_type": "code",
   "execution_count": 263,
   "id": "270407d8-d827-4336-9e4a-653f917a6118",
   "metadata": {},
   "outputs": [
    {
     "name": "stdout",
     "output_type": "stream",
     "text": [
      "[1, 8, 27, 64, 125, 216, 343, 512, 729, 1000]\n"
     ]
    }
   ],
   "source": [
    "nums = [val**3 for val in range(1, 11)]\n",
    "print(nums)"
   ]
  },
  {
   "cell_type": "code",
   "execution_count": 265,
   "id": "1cd3bb1d-b72c-42d3-97ff-3a7109938053",
   "metadata": {},
   "outputs": [
    {
     "name": "stdout",
     "output_type": "stream",
     "text": [
      "[1, 8, 27, 64, 125, 216, 343, 512, 729, 1000]\n"
     ]
    }
   ],
   "source": [
    "nums = []\n",
    "\n",
    "for num in range(1,11):\n",
    "    nums.append(num**3);\n",
    "print(nums)"
   ]
  },
  {
   "cell_type": "code",
   "execution_count": null,
   "id": "16c4c047-ff6a-4631-ad78-70472886aba7",
   "metadata": {},
   "outputs": [],
   "source": [
    "#4.10 slices"
   ]
  },
  {
   "cell_type": "code",
   "execution_count": 267,
   "id": "33209f43-c51a-407a-8568-41163ed376d7",
   "metadata": {},
   "outputs": [
    {
     "name": "stdout",
     "output_type": "stream",
     "text": [
      "['Bali', 'Copenhagen', 'Maldives', 'Monreal', 'New York', 'Sydney']\n"
     ]
    }
   ],
   "source": [
    "print(places)"
   ]
  },
  {
   "cell_type": "code",
   "execution_count": 269,
   "id": "6d5f16cd-b66c-4e7c-b7db-d62116357970",
   "metadata": {},
   "outputs": [],
   "source": [
    "newPlaces = places[:]#full copy(shadow)"
   ]
  },
  {
   "cell_type": "code",
   "execution_count": 271,
   "id": "0513d49c-d596-4db4-9aea-8e01bd257988",
   "metadata": {},
   "outputs": [
    {
     "name": "stdout",
     "output_type": "stream",
     "text": [
      "['Bali', 'Copenhagen', 'Maldives', 'Monreal', 'New York', 'Sydney']\n"
     ]
    }
   ],
   "source": [
    "print(newPlaces)"
   ]
  },
  {
   "cell_type": "code",
   "execution_count": 283,
   "id": "cad2b7c8-ade7-442d-ae3a-5b6202df807c",
   "metadata": {},
   "outputs": [
    {
     "name": "stdout",
     "output_type": "stream",
     "text": [
      "['Bali', 'Copenhagen', 'Maldives']\n",
      "['Copenhagen', 'Maldives']\n",
      "['Monreal', 'New York', 'Sydney']\n"
     ]
    }
   ],
   "source": [
    "print(newPlaces[:3])\n",
    "print(newPlaces[1:3])\n",
    "print(newPlaces[-3:])"
   ]
  },
  {
   "cell_type": "code",
   "execution_count": 285,
   "id": "874c9863-ae43-4bfb-a712-79b4b78d08b1",
   "metadata": {},
   "outputs": [
    {
     "name": "stdout",
     "output_type": "stream",
     "text": [
      "['Bali', 'Copenhagen', 'Maldives', 'Monreal', 'New York', 'Sydney', 'Amster']\n",
      "['Bali', 'Copenhagen', 'Maldives', 'Monreal', 'New York', 'Sydney', 'Barca']\n"
     ]
    }
   ],
   "source": [
    "places.append('Amster')\n",
    "newPlaces.append('Barca')\n",
    "print(places)\n",
    "print(newPlaces)"
   ]
  },
  {
   "cell_type": "code",
   "execution_count": 287,
   "id": "7d49bdde-a2f3-4249-8db4-e8b7861dde8d",
   "metadata": {},
   "outputs": [],
   "source": [
    "#4.13 Tuples"
   ]
  },
  {
   "cell_type": "code",
   "execution_count": 289,
   "id": "6fd7e758-abf5-4e06-aeb4-dbf0a52352a9",
   "metadata": {},
   "outputs": [
    {
     "name": "stdout",
     "output_type": "stream",
     "text": [
      "want to take pizza?\n",
      "want to take lasania?\n",
      "want to take soup?\n",
      "want to take chicken brests?\n",
      "want to take meat?\n",
      "want to take fish?\n",
      "We have it all\n"
     ]
    }
   ],
   "source": [
    "menu = ('pizza', 'lasania', 'soup', 'chicken brests', 'meat', 'fish')\n",
    "for item in menu:\n",
    "    print(f'want to take {item}?')\n",
    "print('We have it all')"
   ]
  },
  {
   "cell_type": "code",
   "execution_count": 291,
   "id": "9fdbffd8-aa64-4989-9d6e-a11a5c324331",
   "metadata": {},
   "outputs": [
    {
     "ename": "TypeError",
     "evalue": "'tuple' object does not support item assignment",
     "output_type": "error",
     "traceback": [
      "\u001b[0;31m---------------------------------------------------------------------------\u001b[0m",
      "\u001b[0;31mTypeError\u001b[0m                                 Traceback (most recent call last)",
      "Cell \u001b[0;32mIn[291], line 1\u001b[0m\n\u001b[0;32m----> 1\u001b[0m menu[\u001b[38;5;241m3\u001b[39m] \u001b[38;5;241m=\u001b[39m \u001b[38;5;124m'\u001b[39m\u001b[38;5;124msteak\u001b[39m\u001b[38;5;124m'\u001b[39m\n",
      "\u001b[0;31mTypeError\u001b[0m: 'tuple' object does not support item assignment"
     ]
    }
   ],
   "source": [
    "menu[3] = 'steak' #tuples keep elems const\n"
   ]
  },
  {
   "cell_type": "code",
   "execution_count": 293,
   "id": "77b3b3e0-0c03-40cf-beec-177e744ff2e0",
   "metadata": {},
   "outputs": [
    {
     "name": "stdout",
     "output_type": "stream",
     "text": [
      "want to take pizza?\n",
      "want to take lasania?\n",
      "want to take soup?\n",
      "want to take steak?\n",
      "want to take meat?\n",
      "want to take fish?\n",
      "We have it all\n"
     ]
    }
   ],
   "source": [
    "menu = ('pizza', 'lasania', 'soup', 'steak', 'meat', 'fish')\n",
    "for item in menu:\n",
    "    print(f'want to take {item}?')\n",
    "print('We have it all')"
   ]
  },
  {
   "cell_type": "code",
   "execution_count": null,
   "id": "f83a9ebd-48bb-4af7-8aa3-5e5c2f8364d2",
   "metadata": {},
   "outputs": [],
   "source": [
    "#6 Dictionaies\n"
   ]
  },
  {
   "cell_type": "code",
   "execution_count": null,
   "id": "b8a8abb0-b94c-4fb3-ba66-37ccc3e86333",
   "metadata": {},
   "outputs": [],
   "source": [
    "#6.1"
   ]
  },
  {
   "cell_type": "code",
   "execution_count": 297,
   "id": "155879ed-57f0-4ee8-9fad-d19d6576c157",
   "metadata": {},
   "outputs": [
    {
     "name": "stdout",
     "output_type": "stream",
     "text": [
      "{'name': 'Stan', 'age': 31, 'prof': 'Programmer'}\n"
     ]
    }
   ],
   "source": [
    "person = {\n",
    "    'name': 'Stan',\n",
    "    'age': 31,\n",
    "    'prof': 'Programmer'\n",
    "}\n",
    "\n",
    "print(person)"
   ]
  },
  {
   "cell_type": "code",
   "execution_count": 299,
   "id": "e012816f-a399-4d00-a073-4a355f950c37",
   "metadata": {},
   "outputs": [
    {
     "name": "stdout",
     "output_type": "stream",
     "text": [
      "name: Stan\n",
      "age: 31\n",
      "prof: Programmer\n"
     ]
    }
   ],
   "source": [
    "for key,val in person.items(): #keys() values()\n",
    "    print(f'{key}: {val}')"
   ]
  },
  {
   "cell_type": "code",
   "execution_count": null,
   "id": "8f2ff774-f2f8-43a3-b072-b689dab35aea",
   "metadata": {},
   "outputs": [],
   "source": [
    "#7 cycles"
   ]
  },
  {
   "cell_type": "code",
   "execution_count": 303,
   "id": "3de2b83f-09c4-4ae0-a65a-0c671af4e102",
   "metadata": {},
   "outputs": [
    {
     "name": "stdin",
     "output_type": "stream",
     "text": [
      "Please specify your car VW polo\n"
     ]
    },
    {
     "name": "stdout",
     "output_type": "stream",
     "text": [
      "your car is VW polo\n"
     ]
    }
   ],
   "source": [
    "car = input('Please specify your car');\n",
    "\n",
    "print(f'your car is {car}')"
   ]
  },
  {
   "cell_type": "code",
   "execution_count": 309,
   "id": "24b76335-027b-44fb-9e29-de1dbb53ed71",
   "metadata": {},
   "outputs": [
    {
     "name": "stdin",
     "output_type": "stream",
     "text": [
      "Please specify how many guests will be there? 9\n"
     ]
    },
    {
     "name": "stdout",
     "output_type": "stream",
     "text": [
      "Please wait 20 mins\n"
     ]
    }
   ],
   "source": [
    "guestsNum = int(input('Please specify how many guests will be there?'));\n",
    "\n",
    "if guestsNum < 8:\n",
    "    print('Here is your table')\n",
    "else:\n",
    "    print('Please wait 20 mins')"
   ]
  },
  {
   "cell_type": "code",
   "execution_count": 331,
   "id": "8dbb1117-5846-4986-9113-5f80290249f9",
   "metadata": {},
   "outputs": [
    {
     "name": "stdin",
     "output_type": "stream",
     "text": [
      "Please specify ingredient, or press q+enter to stop:  apple\n"
     ]
    },
    {
     "name": "stdout",
     "output_type": "stream",
     "text": [
      "Item was added.\n"
     ]
    },
    {
     "name": "stdin",
     "output_type": "stream",
     "text": [
      "Please specify ingredient, or press q+enter to stop:  pineapple\n"
     ]
    },
    {
     "name": "stdout",
     "output_type": "stream",
     "text": [
      "Item was added.\n"
     ]
    },
    {
     "name": "stdin",
     "output_type": "stream",
     "text": [
      "Please specify ingredient, or press q+enter to stop:  q\n"
     ]
    },
    {
     "name": "stdout",
     "output_type": "stream",
     "text": [
      "Ingredients you added: ['apple', 'pineapple']\n"
     ]
    }
   ],
   "source": [
    "ingredients = []\n",
    "\n",
    "while True:\n",
    "    item = input('Please specify ingredient, or press q+enter to stop: ')\n",
    "    if item == 'q' or item == '':\n",
    "        break\n",
    "    ingredients.append(item)\n",
    "    print('Item was added.')\n",
    "\n",
    "print(f'Ingredients you added: {ingredients}')"
   ]
  },
  {
   "cell_type": "code",
   "execution_count": null,
   "id": "fd65ef87-c8e5-4fdb-a243-c6be7856972f",
   "metadata": {},
   "outputs": [],
   "source": []
  },
  {
   "cell_type": "code",
   "execution_count": null,
   "id": "9b2ee5da-4ce9-4c35-b51d-1d156d4a0184",
   "metadata": {},
   "outputs": [],
   "source": []
  }
 ],
 "metadata": {
  "kernelspec": {
   "display_name": "Python [conda env:base] *",
   "language": "python",
   "name": "conda-base-py"
  },
  "language_info": {
   "codemirror_mode": {
    "name": "ipython",
    "version": 3
   },
   "file_extension": ".py",
   "mimetype": "text/x-python",
   "name": "python",
   "nbconvert_exporter": "python",
   "pygments_lexer": "ipython3",
   "version": "3.12.7"
  }
 },
 "nbformat": 4,
 "nbformat_minor": 5
}
