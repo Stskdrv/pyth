{
 "cells": [
  {
   "cell_type": "code",
   "execution_count": 1,
   "id": "63430c92-a01c-4f1b-8a86-8e635b8ee4b5",
   "metadata": {},
   "outputs": [
    {
     "name": "stdout",
     "output_type": "stream",
     "text": [
      "Hello world\n"
     ]
    }
   ],
   "source": [
    "print('Hello world')"
   ]
  },
  {
   "cell_type": "code",
   "execution_count": 2,
   "id": "df468a36-e029-4147-80b2-ada0a124cde3",
   "metadata": {},
   "outputs": [
    {
     "data": {
      "text/plain": [
       "12"
      ]
     },
     "execution_count": 2,
     "metadata": {},
     "output_type": "execute_result"
    }
   ],
   "source": [
    "2*6"
   ]
  },
  {
   "cell_type": "code",
   "execution_count": 3,
   "id": "8a7686de-1c23-4a3d-a8fb-63bfe79ec798",
   "metadata": {},
   "outputs": [
    {
     "data": {
      "text/plain": [
       "12.0"
      ]
     },
     "execution_count": 3,
     "metadata": {},
     "output_type": "execute_result"
    }
   ],
   "source": [
    "24/2"
   ]
  },
  {
   "cell_type": "code",
   "execution_count": 4,
   "id": "12b07ec8-47f2-43d9-8094-b1b1aee35081",
   "metadata": {},
   "outputs": [
    {
     "data": {
      "text/plain": [
       "12"
      ]
     },
     "execution_count": 4,
     "metadata": {},
     "output_type": "execute_result"
    }
   ],
   "source": [
    "2**3+4"
   ]
  },
  {
   "cell_type": "code",
   "execution_count": 5,
   "id": "964c03d2-04a1-4834-b023-95ea696a36f0",
   "metadata": {},
   "outputs": [],
   "source": [
    "name = 'John Snow'\n",
    "age = 29"
   ]
  },
  {
   "cell_type": "code",
   "execution_count": 6,
   "id": "7ba92338-ef47-4ba3-821f-074418fc69fb",
   "metadata": {},
   "outputs": [
    {
     "name": "stdout",
     "output_type": "stream",
     "text": [
      "John Snow 29\n"
     ]
    }
   ],
   "source": [
    "print(name, age)"
   ]
  },
  {
   "cell_type": "code",
   "execution_count": 7,
   "id": "eee083de-378a-4dc8-8009-07bbf8515eee",
   "metadata": {},
   "outputs": [
    {
     "data": {
      "text/plain": [
       "'/Users/stanislavkadyrov/Documents/python'"
      ]
     },
     "execution_count": 7,
     "metadata": {},
     "output_type": "execute_result"
    }
   ],
   "source": [
    "pwd"
   ]
  },
  {
   "cell_type": "code",
   "execution_count": 8,
   "id": "ee185974-2c97-48ab-9451-8796a55ce533",
   "metadata": {},
   "outputs": [
    {
     "name": "stdout",
     "output_type": "stream",
     "text": [
      "lol, working\n"
     ]
    }
   ],
   "source": [
    "with open('file.txt', mode='w+') as file:\n",
    "    file.write('lol, working');\n",
    "    file.seek(0);\n",
    "    data = file.read();\n",
    "    print(data);"
   ]
  },
  {
   "cell_type": "code",
   "execution_count": 17,
   "id": "603412ac-237d-41b0-9719-44da4c054680",
   "metadata": {},
   "outputs": [
    {
     "data": {
      "text/plain": [
       "'utf-8'"
      ]
     },
     "execution_count": 17,
     "metadata": {},
     "output_type": "execute_result"
    }
   ],
   "source": [
    "import sys\n",
    "sys.getdefaultencoding()"
   ]
  },
  {
   "cell_type": "code",
   "execution_count": 19,
   "id": "cf8cdf9b-bd1c-44be-96b8-957c1b0284bb",
   "metadata": {},
   "outputs": [
    {
     "data": {
      "text/plain": [
       "97"
      ]
     },
     "execution_count": 19,
     "metadata": {},
     "output_type": "execute_result"
    }
   ],
   "source": [
    "ord('a)"
   ]
  },
  {
   "cell_type": "code",
   "execution_count": 21,
   "id": "87763360-c562-4401-a3b4-339290caa44c",
   "metadata": {},
   "outputs": [
    {
     "data": {
      "text/plain": [
       "'Ń'"
      ]
     },
     "execution_count": 21,
     "metadata": {},
     "output_type": "execute_result"
    }
   ],
   "source": [
    "chr(323)\n"
   ]
  },
  {
   "cell_type": "code",
   "execution_count": 172,
   "id": "b34d82b7-7b23-4ebf-8236-e0e8731b4dbb",
   "metadata": {},
   "outputs": [
    {
     "name": "stdout",
     "output_type": "stream",
     "text": [
      "Attempt 1, Type a num 2\n"
     ]
    },
    {
     "name": "stdout",
     "output_type": "stream",
     "text": [
      "Yoy should try bigger num\n"
     ]
    },
    {
     "name": "stdout",
     "output_type": "stream",
     "text": [
      "Attempt 2, Type a num 2\n"
     ]
    },
    {
     "name": "stdout",
     "output_type": "stream",
     "text": [
      "Yoy should try bigger num\n"
     ]
    },
    {
     "name": "stdout",
     "output_type": "stream",
     "text": [
      "Attempt 3, Type a num 5\n"
     ]
    },
    {
     "name": "stdout",
     "output_type": "stream",
     "text": [
      "Hey, you score!\n"
     ]
    }
   ],
   "source": [
    "def guessNum():\n",
    "    secretNum = random.randint(1,10);\n",
    "    attempts = 6;\n",
    "\n",
    "    for attempt in range(1, attempts +1): \n",
    "        try: \n",
    "            guess = int(input(f'Attempt {attempt}, Type a num'))\n",
    "            if guess == secretNum:\n",
    "                print('Hey, you score!');\n",
    "                return\n",
    "            hint = 'bigger' if guess < secretNum else 'smaller'\n",
    "            print(f'Yoy should try {hint} num')\n",
    "        except ValueError:\n",
    "            print('You should use integral num')\n",
    "    print(f'You used all tryes, num was {secretNum}')\n",
    "\n",
    "guessNum();"
   ]
  },
  {
   "cell_type": "code",
   "execution_count": 38,
   "id": "74c9369b-7cce-4141-bbac-5ad7d7beff71",
   "metadata": {},
   "outputs": [
    {
     "name": "stdin",
     "output_type": "stream",
     "text": [
      "Please insert amount of sticks or it will be 10 by default 10\n",
      "Insert first player name 2\n",
      "Insert second player name 2\n"
     ]
    },
    {
     "name": "stdout",
     "output_type": "stream",
     "text": [
      "there are 10 sticks left, please take 1,2 or 3 sticks\n"
     ]
    },
    {
     "name": "stdin",
     "output_type": "stream",
     "text": [
      "2 how many sticks will you take? 3\n"
     ]
    },
    {
     "name": "stdout",
     "output_type": "stream",
     "text": [
      "there are 7 sticks left, please take 1,2 or 3 sticks\n"
     ]
    },
    {
     "name": "stdin",
     "output_type": "stream",
     "text": [
      "2 how many sticks will you take? 2\n"
     ]
    },
    {
     "name": "stdout",
     "output_type": "stream",
     "text": [
      "there are 5 sticks left, please take 1,2 or 3 sticks\n"
     ]
    },
    {
     "name": "stdin",
     "output_type": "stream",
     "text": [
      "2 how many sticks will you take? 3\n"
     ]
    },
    {
     "name": "stdout",
     "output_type": "stream",
     "text": [
      "there are 2 sticks left, please take 1,2 or 3 sticks\n"
     ]
    },
    {
     "name": "stdin",
     "output_type": "stream",
     "text": [
      "2 how many sticks will you take? 33\n"
     ]
    },
    {
     "name": "stdout",
     "output_type": "stream",
     "text": [
      "You can take only 1, 2 or 3 of sticks\n",
      "there are 2 sticks left, please take 1,2 or 3 sticks\n"
     ]
    },
    {
     "name": "stdin",
     "output_type": "stream",
     "text": [
      "2 how many sticks will you take? 3\n"
     ]
    },
    {
     "name": "stdout",
     "output_type": "stream",
     "text": [
      "You can take up to 2\n",
      "there are 2 sticks left, please take 1,2 or 3 sticks\n"
     ]
    },
    {
     "name": "stdin",
     "output_type": "stream",
     "text": [
      "2 how many sticks will you take? 3\n"
     ]
    },
    {
     "name": "stdout",
     "output_type": "stream",
     "text": [
      "You can take up to 2\n",
      "there are 2 sticks left, please take 1,2 or 3 sticks\n"
     ]
    },
    {
     "name": "stdin",
     "output_type": "stream",
     "text": [
      "2 how many sticks will you take? 3\n"
     ]
    },
    {
     "name": "stdout",
     "output_type": "stream",
     "text": [
      "You can take up to 2\n",
      "there are 2 sticks left, please take 1,2 or 3 sticks\n"
     ]
    },
    {
     "name": "stdin",
     "output_type": "stream",
     "text": [
      "2 how many sticks will you take? 3\n"
     ]
    },
    {
     "name": "stdout",
     "output_type": "stream",
     "text": [
      "You can take up to 2\n",
      "there are 2 sticks left, please take 1,2 or 3 sticks\n"
     ]
    },
    {
     "name": "stdin",
     "output_type": "stream",
     "text": [
      "2 how many sticks will you take? 33\n"
     ]
    },
    {
     "name": "stdout",
     "output_type": "stream",
     "text": [
      "You can take only 1, 2 or 3 of sticks\n",
      "there are 2 sticks left, please take 1,2 or 3 sticks\n"
     ]
    },
    {
     "name": "stdin",
     "output_type": "stream",
     "text": [
      "2 how many sticks will you take? 3\n"
     ]
    },
    {
     "name": "stdout",
     "output_type": "stream",
     "text": [
      "You can take up to 2\n",
      "there are 2 sticks left, please take 1,2 or 3 sticks\n"
     ]
    },
    {
     "name": "stdin",
     "output_type": "stream",
     "text": [
      "2 how many sticks will you take? 3\n"
     ]
    },
    {
     "name": "stdout",
     "output_type": "stream",
     "text": [
      "You can take up to 2\n",
      "there are 2 sticks left, please take 1,2 or 3 sticks\n"
     ]
    },
    {
     "name": "stdin",
     "output_type": "stream",
     "text": [
      "2 how many sticks will you take? 3\n"
     ]
    },
    {
     "name": "stdout",
     "output_type": "stream",
     "text": [
      "You can take up to 2\n",
      "there are 2 sticks left, please take 1,2 or 3 sticks\n"
     ]
    },
    {
     "name": "stdin",
     "output_type": "stream",
     "text": [
      "2 how many sticks will you take? 33\n"
     ]
    },
    {
     "name": "stdout",
     "output_type": "stream",
     "text": [
      "You can take only 1, 2 or 3 of sticks\n",
      "there are 2 sticks left, please take 1,2 or 3 sticks\n"
     ]
    },
    {
     "name": "stdin",
     "output_type": "stream",
     "text": [
      "2 how many sticks will you take? 33\n"
     ]
    },
    {
     "name": "stdout",
     "output_type": "stream",
     "text": [
      "You can take only 1, 2 or 3 of sticks\n",
      "there are 2 sticks left, please take 1,2 or 3 sticks\n"
     ]
    },
    {
     "name": "stdin",
     "output_type": "stream",
     "text": [
      "2 how many sticks will you take? \n"
     ]
    },
    {
     "name": "stdout",
     "output_type": "stream",
     "text": [
      "You can take only integer amount of sticks\n",
      "there are 2 sticks left, please take 1,2 or 3 sticks\n"
     ]
    },
    {
     "name": "stdin",
     "output_type": "stream",
     "text": [
      "2 how many sticks will you take? 3\n"
     ]
    },
    {
     "name": "stdout",
     "output_type": "stream",
     "text": [
      "You can take up to 2\n",
      "there are 2 sticks left, please take 1,2 or 3 sticks\n"
     ]
    },
    {
     "name": "stdin",
     "output_type": "stream",
     "text": [
      "2 how many sticks will you take? 3\n"
     ]
    },
    {
     "name": "stdout",
     "output_type": "stream",
     "text": [
      "You can take up to 2\n",
      "there are 2 sticks left, please take 1,2 or 3 sticks\n"
     ]
    },
    {
     "name": "stdin",
     "output_type": "stream",
     "text": [
      "2 how many sticks will you take? 333\n"
     ]
    },
    {
     "name": "stdout",
     "output_type": "stream",
     "text": [
      "You can take only 1, 2 or 3 of sticks\n",
      "there are 2 sticks left, please take 1,2 or 3 sticks\n"
     ]
    },
    {
     "name": "stdin",
     "output_type": "stream",
     "text": [
      "2 how many sticks will you take? 2\n"
     ]
    },
    {
     "name": "stdout",
     "output_type": "stream",
     "text": [
      "2 took last stick and loose the game\n"
     ]
    }
   ],
   "source": [
    "def stickGame():\n",
    "    totalAmount = int(input('Please insert amount of sticks or it will be 10 by default') or 10)\n",
    "\n",
    "    player1 = input('Insert first player name') or 'Player1'\n",
    "    player2 = input('Insert second player name') or 'Player2'\n",
    "\n",
    "    players = [player1, player2];\n",
    "\n",
    "    turn = 0\n",
    "\n",
    "    while totalAmount > 0: \n",
    "        try:\n",
    "            print(f'there are {totalAmount} sticks left, please take 1,2 or 3 sticks')\n",
    "            takenAmount = int(input(f'{players[turn]} how many sticks will you take?'))\n",
    "            if takenAmount not in [1,2,3]:\n",
    "             print('You can take only 1, 2 or 3 of sticks')\n",
    "             continue\n",
    "            if takenAmount > totalAmount:\n",
    "             print(f'You can take up to {totalAmount}')\n",
    "            continue\n",
    "            \n",
    "            \n",
    "            totalAmount -= takenAmount\n",
    "            turn = 1 - turn\n",
    "        except ValueError:\n",
    "             print('You can take only integer amount of sticks')\n",
    "\n",
    "\n",
    "    print(f'{players[turn]} took last stick and loose the game')\n",
    "\n",
    "stickGame()\n",
    "        \n",
    "    "
   ]
  },
  {
   "cell_type": "code",
   "execution_count": 7,
   "id": "dd40d59d-240c-4327-9510-f36ace5dc44b",
   "metadata": {},
   "outputs": [
    {
     "data": {
      "text/plain": [
       "[1, 4, 9, 16, 25]"
      ]
     },
     "execution_count": 7,
     "metadata": {},
     "output_type": "execute_result"
    }
   ],
   "source": [
    "def squares(*args):\n",
    "    return [x*x for x in args]\n",
    "res = squares(1,2,3,4,5)\n",
    "res"
   ]
  },
  {
   "cell_type": "code",
   "execution_count": 28,
   "id": "a98e86e8-89ab-467b-9b01-488a6f97ff1a",
   "metadata": {},
   "outputs": [
    {
     "name": "stdout",
     "output_type": "stream",
     "text": [
      "[1, 4, 9, 16, 25]\n"
     ]
    }
   ],
   "source": [
    "def square(num):\n",
    "    return num*num\n",
    "nums = [1,2,3,4,5]\n",
    "\n",
    "res = map(square, nums);\n",
    "nums\n",
    "print(list(res))"
   ]
  },
  {
   "cell_type": "code",
   "execution_count": 32,
   "id": "4c03e528-df8d-4b12-87de-5c6a102d0663",
   "metadata": {},
   "outputs": [
    {
     "name": "stdout",
     "output_type": "stream",
     "text": [
      "[25, 38]\n"
     ]
    }
   ],
   "source": [
    "def isAdult(age):\n",
    "    return age>=18\n",
    "ages = [10, 15,25,38]\n",
    "res = filter(isAdult, ages)\n",
    "print(list(res))"
   ]
  },
  {
   "cell_type": "code",
   "execution_count": 36,
   "id": "c7514ca8-4aa1-4e62-bcba-6988cd2d44ec",
   "metadata": {},
   "outputs": [
    {
     "data": {
      "text/plain": [
       "[25, 38]"
      ]
     },
     "execution_count": 36,
     "metadata": {},
     "output_type": "execute_result"
    }
   ],
   "source": [
    "isAdult = lambda age: age>=18\n",
    "list(filter(isAdult, ages))\n"
   ]
  },
  {
   "cell_type": "code",
   "execution_count": 43,
   "id": "c76ac071-71d3-442d-9fcc-175a2d52f683",
   "metadata": {},
   "outputs": [],
   "source": [
    "# Function scopes"
   ]
  },
  {
   "cell_type": "code",
   "execution_count": 9,
   "id": "f8c35391-28c2-481e-a6a9-0cf0195e8024",
   "metadata": {},
   "outputs": [
    {
     "name": "stdout",
     "output_type": "stream",
     "text": [
      "hello from enclosing scope\n",
      "Hello from global scope\n"
     ]
    }
   ],
   "source": [
    "greeting = 'Hello from global scope'\n",
    "def greet():\n",
    "        greeting = 'hello from enclosing scope'\n",
    "        def nested():\n",
    "            #greeting = 'Hello from local scope'\n",
    "            print(greeting)\n",
    "        nested()\n",
    "greet()\n",
    "print(greeting)"
   ]
  },
  {
   "cell_type": "code",
   "execution_count": 11,
   "id": "9e06f553-b714-4ece-8d12-d49d03847dbd",
   "metadata": {},
   "outputs": [],
   "source": [
    "#Decorators"
   ]
  },
  {
   "cell_type": "code",
   "execution_count": 13,
   "id": "dc5defcb-b6ae-4e51-a20e-98fede555a6c",
   "metadata": {},
   "outputs": [
    {
     "name": "stdout",
     "output_type": "stream",
     "text": [
      "hello world\n"
     ]
    }
   ],
   "source": [
    "def helloWorld(): \n",
    "    print('hello world')\n",
    "helloWorld() "
   ]
  },
  {
   "cell_type": "code",
   "execution_count": 15,
   "id": "407b6167-3644-489d-8b82-d325f19450ec",
   "metadata": {},
   "outputs": [],
   "source": [
    "hello = helloWorld"
   ]
  },
  {
   "cell_type": "code",
   "execution_count": 17,
   "id": "d95e1909-09fc-4373-a977-494352f06341",
   "metadata": {},
   "outputs": [
    {
     "name": "stdout",
     "output_type": "stream",
     "text": [
      "hello world\n"
     ]
    }
   ],
   "source": [
    "hello()"
   ]
  },
  {
   "cell_type": "code",
   "execution_count": 19,
   "id": "d7f11c29-33d8-4dcb-9dd3-de8a3b490885",
   "metadata": {},
   "outputs": [
    {
     "name": "stdout",
     "output_type": "stream",
     "text": [
      "calling foo - <function hello at 0x1661a2f20>\n",
      "Hello world\n",
      "finished with foo - <function hello at 0x1661a2f20>\n"
     ]
    }
   ],
   "source": [
    "def logDecorator(foo):\n",
    "    def wrap(*args, **kwargs):\n",
    "        print(f'calling foo - {foo}')\n",
    "        foo(*args, **kwargs)\n",
    "        print(f'finished with foo - {foo}')\n",
    "    return wrap\n",
    "\n",
    "def hello():\n",
    "    print('Hello world')\n",
    "\n",
    "wrappedFoo = logDecorator(hello)\n",
    "wrappedFoo()"
   ]
  },
  {
   "cell_type": "code",
   "execution_count": 21,
   "id": "0eb304fc-4a9e-42f2-bce3-09885473f6ad",
   "metadata": {},
   "outputs": [],
   "source": [
    "@logDecorator\n",
    "def hello():\n",
    "    print('Hello world')"
   ]
  },
  {
   "cell_type": "code",
   "execution_count": 23,
   "id": "9b4e42d5-cf53-4155-99ec-9bf089af890a",
   "metadata": {},
   "outputs": [
    {
     "name": "stdout",
     "output_type": "stream",
     "text": [
      "calling foo - <function hello at 0x1661a3380>\n",
      "Hello world\n",
      "finished with foo - <function hello at 0x1661a3380>\n"
     ]
    }
   ],
   "source": [
    "hello()"
   ]
  },
  {
   "cell_type": "code",
   "execution_count": 25,
   "id": "3a376998-d461-481a-b581-abf444603013",
   "metadata": {},
   "outputs": [
    {
     "name": "stdout",
     "output_type": "stream",
     "text": [
      "Help on function wrap in module __main__:\n",
      "\n",
      "wrap(*args, **kwargs)\n",
      "\n"
     ]
    }
   ],
   "source": [
    "help(hello)"
   ]
  },
  {
   "cell_type": "code",
   "execution_count": null,
   "id": "7fdf7af9-b686-4123-87c4-8ab568705351",
   "metadata": {},
   "outputs": [],
   "source": [
    "#wraps decorator helps with introspectors - more stable and predictable path"
   ]
  },
  {
   "cell_type": "code",
   "execution_count": 27,
   "id": "bd7ef428-274a-41fe-a326-4bb5f1ab5b97",
   "metadata": {},
   "outputs": [],
   "source": [
    "from functools import wraps\n",
    "\n",
    "def logDecorator(foo):\n",
    "    @wraps(foo)\n",
    "    def wrap(*args, **kwargs):\n",
    "        print(f'calling foo - {foo}')\n",
    "        foo(*args, **kwargs)\n",
    "        print(f'finished with foo - {foo}')\n",
    "    return wrap\n"
   ]
  },
  {
   "cell_type": "code",
   "execution_count": 29,
   "id": "f698c5e7-6960-42d2-b99c-f9dd73b8a7a9",
   "metadata": {},
   "outputs": [],
   "source": [
    "@logDecorator\n",
    "def hello():\n",
    "    print('Hello world')"
   ]
  },
  {
   "cell_type": "code",
   "execution_count": 31,
   "id": "c1b267f7-8109-494d-b92f-c64ab295320d",
   "metadata": {},
   "outputs": [
    {
     "name": "stdout",
     "output_type": "stream",
     "text": [
      "Help on function hello in module __main__:\n",
      "\n",
      "hello()\n",
      "\n"
     ]
    }
   ],
   "source": [
    "help(hello)"
   ]
  },
  {
   "cell_type": "code",
   "execution_count": null,
   "id": "9db58453-99f7-4657-87e3-75fe523d0a72",
   "metadata": {},
   "outputs": [],
   "source": [
    "#Write a foo that takes string - romulan nums and returns arabic one I - 1 V - 5 X - 10 L - 50 C - 100 D - 500 M - 1000"
   ]
  },
  {
   "cell_type": "code",
   "execution_count": 97,
   "id": "e5eed9d9-d7c6-4619-a097-eae903aca1f4",
   "metadata": {},
   "outputs": [
    {
     "data": {
      "text/plain": [
       "4"
      ]
     },
     "execution_count": 97,
     "metadata": {},
     "output_type": "execute_result"
    }
   ],
   "source": [
    "romList = ('I', 'V', 'X', 'L', 'C', 'D', 'M')\n",
    "arabList = (1, 5, 10, 50, 100, 500, 1000)\n",
    "def transformNums(rom):\n",
    "    result = 0\n",
    "    numsDict = dict(zip(romList, arabList))\n",
    "\n",
    "    for i, char in enumerate(rom):\n",
    "        if i < len(rom) - 1 and numsDict[char] < numsDict[rom[i + 1]]:\n",
    "            result -= numsDict[char]\n",
    "        else:\n",
    "            result += numsDict[char]\n",
    "\n",
    "    return result\n",
    "\n",
    "\n",
    "transformNums('IV')"
   ]
  },
  {
   "cell_type": "code",
   "execution_count": null,
   "id": "294bbf3c-badc-4280-99bc-f56ce9df226d",
   "metadata": {},
   "outputs": [],
   "source": [
    "#Errors and exceptiona handling"
   ]
  },
  {
   "cell_type": "code",
   "execution_count": 1,
   "id": "223f750d-6bd4-43a8-b9ba-79edc5f3cee6",
   "metadata": {},
   "outputs": [],
   "source": [
    "def divide1(a,b):\n",
    "    return print(a/b);"
   ]
  },
  {
   "cell_type": "code",
   "execution_count": 19,
   "id": "25a7a58f-3bae-4e2d-a3f1-213b28707b57",
   "metadata": {},
   "outputs": [
    {
     "name": "stdout",
     "output_type": "stream",
     "text": [
      "2.0\n"
     ]
    }
   ],
   "source": [
    "divide1(4,2)"
   ]
  },
  {
   "cell_type": "code",
   "execution_count": 21,
   "id": "0a1be2f8-f7cc-4b66-8361-d3cc59aa2037",
   "metadata": {},
   "outputs": [
    {
     "ename": "ZeroDivisionError",
     "evalue": "division by zero",
     "output_type": "error",
     "traceback": [
      "\u001b[0;31m---------------------------------------------------------------------------\u001b[0m",
      "\u001b[0;31mZeroDivisionError\u001b[0m                         Traceback (most recent call last)",
      "Cell \u001b[0;32mIn[21], line 1\u001b[0m\n\u001b[0;32m----> 1\u001b[0m divide1(\u001b[38;5;241m2\u001b[39m,\u001b[38;5;241m0\u001b[39m)\n",
      "Cell \u001b[0;32mIn[1], line 2\u001b[0m, in \u001b[0;36mdivide1\u001b[0;34m(a, b)\u001b[0m\n\u001b[1;32m      1\u001b[0m \u001b[38;5;28;01mdef\u001b[39;00m \u001b[38;5;21mdivide1\u001b[39m(a,b):\n\u001b[0;32m----> 2\u001b[0m     \u001b[38;5;28;01mreturn\u001b[39;00m \u001b[38;5;28mprint\u001b[39m(a\u001b[38;5;241m/\u001b[39mb)\n",
      "\u001b[0;31mZeroDivisionError\u001b[0m: division by zero"
     ]
    }
   ],
   "source": [
    "divide1(2,0)"
   ]
  },
  {
   "cell_type": "code",
   "execution_count": 25,
   "id": "71b0a815-1e99-423e-ada5-eb5bf7123528",
   "metadata": {},
   "outputs": [],
   "source": [
    "def divide2(a,b):\n",
    "    try:\n",
    "        return print(a/b);\n",
    "    except:\n",
    "        print(f'woop, we have an error')"
   ]
  },
  {
   "cell_type": "code",
   "execution_count": 27,
   "id": "545eb5b8-be98-4e9f-bbfc-ccb6cb16119a",
   "metadata": {},
   "outputs": [
    {
     "name": "stdout",
     "output_type": "stream",
     "text": [
      "woop, we have an error\n"
     ]
    }
   ],
   "source": [
    "divide2(2,'ha')"
   ]
  },
  {
   "cell_type": "code",
   "execution_count": null,
   "id": "18796f8a-ac77-4f63-b096-981ff7987786",
   "metadata": {},
   "outputs": [],
   "source": [
    "#task"
   ]
  },
  {
   "cell_type": "code",
   "execution_count": 33,
   "id": "1f4f293e-a18e-49c6-a326-ef6f2844ab97",
   "metadata": {},
   "outputs": [],
   "source": [
    "def getInt():\n",
    "    while True:\n",
    "        try:\n",
    "            reply = int(input('Enter any num...'));\n",
    "            return print(reply);\n",
    "        except:\n",
    "            print('Not a num, try again')\n",
    "            continue"
   ]
  },
  {
   "cell_type": "code",
   "execution_count": 35,
   "id": "4f3ebb72-5c2b-4481-b9c8-86f011c70452",
   "metadata": {},
   "outputs": [
    {
     "name": "stdin",
     "output_type": "stream",
     "text": [
      "Enter any num... fd\n"
     ]
    },
    {
     "name": "stdout",
     "output_type": "stream",
     "text": [
      "Not a num, try again\n"
     ]
    },
    {
     "name": "stdin",
     "output_type": "stream",
     "text": [
      "Enter any num... ee\n"
     ]
    },
    {
     "name": "stdout",
     "output_type": "stream",
     "text": [
      "Not a num, try again\n"
     ]
    },
    {
     "name": "stdin",
     "output_type": "stream",
     "text": [
      "Enter any num... 3\n"
     ]
    },
    {
     "name": "stdout",
     "output_type": "stream",
     "text": [
      "3\n"
     ]
    }
   ],
   "source": [
    "getInt()"
   ]
  },
  {
   "cell_type": "code",
   "execution_count": null,
   "id": "8af4a346-44b2-4f6d-91e1-6c6a78d07e67",
   "metadata": {},
   "outputs": [],
   "source": [
    "#Custom exceptions with RAISE"
   ]
  },
  {
   "cell_type": "code",
   "execution_count": 44,
   "id": "32166261-851e-4a55-ae50-aa7a1dbd2f4e",
   "metadata": {},
   "outputs": [],
   "source": [
    "import math\n",
    "\n",
    "def calcSquareTriangle(ab,ac, bc):\n",
    "    if ab<=0 or ac<=0 or bc <=0:\n",
    "        raise ValueError('One of the sides is less or equal to 0')\n",
    "    p = (ab + bc + ac) / 2\n",
    "    s = math.sqrt(p* (p-ab) * (p-ac) * (p-bc))\n",
    "\n",
    "    return print(s)\n",
    "\n"
   ]
  },
  {
   "cell_type": "code",
   "execution_count": 46,
   "id": "6962b2bf-12bd-4b4c-be61-310b1df3caa7",
   "metadata": {},
   "outputs": [
    {
     "name": "stdout",
     "output_type": "stream",
     "text": [
      "3.897114317029974\n"
     ]
    }
   ],
   "source": [
    "calcSquareTriangle(3,3,3)"
   ]
  },
  {
   "cell_type": "code",
   "execution_count": 48,
   "id": "cbee6a95-dfb8-4d1b-887e-777103a8c2b2",
   "metadata": {},
   "outputs": [
    {
     "ename": "ValueError",
     "evalue": "One of the sides is less or equal to 0",
     "output_type": "error",
     "traceback": [
      "\u001b[0;31m---------------------------------------------------------------------------\u001b[0m",
      "\u001b[0;31mValueError\u001b[0m                                Traceback (most recent call last)",
      "Cell \u001b[0;32mIn[48], line 1\u001b[0m\n\u001b[0;32m----> 1\u001b[0m calcSquareTriangle(\u001b[38;5;241m3\u001b[39m,\u001b[38;5;241m-\u001b[39m\u001b[38;5;241m3\u001b[39m,\u001b[38;5;241m3\u001b[39m)\n",
      "Cell \u001b[0;32mIn[44], line 5\u001b[0m, in \u001b[0;36mcalcSquareTriangle\u001b[0;34m(ab, ac, bc)\u001b[0m\n\u001b[1;32m      3\u001b[0m \u001b[38;5;28;01mdef\u001b[39;00m \u001b[38;5;21mcalcSquareTriangle\u001b[39m(ab,ac, bc):\n\u001b[1;32m      4\u001b[0m     \u001b[38;5;28;01mif\u001b[39;00m ab\u001b[38;5;241m<\u001b[39m\u001b[38;5;241m=\u001b[39m\u001b[38;5;241m0\u001b[39m \u001b[38;5;129;01mor\u001b[39;00m ac\u001b[38;5;241m<\u001b[39m\u001b[38;5;241m=\u001b[39m\u001b[38;5;241m0\u001b[39m \u001b[38;5;129;01mor\u001b[39;00m bc \u001b[38;5;241m<\u001b[39m\u001b[38;5;241m=\u001b[39m\u001b[38;5;241m0\u001b[39m:\n\u001b[0;32m----> 5\u001b[0m         \u001b[38;5;28;01mraise\u001b[39;00m \u001b[38;5;167;01mValueError\u001b[39;00m(\u001b[38;5;124m'\u001b[39m\u001b[38;5;124mOne of the sides is less or equal to 0\u001b[39m\u001b[38;5;124m'\u001b[39m)\n\u001b[1;32m      6\u001b[0m     p \u001b[38;5;241m=\u001b[39m (ab \u001b[38;5;241m+\u001b[39m bc \u001b[38;5;241m+\u001b[39m ac) \u001b[38;5;241m/\u001b[39m \u001b[38;5;241m2\u001b[39m\n\u001b[1;32m      7\u001b[0m     s \u001b[38;5;241m=\u001b[39m math\u001b[38;5;241m.\u001b[39msqrt(p\u001b[38;5;241m*\u001b[39m (p\u001b[38;5;241m-\u001b[39mab) \u001b[38;5;241m*\u001b[39m (p\u001b[38;5;241m-\u001b[39mac) \u001b[38;5;241m*\u001b[39m (p\u001b[38;5;241m-\u001b[39mbc))\n",
      "\u001b[0;31mValueError\u001b[0m: One of the sides is less or equal to 0"
     ]
    }
   ],
   "source": [
    "calcSquareTriangle(3,-3,3)"
   ]
  },
  {
   "cell_type": "code",
   "execution_count": null,
   "id": "d0efc963-e6bd-41da-9ca0-4b4ea45fffd2",
   "metadata": {},
   "outputs": [],
   "source": [
    "#valueerror is default exception object  from py library, "
   ]
  },
  {
   "cell_type": "code",
   "execution_count": null,
   "id": "0fea7c35-c6fa-49b9-b61a-59b3d9076fb6",
   "metadata": {},
   "outputs": [],
   "source": [
    "# we can use custom ecxeption via class syntax"
   ]
  },
  {
   "cell_type": "code",
   "execution_count": 1,
   "id": "f7343caf-d5f6-48a8-a731-e7945295f0bc",
   "metadata": {},
   "outputs": [],
   "source": [
    "class InvalidTriangleError(Exception):\n",
    "    \"\"\"Raised when a triangle has invalid side\"\"\"\n",
    "    "
   ]
  },
  {
   "cell_type": "code",
   "execution_count": 3,
   "id": "4b14caef-35bd-4971-a93a-c440011c0543",
   "metadata": {},
   "outputs": [],
   "source": [
    "import math\n",
    "\n",
    "def calcSquareTriangle(ab,ac, bc):\n",
    "    if ab<=0 or ac<=0 or bc <=0:\n",
    "        raise InvalidTriangleError('One of the sides is less or equal to 0')\n",
    "    p = (ab + bc + ac) / 2\n",
    "    s = math.sqrt(p* (p-ab) * (p-ac) * (p-bc))\n",
    "\n",
    "    return print(s)\n"
   ]
  },
  {
   "cell_type": "code",
   "execution_count": 5,
   "id": "377ab679-60bc-4b22-a514-d494a3e9e31f",
   "metadata": {},
   "outputs": [
    {
     "ename": "InvalidTriangleError",
     "evalue": "One of the sides is less or equal to 0",
     "output_type": "error",
     "traceback": [
      "\u001b[0;31m---------------------------------------------------------------------------\u001b[0m",
      "\u001b[0;31mInvalidTriangleError\u001b[0m                      Traceback (most recent call last)",
      "Cell \u001b[0;32mIn[5], line 1\u001b[0m\n\u001b[0;32m----> 1\u001b[0m calcSquareTriangle(\u001b[38;5;241m3\u001b[39m,\u001b[38;5;241m-\u001b[39m\u001b[38;5;241m3\u001b[39m,\u001b[38;5;241m3\u001b[39m)\n",
      "Cell \u001b[0;32mIn[3], line 5\u001b[0m, in \u001b[0;36mcalcSquareTriangle\u001b[0;34m(ab, ac, bc)\u001b[0m\n\u001b[1;32m      3\u001b[0m \u001b[38;5;28;01mdef\u001b[39;00m \u001b[38;5;21mcalcSquareTriangle\u001b[39m(ab,ac, bc):\n\u001b[1;32m      4\u001b[0m     \u001b[38;5;28;01mif\u001b[39;00m ab\u001b[38;5;241m<\u001b[39m\u001b[38;5;241m=\u001b[39m\u001b[38;5;241m0\u001b[39m \u001b[38;5;129;01mor\u001b[39;00m ac\u001b[38;5;241m<\u001b[39m\u001b[38;5;241m=\u001b[39m\u001b[38;5;241m0\u001b[39m \u001b[38;5;129;01mor\u001b[39;00m bc \u001b[38;5;241m<\u001b[39m\u001b[38;5;241m=\u001b[39m\u001b[38;5;241m0\u001b[39m:\n\u001b[0;32m----> 5\u001b[0m         \u001b[38;5;28;01mraise\u001b[39;00m InvalidTriangleError(\u001b[38;5;124m'\u001b[39m\u001b[38;5;124mOne of the sides is less or equal to 0\u001b[39m\u001b[38;5;124m'\u001b[39m)\n\u001b[1;32m      6\u001b[0m     p \u001b[38;5;241m=\u001b[39m (ab \u001b[38;5;241m+\u001b[39m bc \u001b[38;5;241m+\u001b[39m ac) \u001b[38;5;241m/\u001b[39m \u001b[38;5;241m2\u001b[39m\n\u001b[1;32m      7\u001b[0m     s \u001b[38;5;241m=\u001b[39m math\u001b[38;5;241m.\u001b[39msqrt(p\u001b[38;5;241m*\u001b[39m (p\u001b[38;5;241m-\u001b[39mab) \u001b[38;5;241m*\u001b[39m (p\u001b[38;5;241m-\u001b[39mac) \u001b[38;5;241m*\u001b[39m (p\u001b[38;5;241m-\u001b[39mbc))\n",
      "\u001b[0;31mInvalidTriangleError\u001b[0m: One of the sides is less or equal to 0"
     ]
    }
   ],
   "source": [
    "calcSquareTriangle(3,-3,3)"
   ]
  },
  {
   "cell_type": "code",
   "execution_count": null,
   "id": "ae14d212-46b4-44d6-b44f-5d8f836a7b29",
   "metadata": {},
   "outputs": [],
   "source": [
    "#Сlasses basics"
   ]
  },
  {
   "cell_type": "code",
   "execution_count": 49,
   "id": "be1e8933-022a-4cdb-905d-55059928d718",
   "metadata": {},
   "outputs": [],
   "source": [
    "class CharSuper():\n",
    "    def __init__(self, race): #here we're defining constructor method - __name__ - special methods \n",
    "        self.race = race #self - attr of instance  - link on self of class\n",
    "\n",
    "    def getRace(self):\n",
    "        return self.race"
   ]
  },
  {
   "cell_type": "code",
   "execution_count": 51,
   "id": "d608905b-89db-44f1-aaa7-b13a5814b8c4",
   "metadata": {},
   "outputs": [
    {
     "data": {
      "text/plain": [
       "__main__.CharSuper"
      ]
     },
     "execution_count": 51,
     "metadata": {},
     "output_type": "execute_result"
    }
   ],
   "source": [
    "unit = CharSuper('Human')\n",
    "type(unit)"
   ]
  },
  {
   "cell_type": "code",
   "execution_count": 53,
   "id": "aafe4f9d-6bab-4535-ad86-302738c6aabf",
   "metadata": {},
   "outputs": [
    {
     "data": {
      "text/plain": [
       "'Human'"
      ]
     },
     "execution_count": 53,
     "metadata": {},
     "output_type": "execute_result"
    }
   ],
   "source": [
    "unit.getRace()"
   ]
  },
  {
   "cell_type": "code",
   "execution_count": null,
   "id": "0372fa66-2a98-41f2-8ac6-dc5546326e9f",
   "metadata": {},
   "outputs": [],
   "source": [
    "# Attributes, props and methods"
   ]
  },
  {
   "cell_type": "code",
   "execution_count": 79,
   "id": "5cf8c727-43e8-433a-a879-7f39deb950ca",
   "metadata": {},
   "outputs": [],
   "source": [
    "class CharSuper():\n",
    "    maxSpeed = 100\n",
    "    deadHealth = 0\n",
    "    def __init__(self, race, damage = 10, armor = 20): #default foo params\n",
    "        self.race = race \n",
    "        self.damage = damage\n",
    "        self.armor = armor\n",
    "        self.health = 100\n",
    "        \n",
    "    def getRace(self):\n",
    "        return print(self.race)\n",
    "    def hit(self,damage):\n",
    "        self.health -= damage\n",
    "\n",
    "    def isDead(self):\n",
    "        return self.health == Character.deadHeals\n"
   ]
  },
  {
   "cell_type": "code",
   "execution_count": 81,
   "id": "cadc8859-38ec-49f5-8a2e-292973e1eafb",
   "metadata": {},
   "outputs": [
    {
     "data": {
      "text/plain": [
       "80"
      ]
     },
     "execution_count": 81,
     "metadata": {},
     "output_type": "execute_result"
    }
   ],
   "source": [
    "ork = CharSuper('Ork')\n",
    "\n",
    "ork.hit(20)\n",
    "ork.health\n",
    "\n",
    "ork.currentSpeed(30)\n"
   ]
  },
  {
   "cell_type": "code",
   "execution_count": null,
   "id": "09fd7521-28d7-4ec2-bc3b-a045c8e5d5cf",
   "metadata": {},
   "outputs": [],
   "source": [
    "#We do not have private attributes(props) in python"
   ]
  },
  {
   "cell_type": "code",
   "execution_count": 119,
   "id": "2f0f5ca1-67fc-4085-8f3c-8478445d6ab4",
   "metadata": {},
   "outputs": [],
   "source": [
    "#But we can use protected and static props"
   ]
  },
  {
   "cell_type": "code",
   "execution_count": 137,
   "id": "174c37ce-219a-40e8-bd33-c0de38b55849",
   "metadata": {},
   "outputs": [],
   "source": [
    "class CharSuper():\n",
    "    MAX_SPEED = 100 #constants we define with capital chracters, but we have the ability to modify it, but agreed not to do that\n",
    "\n",
    "    def __init__(self, race, damage = 10):\n",
    "        self.damage = damage\n",
    "        self.__race = race # here we use 2 _ - that means this is private attribute we can't read or reassign it(agrred) ork._CharSuper__race - but with it we can\n",
    "        self._health = 100# with one _ we will see this at instances \n",
    "        self._currentSpeed = 20\n",
    "        \n",
    "\n",
    "    def getRace(self):\n",
    "        return print(self.race)\n",
    "    def hit(self,damage):\n",
    "        self.health -= damage\n",
    "        \n",
    "    @property ## this is getter - we can use this prop outside of the class - so thats protected property\n",
    "    def health(self):\n",
    "        return self._health ## better to use @property decorator if we have some complex logic inside of it\n",
    "\n",
    "    def isDead(self):\n",
    "        return self.health == Character.deadHeals\n",
    "    @property\n",
    "    def currentSpeed(self):\n",
    "        return self._currentSpeed\n",
    "\n",
    "    @currentSpeed.setter\n",
    "    def currentSpeed(self, newSpeed):\n",
    "        if newSpeed < 0:\n",
    "            self._currentSpeed = 0\n",
    "        if newSpeed > 100:\n",
    "            self._currentSpeed = 100\n",
    "        else:\n",
    "            self._currentSpeed = newSpeed\n"
   ]
  },
  {
   "cell_type": "code",
   "execution_count": 139,
   "id": "ffba1b49-b58e-49df-aa35-3add1ced2b88",
   "metadata": {},
   "outputs": [
    {
     "data": {
      "text/plain": [
       "20"
      ]
     },
     "execution_count": 139,
     "metadata": {},
     "output_type": "execute_result"
    }
   ],
   "source": [
    "human = CharSuper('Human')\n",
    "\n",
    "human.currentSpeed\n"
   ]
  },
  {
   "cell_type": "code",
   "execution_count": 141,
   "id": "d4541544-adaf-4ed8-8127-595dd3ba6f47",
   "metadata": {},
   "outputs": [],
   "source": [
    "human.currentSpeed = 50"
   ]
  },
  {
   "cell_type": "code",
   "execution_count": 143,
   "id": "9d9a6ff3-96a7-4079-88cb-446fc5d6afc3",
   "metadata": {},
   "outputs": [
    {
     "data": {
      "text/plain": [
       "50"
      ]
     },
     "execution_count": 143,
     "metadata": {},
     "output_type": "execute_result"
    }
   ],
   "source": [
    "human.currentSpeed"
   ]
  },
  {
   "cell_type": "code",
   "execution_count": null,
   "id": "b0633916-f6ab-4fc2-99b0-0e4a0bdab173",
   "metadata": {},
   "outputs": [],
   "source": [
    " #Static methods and attributes\n",
    "#we can call statis props and methods not only via class but with instance too "
   ]
  },
  {
   "cell_type": "code",
   "execution_count": 147,
   "id": "3a2f9239-2af5-4af5-a00b-bb2762b9ba7b",
   "metadata": {},
   "outputs": [],
   "source": [
    "class StaticTest:\n",
    "    x = 1"
   ]
  },
  {
   "cell_type": "code",
   "execution_count": 155,
   "id": "3ab090f4-14ce-4191-ade6-98a613d8d54a",
   "metadata": {},
   "outputs": [],
   "source": [
    "t1 = StaticTest()"
   ]
  },
  {
   "cell_type": "code",
   "execution_count": 157,
   "id": "e8815970-5bdf-49f1-930f-839fff828a43",
   "metadata": {},
   "outputs": [
    {
     "name": "stdout",
     "output_type": "stream",
     "text": [
      "via instance: 1\n",
      "via class: 1\n"
     ]
    }
   ],
   "source": [
    "print(f'via instance: {t1.x}')\n",
    "print(f'via class: {StaticTest.x}')"
   ]
  },
  {
   "cell_type": "code",
   "execution_count": 159,
   "id": "d2e5fa48-cab7-4381-b629-9f282204c2e9",
   "metadata": {},
   "outputs": [],
   "source": [
    "t1.x = 2"
   ]
  },
  {
   "cell_type": "code",
   "execution_count": 161,
   "id": "a0368943-9600-416d-997f-504fa343cc28",
   "metadata": {},
   "outputs": [
    {
     "name": "stdout",
     "output_type": "stream",
     "text": [
      "via instance: 2\n",
      "via class: 1\n"
     ]
    }
   ],
   "source": [
    "print(f'via instance: {t1.x}')\n",
    "print(f'via class: {StaticTest.x}')"
   ]
  },
  {
   "cell_type": "code",
   "execution_count": null,
   "id": "8ce80fae-52cf-4a99-9f0f-f86b5b695a1c",
   "metadata": {},
   "outputs": [],
   "source": [
    "#here we change attributes dedicated on instance, not linked with static CLASS attribute"
   ]
  },
  {
   "cell_type": "code",
   "execution_count": null,
   "id": "915b6eb4-0f94-46af-9754-057524ec6fcf",
   "metadata": {},
   "outputs": [],
   "source": [
    "class Date:\n",
    "    def __init__(self, month, day, year):\n",
    "        self.month = month\n",
    "        self.day = day\n",
    "        self.year = year\n",
    "\n",
    "    def display(self):\n",
    "        return f'{self.month} - {self.day} - {self.year}'\n",
    "    @classmethod # static method with classmethod decorator get cls as a first param - looks like self but not instance but class itself\n",
    "    def millenum_c(cls, month, day)\n",
    "        return cls(month,day, 2000) # will call class constructor\n",
    "\n",
    "    @staticmethod # this is static method that will call class by name, not inside of operation but differense that classmethod working on class \n",
    "    #whitch will be calling, but with staticmethod we will always work with called class\n",
    "    def millenium_s(month, day):\n",
    "        return Date(month,day, 2000)"
   ]
  },
  {
   "cell_type": "code",
   "execution_count": null,
   "id": "35a4ee88-7db6-4701-bb32-eccdf4a6e906",
   "metadata": {},
   "outputs": [],
   "source": [
    "# Inheritance and polymorphysm "
   ]
  },
  {
   "cell_type": "code",
   "execution_count": 205,
   "id": "2b1b0840-e472-4328-94b4-c935fa4a6f9d",
   "metadata": {},
   "outputs": [],
   "source": [
    "class Shape():\n",
    "    def __init__(self):\n",
    "        print('shape created')\n",
    "        \n",
    "    def draw(self):\n",
    "        print('drawing a shape')\n",
    "        \n",
    "    def area(self):\n",
    "        print('calc area')\n",
    "        \n",
    "    def perimeter(self):\n",
    "         print('calc perimeter')"
   ]
  },
  {
   "cell_type": "code",
   "execution_count": 207,
   "id": "2b0edf74-b737-4fee-bda2-f8315454c222",
   "metadata": {},
   "outputs": [
    {
     "name": "stdout",
     "output_type": "stream",
     "text": [
      "shape created\n"
     ]
    }
   ],
   "source": [
    "shape = Shape()\n"
   ]
  },
  {
   "cell_type": "code",
   "execution_count": 215,
   "id": "1186c827-4e31-4b94-82f3-28f3440be7bc",
   "metadata": {},
   "outputs": [],
   "source": [
    "class Rectangle(Shape):\n",
    "    def __init__(self, width, height):\n",
    "        Shape.__init__(self)\n",
    "        self.width = width\n",
    "        self.height = height\n",
    "\n",
    "        print('Rectangle created')\n",
    "    \n",
    "    def area(self):\n",
    "        print(self.width * self.height)\n",
    "    def perimeter(self):\n",
    "        print((self.width + self.height)* 2)"
   ]
  },
  {
   "cell_type": "code",
   "execution_count": 217,
   "id": "48827863-0a8d-471a-8635-fb0556fa8cc4",
   "metadata": {},
   "outputs": [
    {
     "name": "stdout",
     "output_type": "stream",
     "text": [
      "shape created\n",
      "Rectangle created\n"
     ]
    }
   ],
   "source": [
    "rect = Rectangle(10,15)\n"
   ]
  },
  {
   "cell_type": "code",
   "execution_count": 219,
   "id": "64e917fc-fe48-42a2-bd4f-7549607f4400",
   "metadata": {},
   "outputs": [
    {
     "name": "stdout",
     "output_type": "stream",
     "text": [
      "calc area\n"
     ]
    }
   ],
   "source": [
    "rect.area()"
   ]
  },
  {
   "cell_type": "code",
   "execution_count": 224,
   "id": "f436d72b-1962-42e3-826f-9e23117655ed",
   "metadata": {},
   "outputs": [],
   "source": [
    "import math\n",
    "class Triangle(Shape):\n",
    "    def __init__(self, a, b, c):\n",
    "        Shape.__init__(self)\n",
    "        self.a = a\n",
    "        self.b = b\n",
    "        self.c = c\n",
    "\n",
    "        print('Triangle created')\n",
    "    def area(self):\n",
    "        print((self.a + self.b + self.c)/2)\n",
    "    def perimeter(self):\n",
    "        print(self.a + self.b + self.c)"
   ]
  },
  {
   "cell_type": "code",
   "execution_count": 226,
   "id": "ef9e5d6b-d272-45a4-a512-6ed4c67cc1a3",
   "metadata": {},
   "outputs": [
    {
     "name": "stdout",
     "output_type": "stream",
     "text": [
      "shape created\n",
      "Triangle created\n"
     ]
    }
   ],
   "source": [
    "tri = Triangle(10,10,10)"
   ]
  },
  {
   "cell_type": "code",
   "execution_count": 228,
   "id": "dfb29d03-478c-4a1c-8faf-ffcdf98b40b4",
   "metadata": {},
   "outputs": [
    {
     "name": "stdout",
     "output_type": "stream",
     "text": [
      "30\n"
     ]
    }
   ],
   "source": [
    "tri.perimeter()"
   ]
  },
  {
   "cell_type": "code",
   "execution_count": null,
   "id": "4c20f771-6893-4ab5-823f-a830c1cd5f4e",
   "metadata": {},
   "outputs": [],
   "source": [
    "# multi inheritance - when class has not only one but few paerents"
   ]
  },
  {
   "cell_type": "code",
   "execution_count": 232,
   "id": "1160759c-a483-4482-9916-45bca032f79a",
   "metadata": {},
   "outputs": [],
   "source": [
    " class Animal:\n",
    "     def die(self):\n",
    "         print('bye bye')\n",
    "         self.health = 0\n",
    "         \n",
    "class Savage:\n",
    "    def hunt(self):\n",
    "        print('eating')\n",
    "        self.satiety = 100\n",
    "\n",
    "class Dog(Animal, Savage):\n",
    "    def bark(self):\n",
    "        print('woof-woof')"
   ]
  },
  {
   "cell_type": "code",
   "execution_count": 234,
   "id": "6ade624d-449f-4aa6-ba6f-3d329c8ca5cd",
   "metadata": {},
   "outputs": [
    {
     "name": "stdout",
     "output_type": "stream",
     "text": [
      "eating\n",
      "woof-woof\n",
      "bye bye\n"
     ]
    }
   ],
   "source": [
    "dog = Dog()\n",
    "dog.hunt()\n",
    "dog.bark()\n",
    "dog.die()"
   ]
  },
  {
   "cell_type": "code",
   "execution_count": 262,
   "id": "dc7f3610-e154-4275-9f4c-6c564f6fac3c",
   "metadata": {},
   "outputs": [],
   "source": [
    "class Animal:\n",
    "     def set_health(self, health):\n",
    "         print('set in animal')\n",
    "         \n",
    "class Savage(Animal):\n",
    "    def set_health(self, health):\n",
    "         Animal.set_health(self,health);\n",
    "         print('set in savage')\n",
    "\n",
    "class Mammal(Animal):\n",
    "    def set_health(self, health):\n",
    "         Animal.set_health(self,health);\n",
    "         print('set in mammel')\n",
    "\n",
    "class Dog(Mammal, Savage):\n",
    "    def set_health(self, health):\n",
    "         Mammal.set_health(self,health);\n",
    "         Savage.set_health(self,health);\n",
    "         print('set in dog')"
   ]
  },
  {
   "cell_type": "code",
   "execution_count": 264,
   "id": "295cf1bf-7270-4cbb-8f81-4bcb9d9c34cc",
   "metadata": {},
   "outputs": [],
   "source": [
    "# here we have a rhombus of death - dog inherite from few common classes"
   ]
  },
  {
   "cell_type": "code",
   "execution_count": 266,
   "id": "3f5c9d80-1c5f-408f-9f60-6d5cde472eb8",
   "metadata": {},
   "outputs": [
    {
     "name": "stdout",
     "output_type": "stream",
     "text": [
      "set in animal\n",
      "set in mammel\n",
      "set in animal\n",
      "set in savage\n",
      "set in dog\n"
     ]
    }
   ],
   "source": [
    "dog = Dog()\n",
    "dog.set_health(10) # here we have 2 times called set in animal from base class"
   ]
  },
  {
   "cell_type": "code",
   "execution_count": 274,
   "id": "f1a6f07b-4066-4b0f-ba36-989c5df58c13",
   "metadata": {},
   "outputs": [],
   "source": [
    "class Animal:\n",
    "     def set_health(self, health):\n",
    "         print('set in animal')\n",
    "         \n",
    "class Savage(Animal):\n",
    "    def set_health(self, health):\n",
    "         super().set_health(health);\n",
    "         #Animal.set_health(self,health);\n",
    "         print('set in savage')\n",
    "\n",
    "class Mammal(Animal):\n",
    "    def set_health(self, health):\n",
    "         super().set_health(health);\n",
    "         #Animal.set_health(self,health);\n",
    "         print('set in mammel')\n",
    "\n",
    "class Dog(Mammal, Savage):\n",
    "    def set_health(self, health):\n",
    "         super().set_health(health);\n",
    "         #Mammal.set_health(self,health);\n",
    "         #Savage.set_health(self,health);\n",
    "         print('set in dog')"
   ]
  },
  {
   "cell_type": "code",
   "execution_count": 276,
   "id": "689b18d2-864b-4094-98cd-576d3e90e031",
   "metadata": {},
   "outputs": [
    {
     "name": "stdout",
     "output_type": "stream",
     "text": [
      "set in animal\n",
      "set in savage\n",
      "set in mammel\n",
      "set in dog\n"
     ]
    }
   ],
   "source": [
    "dog = Dog()\n",
    "dog.set_health(10) #methods resolution order"
   ]
  },
  {
   "cell_type": "code",
   "execution_count": null,
   "id": "ae7782ca-9a72-46e8-846a-34ec0afd8737",
   "metadata": {},
   "outputs": [],
   "source": [
    "#Mixins - that's an extra case multi inheritance"
   ]
  },
  {
   "cell_type": "code",
   "execution_count": null,
   "id": "2f762be2-ce36-4edb-9432-fd49e2aaa2ba",
   "metadata": {},
   "outputs": [],
   "source": [
    "#They not acting like a base class, we cann mix them in any classes"
   ]
  },
  {
   "cell_type": "code",
   "execution_count": 316,
   "id": "e717082c-9174-4a6d-8142-f11c3f3cb50c",
   "metadata": {},
   "outputs": [],
   "source": [
    "class Viehicle:\n",
    "    def __init__(self, position):\n",
    "        self.position = position\n",
    "        \n",
    "    def travel(self,destination):\n",
    "        route = calculate_route(source=self.position, to = destination)\n",
    "        self.movealong(route)\n",
    "        \n",
    "    def calculate_route(self, source, to):\n",
    "        return 0\n",
    "        \n",
    "    def move_along(self,route):\n",
    "        print('moving')"
   ]
  },
  {
   "cell_type": "code",
   "execution_count": 318,
   "id": "c2f57173-7989-404f-9ba9-b89720d231cc",
   "metadata": {},
   "outputs": [],
   "source": [
    "class Car(Viehicle):\n",
    "    pass"
   ]
  },
  {
   "cell_type": "code",
   "execution_count": 320,
   "id": "6d3dd106-621e-4fe1-9e19-a8e2dbe5d707",
   "metadata": {},
   "outputs": [],
   "source": [
    "class Airplane(Viehicle):\n",
    "    pass\n",
    "#And we want to add radio class to Car but not add to Airplane, so we can add a mixin"
   ]
  },
  {
   "cell_type": "code",
   "execution_count": 322,
   "id": "175f996f-e14c-4932-9b44-36dbf9b687ee",
   "metadata": {},
   "outputs": [],
   "source": [
    "class RadioMixin:\n",
    "    def __init__(self):\n",
    "        self.radio = Radio()\n",
    "    def turn_on(self, station):\n",
    "        self.radio.set_station(station)\n",
    "        self.radio.play()\n",
    "\n",
    "class Radio:\n",
    "    def set_station(self, station):\n",
    "        self.station = station\n",
    "    def play(self):\n",
    "        print(f'playing {self.station}')\n",
    "\n",
    "\n",
    "class Car (Viehicle, RadioMixin):\n",
    "    def __init__(self):\n",
    "        Viehicle.__init__(self, 10)\n",
    "        RadioMixin.__init__(self)\n"
   ]
  },
  {
   "cell_type": "code",
   "execution_count": 324,
   "id": "cb1a3bba-6de0-41e6-87c1-27cb97b09e03",
   "metadata": {},
   "outputs": [
    {
     "name": "stdout",
     "output_type": "stream",
     "text": [
      "playing jazz\n"
     ]
    }
   ],
   "source": [
    "car = Car()\n",
    "\n",
    "car.turn_on('jazz')"
   ]
  },
  {
   "cell_type": "code",
   "execution_count": null,
   "id": "de562ecd-a6ab-46e9-bdb2-95141df3e393",
   "metadata": {},
   "outputs": [],
   "source": [
    "# Abstract class and method ABC - spacial module"
   ]
  },
  {
   "cell_type": "code",
   "execution_count": 326,
   "id": "8d9f0120-7061-409c-b562-7e96e8d34cfe",
   "metadata": {},
   "outputs": [],
   "source": [
    "from abc import ABC\n",
    "from abc import abstractmethod\n",
    "\n",
    "class Shape(ABC): # we can't create instance of this class and should use it only like parent class\n",
    "    def __init__(self):\n",
    "        super().__init__()\n",
    "\n",
    "    @abstractmethod\n",
    "    def draw(self):\n",
    "        print('drawing a shape')\n",
    "\n",
    "    @abstractmethod\n",
    "    def area(self):\n",
    "        print('calc area')\n",
    "\n",
    "    @abstractmethod # means that instances should reassign these methods - all of them!\n",
    "    def perimeter(self):\n",
    "        print('calc perimeter')"
   ]
  },
  {
   "cell_type": "code",
   "execution_count": 336,
   "id": "d33ad09c-b84c-4202-aa2d-df53024c563b",
   "metadata": {},
   "outputs": [],
   "source": [
    "import math\n",
    "class Triangle(Shape):\n",
    "    def __init__(self, a, b, c):\n",
    "        self.a = a\n",
    "        self.b = b\n",
    "        self.c = c\n",
    "\n",
    "        \n",
    "        print('Triangle created')\n",
    "\n",
    "    def draw(self):\n",
    "        print('drawing a tri')\n",
    "    \n",
    "    def area(self):\n",
    "        print((self.a + self.b + self.c)/2)\n",
    "    def perimeter(self):\n",
    "        print(self.a + self.b + self.c)"
   ]
  },
  {
   "cell_type": "code",
   "execution_count": 338,
   "id": "4a5922e5-5615-450a-87ef-9ba709ae1f8f",
   "metadata": {},
   "outputs": [
    {
     "name": "stdout",
     "output_type": "stream",
     "text": [
      "Triangle created\n"
     ]
    }
   ],
   "source": [
    "t = Triangle(10,10,10)"
   ]
  },
  {
   "cell_type": "code",
   "execution_count": 340,
   "id": "de0d6f59-18e8-49be-9e38-a4c5b9ea49a5",
   "metadata": {},
   "outputs": [
    {
     "name": "stdout",
     "output_type": "stream",
     "text": [
      "15.0\n"
     ]
    }
   ],
   "source": [
    "t.area()"
   ]
  },
  {
   "cell_type": "code",
   "execution_count": null,
   "id": "42d9ac52-bf45-4faa-9e74-bdbd9396dda6",
   "metadata": {},
   "outputs": [],
   "source": [
    "#magic methods dunder methods - we can reassign this methods- in most cases we should reassign str"
   ]
  },
  {
   "cell_type": "code",
   "execution_count": 342,
   "id": "c5abaa9f-8783-4710-81c0-465498eb8cc3",
   "metadata": {},
   "outputs": [],
   "source": [
    "class Point():\n",
    "    def __init__(self, x ,y):\n",
    "        self.x = x\n",
    "        self.y = y\n",
    "\n",
    "    def __str__(self): #The __str__ method returns a string representation of the Point object using an f-string\n",
    "        return f'{self.x, self.y}'\n",
    "        "
   ]
  },
  {
   "cell_type": "code",
   "execution_count": 344,
   "id": "9c7e611b-22ed-4146-af1b-1abfe2252c55",
   "metadata": {},
   "outputs": [
    {
     "name": "stdout",
     "output_type": "stream",
     "text": [
      "(3, 4)\n"
     ]
    }
   ],
   "source": [
    "p = Point(3,4)\n",
    "print(p)"
   ]
  },
  {
   "cell_type": "code",
   "execution_count": 346,
   "id": "d452bc14-1748-41f5-aef1-5554afa394e6",
   "metadata": {},
   "outputs": [
    {
     "name": "stdout",
     "output_type": "stream",
     "text": [
      "Using print(p): Point(3, 5)\n",
      "Using repr(p): Point(x=3, y=5)\n"
     ]
    },
    {
     "data": {
      "text/plain": [
       "Point(x=3, y=5)"
      ]
     },
     "execution_count": 346,
     "metadata": {},
     "output_type": "execute_result"
    }
   ],
   "source": [
    "#__str__ User-friendly string representation print(obj) Readable for end users\n",
    "#__repr__ Developer-friendly string representation repr(obj), debug Unambiguous, often recreatable string\n",
    "\n",
    "class Point:\n",
    "    def __init__(self, x ,y):\n",
    "        self.x = x\n",
    "        self.y = y\n",
    "\n",
    "    def __str__(self):\n",
    "        return f'Point({self.x}, {self.y})'\n",
    "\n",
    "    def __repr__(self):\n",
    "        return f'Point(x={self.x}, y={self.y})'\n",
    "\n",
    "# Create an instance\n",
    "p = Point(3, 5)\n",
    "\n",
    "# Demonstrate the difference\n",
    "print(\"Using print(p):\", p)         # Calls __str__\n",
    "print(\"Using repr(p):\", repr(p))   # Calls __repr__\n",
    "\n",
    "# Also shows how it's displayed in a cell output\n",
    "p"
   ]
  },
  {
   "cell_type": "code",
   "execution_count": null,
   "id": "df1dd127-57ca-486e-a103-bd2db6504136",
   "metadata": {},
   "outputs": [],
   "source": [
    "# HW rounds - cross"
   ]
  },
  {
   "cell_type": "code",
   "execution_count": 199,
   "id": "fc2bdf7a-f9fd-4605-85d9-50d4bc1b71f7",
   "metadata": {},
   "outputs": [],
   "source": [
    "class RC_Game:\n",
    "    win = [ [0,1,2],\n",
    "            [0,3,6],\n",
    "            [0,4,8],\n",
    "            [1,4,7],\n",
    "            [2,5,8],\n",
    "            [2,4,6],\n",
    "            [3,4,5],\n",
    "            [6,7,8],\n",
    "          ]\n",
    "    player1 = { 'name': 'player1', 'char': 'x', 'indexes': [] }\n",
    "    player2 = { 'name': 'player2', 'char': 'o', 'indexes': [] }\n",
    "\n",
    "    players = [player1, player2]\n",
    "            \n",
    "    def __init__(self):\n",
    "        self.res = []\n",
    "        self.order = 0\n",
    "        self.win = RC_Game.win\n",
    "        \n",
    "        self.player1 = RC_Game.player1\n",
    "        self.player3 = RC_Game.player2\n",
    "        self.palyers = RC_Game.players\n",
    "        self.player1['name'] = input(f'please enter player1 name, or it will be {RC_Game.player1['name']}')\n",
    "        self.player2['name'] = input(f'please enter player2 name, or it will be {RC_Game.player2['name']}')\n",
    "        \n",
    "        for _ in range(0,9):\n",
    "            self.res.append(' ')\n",
    "          \n",
    "        \n",
    "\n",
    "    def makeMove(self):\n",
    "        print(f'{self.players[self.order]['name']} turn to move:')\n",
    "        index = int(input('Please insert an index'))\n",
    "        self.players[self.order]['indexes'].append(index)\n",
    "        self.res[index] = self.players[self.order]['char']\n",
    "        #self.order = self.order - self.order + 1\n",
    "\n",
    "    def start(self):\n",
    "        print(self.player1)\n",
    "        while (self.win.count(self.player1['indexes']) > 0 \n",
    "            or self.win.count(self.player2['indexes']) > 0 ):\n",
    "            self.makeMove()\n",
    "            print(self.order)\n",
    "            self.order = 1 - self.order\n",
    "            self.printRes()\n",
    "\n",
    "        print(f'{self.players[self.order]['name']} winner today!')\n",
    "        \n",
    "        \n",
    "\n",
    "\n",
    "    def printRes(self): \n",
    "        print(f'{self.res[0]}|{self.res[1]}|{self.res[2]}')\n",
    "        print('- - -')\n",
    "        print(f'{self.res[3]}|{self.res[4]}|{self.res[5]}')\n",
    "        print('- - -')\n",
    "        print(f'{self.res[6]}|{self.res[7]}|{self.res[8]}')\n",
    "    \n",
    "        "
   ]
  },
  {
   "cell_type": "code",
   "execution_count": 201,
   "id": "84ea1365-b41c-4874-8f48-3fd7db4f1a62",
   "metadata": {
    "scrolled": true
   },
   "outputs": [
    {
     "name": "stdin",
     "output_type": "stream",
     "text": [
      "please enter player1 name, or it will be player1 j\n",
      "please enter player2 name, or it will be player2 j\n"
     ]
    }
   ],
   "source": [
    "g = RC_Game()"
   ]
  },
  {
   "cell_type": "code",
   "execution_count": 203,
   "id": "6f503ac6-e55a-4e27-9887-1c468536ffae",
   "metadata": {},
   "outputs": [
    {
     "name": "stdout",
     "output_type": "stream",
     "text": [
      "{'name': 'j', 'char': 'x', 'indexes': []}\n",
      "j winner today!\n"
     ]
    }
   ],
   "source": [
    "g.start()"
   ]
  },
  {
   "cell_type": "code",
   "execution_count": 139,
   "id": "cd2cf6af-c2e9-45e9-a708-ae09efd9f2e0",
   "metadata": {},
   "outputs": [
    {
     "name": "stdout",
     "output_type": "stream",
     "text": [
      "o| |o\n",
      "- - -\n",
      "x|o| \n",
      "- - -\n",
      "o|o|o\n"
     ]
    }
   ],
   "source": [
    "g.printRes()\n"
   ]
  },
  {
   "cell_type": "code",
   "execution_count": 205,
   "id": "b3619e58-c609-4c72-a7ee-bfb43628b7a3",
   "metadata": {},
   "outputs": [],
   "source": [
    "import copy\n",
    "\n",
    "class RC_Game:\n",
    "    win = [\n",
    "        [0,1,2], [0,3,6], [0,4,8],\n",
    "        [1,4,7], [2,5,8], [2,4,6],\n",
    "        [3,4,5], [6,7,8],\n",
    "    ]\n",
    "    default_player1 = { 'name': 'player1', 'char': 'x', 'indexes': [] }\n",
    "    default_player2 = { 'name': 'player2', 'char': 'o', 'indexes': [] }\n",
    "\n",
    "    def __init__(self):\n",
    "        self.res = [' '] * 9\n",
    "        self.order = 0\n",
    "\n",
    "        self.player1 = copy.deepcopy(RC_Game.default_player1)\n",
    "        self.player2 = copy.deepcopy(RC_Game.default_player2)\n",
    "        self.players = [self.player1, self.player2]\n",
    "\n",
    "        self.player1['name'] = input(f\"Enter name for player 1 (default: {self.player1['name']}): \") or self.player1['name']\n",
    "        self.player2['name'] = input(f\"Enter name for player 2 (default: {self.player2['name']}): \") or self.player2['name']\n",
    "\n",
    "    def printRes(self): \n",
    "        print(f'{self.res[0]}|{self.res[1]}|{self.res[2]}')\n",
    "        print('- - -')\n",
    "        print(f'{self.res[3]}|{self.res[4]}|{self.res[5]}')\n",
    "        print('- - -')\n",
    "        print(f'{self.res[6]}|{self.res[7]}|{self.res[8]}')\n",
    "\n",
    "    def check_winner(self, indexes):\n",
    "        for combo in self.win:\n",
    "            if all(i in indexes for i in combo):\n",
    "                return True\n",
    "        return False\n",
    "\n",
    "    def makeMove(self):\n",
    "        player = self.players[self.order]\n",
    "        print(f\"{player['name']} ({player['char']}), it's your turn.\")\n",
    "        \n",
    "        while True:\n",
    "            try:\n",
    "                index = int(input(\"Choose position (0-8): \"))\n",
    "                if index < 0 or index > 8 or self.res[index] != ' ':\n",
    "                    raise ValueError\n",
    "                break\n",
    "            except ValueError:\n",
    "                print(\"Invalid move. Try again.\")\n",
    "        \n",
    "        player['indexes'].append(index)\n",
    "        self.res[index] = player['char']\n",
    "\n",
    "    def start(self):\n",
    "        self.printRes()\n",
    "        while True:\n",
    "            self.makeMove()\n",
    "            self.printRes()\n",
    "            if self.check_winner(self.players[self.order]['indexes']):\n",
    "                print(f\"{self.players[self.order]['name']} wins!\")\n",
    "                break\n",
    "            if ' ' not in self.res:\n",
    "                print(\"It's a draw!\")\n",
    "                break\n",
    "            self.order = 1 - self.order"
   ]
  },
  {
   "cell_type": "code",
   "execution_count": 207,
   "id": "bdac4219-d545-47be-b4cb-af76783351f4",
   "metadata": {},
   "outputs": [
    {
     "name": "stdin",
     "output_type": "stream",
     "text": [
      "Enter name for player 1 (default: player1):  Alex\n",
      "Enter name for player 2 (default: player2):  Stan\n"
     ]
    },
    {
     "name": "stdout",
     "output_type": "stream",
     "text": [
      " | | \n",
      "- - -\n",
      " | | \n",
      "- - -\n",
      " | | \n",
      "Alex (x), it's your turn.\n"
     ]
    },
    {
     "name": "stdin",
     "output_type": "stream",
     "text": [
      "Choose position (0-8):  8\n"
     ]
    },
    {
     "name": "stdout",
     "output_type": "stream",
     "text": [
      " | | \n",
      "- - -\n",
      " | | \n",
      "- - -\n",
      " | |x\n",
      "Stan (o), it's your turn.\n"
     ]
    },
    {
     "name": "stdin",
     "output_type": "stream",
     "text": [
      "Choose position (0-8):  4\n"
     ]
    },
    {
     "name": "stdout",
     "output_type": "stream",
     "text": [
      " | | \n",
      "- - -\n",
      " |o| \n",
      "- - -\n",
      " | |x\n",
      "Alex (x), it's your turn.\n"
     ]
    },
    {
     "name": "stdin",
     "output_type": "stream",
     "text": [
      "Choose position (0-8):  6\n"
     ]
    },
    {
     "name": "stdout",
     "output_type": "stream",
     "text": [
      " | | \n",
      "- - -\n",
      " |o| \n",
      "- - -\n",
      "x| |x\n",
      "Stan (o), it's your turn.\n"
     ]
    },
    {
     "name": "stdin",
     "output_type": "stream",
     "text": [
      "Choose position (0-8):  2\n"
     ]
    },
    {
     "name": "stdout",
     "output_type": "stream",
     "text": [
      " | |o\n",
      "- - -\n",
      " |o| \n",
      "- - -\n",
      "x| |x\n",
      "Alex (x), it's your turn.\n"
     ]
    },
    {
     "name": "stdin",
     "output_type": "stream",
     "text": [
      "Choose position (0-8):  7\n"
     ]
    },
    {
     "name": "stdout",
     "output_type": "stream",
     "text": [
      " | |o\n",
      "- - -\n",
      " |o| \n",
      "- - -\n",
      "x|x|x\n",
      "Alex wins!\n"
     ]
    }
   ],
   "source": [
    "game = RC_Game()\n",
    "game.start()"
   ]
  },
  {
   "cell_type": "code",
   "execution_count": null,
   "id": "3294378d-7e7b-476d-bd8d-64575d387e4d",
   "metadata": {},
   "outputs": [],
   "source": [
    "#Debugging\n",
    "# pdb module - help us wih debug"
   ]
  },
  {
   "cell_type": "code",
   "execution_count": 209,
   "id": "130906ce-369c-4d78-8237-4625899760f7",
   "metadata": {},
   "outputs": [
    {
     "name": "stdout",
     "output_type": "stream",
     "text": [
      "--Return--\n",
      "None\n",
      "> \u001b[0;32m/var/folders/sc/x_jsrl314qld4_dd3wys63tr0000gn/T/ipykernel_46567/3860888853.py\u001b[0m(6)\u001b[0;36m<module>\u001b[0;34m()\u001b[0m\n",
      "\u001b[0;32m      4 \u001b[0;31m\u001b[0my\u001b[0m\u001b[0;34m=\u001b[0m\u001b[0;36m2\u001b[0m\u001b[0;34m\u001b[0m\u001b[0;34m\u001b[0m\u001b[0m\n",
      "\u001b[0m\u001b[0;32m      5 \u001b[0;31m\u001b[0;34m\u001b[0m\u001b[0m\n",
      "\u001b[0m\u001b[0;32m----> 6 \u001b[0;31m\u001b[0mpdb\u001b[0m\u001b[0;34m.\u001b[0m\u001b[0mset_trace\u001b[0m\u001b[0;34m(\u001b[0m\u001b[0;34m)\u001b[0m\u001b[0;34m\u001b[0m\u001b[0;34m\u001b[0m\u001b[0m\n",
      "\u001b[0m\u001b[0;32m      7 \u001b[0;31m\u001b[0;34m\u001b[0m\u001b[0m\n",
      "\u001b[0m\u001b[0;32m      8 \u001b[0;31m\u001b[0mz\u001b[0m\u001b[0;34m=\u001b[0m \u001b[0;36m3\u001b[0m\u001b[0;34m\u001b[0m\u001b[0;34m\u001b[0m\u001b[0m\n",
      "\u001b[0m\n"
     ]
    },
    {
     "name": "stdin",
     "output_type": "stream",
     "text": [
      "ipdb>  x\n"
     ]
    },
    {
     "name": "stdout",
     "output_type": "stream",
     "text": [
      "1\n"
     ]
    },
    {
     "name": "stdin",
     "output_type": "stream",
     "text": [
      "ipdb>  y\n"
     ]
    },
    {
     "name": "stdout",
     "output_type": "stream",
     "text": [
      "2\n"
     ]
    },
    {
     "name": "stdin",
     "output_type": "stream",
     "text": [
      "ipdb>  c\n"
     ]
    },
    {
     "name": "stdout",
     "output_type": "stream",
     "text": [
      "--Return--\n",
      "None\n",
      "> \u001b[0;32m/var/folders/sc/x_jsrl314qld4_dd3wys63tr0000gn/T/ipykernel_46567/3860888853.py\u001b[0m(10)\u001b[0;36m<module>\u001b[0;34m()\u001b[0m\n",
      "\u001b[0;32m      8 \u001b[0;31m\u001b[0mz\u001b[0m\u001b[0;34m=\u001b[0m \u001b[0;36m3\u001b[0m\u001b[0;34m\u001b[0m\u001b[0;34m\u001b[0m\u001b[0m\n",
      "\u001b[0m\u001b[0;32m      9 \u001b[0;31m\u001b[0mx\u001b[0m\u001b[0;34m+=\u001b[0m\u001b[0;36m1\u001b[0m\u001b[0;34m\u001b[0m\u001b[0;34m\u001b[0m\u001b[0m\n",
      "\u001b[0m\u001b[0;32m---> 10 \u001b[0;31m\u001b[0mpdb\u001b[0m\u001b[0;34m.\u001b[0m\u001b[0mset_trace\u001b[0m\u001b[0;34m(\u001b[0m\u001b[0;34m)\u001b[0m\u001b[0;34m\u001b[0m\u001b[0;34m\u001b[0m\u001b[0m\n",
      "\u001b[0m\u001b[0;32m     11 \u001b[0;31m\u001b[0;34m\u001b[0m\u001b[0m\n",
      "\u001b[0m\u001b[0;32m     12 \u001b[0;31m\u001b[0mprint\u001b[0m\u001b[0;34m(\u001b[0m\u001b[0;34m'finish'\u001b[0m\u001b[0;34m)\u001b[0m\u001b[0;34m\u001b[0m\u001b[0;34m\u001b[0m\u001b[0m\n",
      "\u001b[0m\n"
     ]
    },
    {
     "name": "stdin",
     "output_type": "stream",
     "text": [
      "ipdb>  z\n"
     ]
    },
    {
     "name": "stdout",
     "output_type": "stream",
     "text": [
      "3\n"
     ]
    },
    {
     "name": "stdin",
     "output_type": "stream",
     "text": [
      "ipdb>  c\n"
     ]
    },
    {
     "name": "stdout",
     "output_type": "stream",
     "text": [
      "finish\n"
     ]
    }
   ],
   "source": [
    "import pdb\n",
    "\n",
    "x=1\n",
    "y=2\n",
    "\n",
    "pdb.set_trace()\n",
    "\n",
    "z= 3\n",
    "x+=1\n",
    "pdb.set_trace() # like debuger() in js\n",
    "\n",
    "print('finish')\n",
    "\n"
   ]
  },
  {
   "cell_type": "code",
   "execution_count": null,
   "id": "fca241e0-456f-4b36-a6c8-ae281cb07a6b",
   "metadata": {},
   "outputs": [],
   "source": [
    "# iterible objects - let's create stack\n"
   ]
  },
  {
   "cell_type": "code",
   "execution_count": 211,
   "id": "98a14b8d-66b0-40c9-91f5-9d3518c3badd",
   "metadata": {},
   "outputs": [],
   "source": [
    "class MyStack:\n",
    "    def __init__(self):\n",
    "        self.array = []\n",
    "\n",
    "    def push(self, item):\n",
    "        self.array.append(item)\n",
    "\n",
    "    def pop(self):\n",
    "        popped_item = self.array.pop()\n",
    "        return popped_item\n",
    "    def peek(self):\n",
    "        return self.__current()\n",
    "\n",
    "    def __current(self):\n",
    "        return self.array[self.count() -1]\n",
    "\n",
    "    def count(self):\n",
    "        return len(self.array)\n",
    "\n",
    "    def __iter__(self):\n",
    "        self.index = self.count()-1\n",
    "        return self\n",
    "\n",
    "    def __next__(self):\n",
    "        if self.index < 0:\n",
    "            raise StopIteration()\n",
    "        result = self.array[self.index]\n",
    "        self.index-=1\n",
    "        return result\n",
    "    "
   ]
  },
  {
   "cell_type": "code",
   "execution_count": 213,
   "id": "64fa854a-859a-46e9-bf94-c1e1b4d9621f",
   "metadata": {},
   "outputs": [
    {
     "ename": "AttributeError",
     "evalue": "'list' object has no attribute 'push'",
     "output_type": "error",
     "traceback": [
      "\u001b[0;31m---------------------------------------------------------------------------\u001b[0m",
      "\u001b[0;31mAttributeError\u001b[0m                            Traceback (most recent call last)",
      "Cell \u001b[0;32mIn[213], line 2\u001b[0m\n\u001b[1;32m      1\u001b[0m stack \u001b[38;5;241m=\u001b[39m MyStack()\n\u001b[0;32m----> 2\u001b[0m stack\u001b[38;5;241m.\u001b[39mpush(\u001b[38;5;241m1\u001b[39m)\n\u001b[1;32m      3\u001b[0m stack\u001b[38;5;241m.\u001b[39mpush(\u001b[38;5;241m2\u001b[39m)\n\u001b[1;32m      4\u001b[0m stack\u001b[38;5;241m.\u001b[39mpush(\u001b[38;5;241m3\u001b[39m)\n",
      "Cell \u001b[0;32mIn[211], line 6\u001b[0m, in \u001b[0;36mMyStack.push\u001b[0;34m(self, item)\u001b[0m\n\u001b[1;32m      5\u001b[0m \u001b[38;5;28;01mdef\u001b[39;00m \u001b[38;5;21mpush\u001b[39m(\u001b[38;5;28mself\u001b[39m, item):\n\u001b[0;32m----> 6\u001b[0m     \u001b[38;5;28mself\u001b[39m\u001b[38;5;241m.\u001b[39marray\u001b[38;5;241m.\u001b[39mpush(item)\n",
      "\u001b[0;31mAttributeError\u001b[0m: 'list' object has no attribute 'push'"
     ]
    }
   ],
   "source": [
    "stack = MyStack()\n",
    "stack.push(1)\n",
    "stack.push(2)\n",
    "stack.push(3)"
   ]
  },
  {
   "cell_type": "code",
   "execution_count": null,
   "id": "e0741469-c55b-4aac-b893-12dc235857bd",
   "metadata": {},
   "outputs": [],
   "source": []
  }
 ],
 "metadata": {
  "kernelspec": {
   "display_name": "Python [conda env:base] *",
   "language": "python",
   "name": "conda-base-py"
  },
  "language_info": {
   "codemirror_mode": {
    "name": "ipython",
    "version": 3
   },
   "file_extension": ".py",
   "mimetype": "text/x-python",
   "name": "python",
   "nbconvert_exporter": "python",
   "pygments_lexer": "ipython3",
   "version": "3.12.7"
  }
 },
 "nbformat": 4,
 "nbformat_minor": 5
}
