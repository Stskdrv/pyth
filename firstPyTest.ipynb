{
 "cells": [
  {
   "cell_type": "code",
   "execution_count": 1,
   "id": "63430c92-a01c-4f1b-8a86-8e635b8ee4b5",
   "metadata": {},
   "outputs": [
    {
     "name": "stdout",
     "output_type": "stream",
     "text": [
      "Hello world\n"
     ]
    }
   ],
   "source": [
    "print('Hello world')"
   ]
  },
  {
   "cell_type": "code",
   "execution_count": 2,
   "id": "df468a36-e029-4147-80b2-ada0a124cde3",
   "metadata": {},
   "outputs": [
    {
     "data": {
      "text/plain": [
       "12"
      ]
     },
     "execution_count": 2,
     "metadata": {},
     "output_type": "execute_result"
    }
   ],
   "source": [
    "2*6"
   ]
  },
  {
   "cell_type": "code",
   "execution_count": 3,
   "id": "8a7686de-1c23-4a3d-a8fb-63bfe79ec798",
   "metadata": {},
   "outputs": [
    {
     "data": {
      "text/plain": [
       "12.0"
      ]
     },
     "execution_count": 3,
     "metadata": {},
     "output_type": "execute_result"
    }
   ],
   "source": [
    "24/2"
   ]
  },
  {
   "cell_type": "code",
   "execution_count": 4,
   "id": "12b07ec8-47f2-43d9-8094-b1b1aee35081",
   "metadata": {},
   "outputs": [
    {
     "data": {
      "text/plain": [
       "12"
      ]
     },
     "execution_count": 4,
     "metadata": {},
     "output_type": "execute_result"
    }
   ],
   "source": [
    "2**3+4"
   ]
  },
  {
   "cell_type": "code",
   "execution_count": 5,
   "id": "964c03d2-04a1-4834-b023-95ea696a36f0",
   "metadata": {},
   "outputs": [],
   "source": [
    "name = 'John Snow'\n",
    "age = 29"
   ]
  },
  {
   "cell_type": "code",
   "execution_count": 6,
   "id": "7ba92338-ef47-4ba3-821f-074418fc69fb",
   "metadata": {},
   "outputs": [
    {
     "name": "stdout",
     "output_type": "stream",
     "text": [
      "John Snow 29\n"
     ]
    }
   ],
   "source": [
    "print(name, age)"
   ]
  },
  {
   "cell_type": "code",
   "execution_count": 7,
   "id": "eee083de-378a-4dc8-8009-07bbf8515eee",
   "metadata": {},
   "outputs": [
    {
     "data": {
      "text/plain": [
       "'/Users/stanislavkadyrov/Documents/python'"
      ]
     },
     "execution_count": 7,
     "metadata": {},
     "output_type": "execute_result"
    }
   ],
   "source": [
    "pwd"
   ]
  },
  {
   "cell_type": "code",
   "execution_count": 8,
   "id": "ee185974-2c97-48ab-9451-8796a55ce533",
   "metadata": {},
   "outputs": [
    {
     "name": "stdout",
     "output_type": "stream",
     "text": [
      "lol, working\n"
     ]
    }
   ],
   "source": [
    "with open('file.txt', mode='w+') as file:\n",
    "    file.write('lol, working');\n",
    "    file.seek(0);\n",
    "    data = file.read();\n",
    "    print(data);"
   ]
  },
  {
   "cell_type": "code",
   "execution_count": 17,
   "id": "603412ac-237d-41b0-9719-44da4c054680",
   "metadata": {},
   "outputs": [
    {
     "data": {
      "text/plain": [
       "'utf-8'"
      ]
     },
     "execution_count": 17,
     "metadata": {},
     "output_type": "execute_result"
    }
   ],
   "source": [
    "import sys\n",
    "sys.getdefaultencoding()"
   ]
  },
  {
   "cell_type": "code",
   "execution_count": 19,
   "id": "cf8cdf9b-bd1c-44be-96b8-957c1b0284bb",
   "metadata": {},
   "outputs": [
    {
     "data": {
      "text/plain": [
       "97"
      ]
     },
     "execution_count": 19,
     "metadata": {},
     "output_type": "execute_result"
    }
   ],
   "source": [
    "ord('a)"
   ]
  },
  {
   "cell_type": "code",
   "execution_count": 21,
   "id": "87763360-c562-4401-a3b4-339290caa44c",
   "metadata": {},
   "outputs": [
    {
     "data": {
      "text/plain": [
       "'Ń'"
      ]
     },
     "execution_count": 21,
     "metadata": {},
     "output_type": "execute_result"
    }
   ],
   "source": [
    "chr(323)\n"
   ]
  },
  {
   "cell_type": "code",
   "execution_count": 172,
   "id": "b34d82b7-7b23-4ebf-8236-e0e8731b4dbb",
   "metadata": {},
   "outputs": [
    {
     "name": "stdout",
     "output_type": "stream",
     "text": [
      "Attempt 1, Type a num 2\n"
     ]
    },
    {
     "name": "stdout",
     "output_type": "stream",
     "text": [
      "Yoy should try bigger num\n"
     ]
    },
    {
     "name": "stdout",
     "output_type": "stream",
     "text": [
      "Attempt 2, Type a num 2\n"
     ]
    },
    {
     "name": "stdout",
     "output_type": "stream",
     "text": [
      "Yoy should try bigger num\n"
     ]
    },
    {
     "name": "stdout",
     "output_type": "stream",
     "text": [
      "Attempt 3, Type a num 5\n"
     ]
    },
    {
     "name": "stdout",
     "output_type": "stream",
     "text": [
      "Hey, you score!\n"
     ]
    }
   ],
   "source": [
    "def guessNum():\n",
    "    secretNum = random.randint(1,10);\n",
    "    attempts = 6;\n",
    "\n",
    "    for attempt in range(1, attempts +1): \n",
    "        try: \n",
    "            guess = int(input(f'Attempt {attempt}, Type a num'))\n",
    "            if guess == secretNum:\n",
    "                print('Hey, you score!');\n",
    "                return\n",
    "            hint = 'bigger' if guess < secretNum else 'smaller'\n",
    "            print(f'Yoy should try {hint} num')\n",
    "        except ValueError:\n",
    "            print('You should use integral num')\n",
    "    print(f'You used all tryes, num was {secretNum}')\n",
    "\n",
    "guessNum();"
   ]
  },
  {
   "cell_type": "code",
   "execution_count": 38,
   "id": "74c9369b-7cce-4141-bbac-5ad7d7beff71",
   "metadata": {},
   "outputs": [
    {
     "name": "stdin",
     "output_type": "stream",
     "text": [
      "Please insert amount of sticks or it will be 10 by default 10\n",
      "Insert first player name 2\n",
      "Insert second player name 2\n"
     ]
    },
    {
     "name": "stdout",
     "output_type": "stream",
     "text": [
      "there are 10 sticks left, please take 1,2 or 3 sticks\n"
     ]
    },
    {
     "name": "stdin",
     "output_type": "stream",
     "text": [
      "2 how many sticks will you take? 3\n"
     ]
    },
    {
     "name": "stdout",
     "output_type": "stream",
     "text": [
      "there are 7 sticks left, please take 1,2 or 3 sticks\n"
     ]
    },
    {
     "name": "stdin",
     "output_type": "stream",
     "text": [
      "2 how many sticks will you take? 2\n"
     ]
    },
    {
     "name": "stdout",
     "output_type": "stream",
     "text": [
      "there are 5 sticks left, please take 1,2 or 3 sticks\n"
     ]
    },
    {
     "name": "stdin",
     "output_type": "stream",
     "text": [
      "2 how many sticks will you take? 3\n"
     ]
    },
    {
     "name": "stdout",
     "output_type": "stream",
     "text": [
      "there are 2 sticks left, please take 1,2 or 3 sticks\n"
     ]
    },
    {
     "name": "stdin",
     "output_type": "stream",
     "text": [
      "2 how many sticks will you take? 33\n"
     ]
    },
    {
     "name": "stdout",
     "output_type": "stream",
     "text": [
      "You can take only 1, 2 or 3 of sticks\n",
      "there are 2 sticks left, please take 1,2 or 3 sticks\n"
     ]
    },
    {
     "name": "stdin",
     "output_type": "stream",
     "text": [
      "2 how many sticks will you take? 3\n"
     ]
    },
    {
     "name": "stdout",
     "output_type": "stream",
     "text": [
      "You can take up to 2\n",
      "there are 2 sticks left, please take 1,2 or 3 sticks\n"
     ]
    },
    {
     "name": "stdin",
     "output_type": "stream",
     "text": [
      "2 how many sticks will you take? 3\n"
     ]
    },
    {
     "name": "stdout",
     "output_type": "stream",
     "text": [
      "You can take up to 2\n",
      "there are 2 sticks left, please take 1,2 or 3 sticks\n"
     ]
    },
    {
     "name": "stdin",
     "output_type": "stream",
     "text": [
      "2 how many sticks will you take? 3\n"
     ]
    },
    {
     "name": "stdout",
     "output_type": "stream",
     "text": [
      "You can take up to 2\n",
      "there are 2 sticks left, please take 1,2 or 3 sticks\n"
     ]
    },
    {
     "name": "stdin",
     "output_type": "stream",
     "text": [
      "2 how many sticks will you take? 3\n"
     ]
    },
    {
     "name": "stdout",
     "output_type": "stream",
     "text": [
      "You can take up to 2\n",
      "there are 2 sticks left, please take 1,2 or 3 sticks\n"
     ]
    },
    {
     "name": "stdin",
     "output_type": "stream",
     "text": [
      "2 how many sticks will you take? 33\n"
     ]
    },
    {
     "name": "stdout",
     "output_type": "stream",
     "text": [
      "You can take only 1, 2 or 3 of sticks\n",
      "there are 2 sticks left, please take 1,2 or 3 sticks\n"
     ]
    },
    {
     "name": "stdin",
     "output_type": "stream",
     "text": [
      "2 how many sticks will you take? 3\n"
     ]
    },
    {
     "name": "stdout",
     "output_type": "stream",
     "text": [
      "You can take up to 2\n",
      "there are 2 sticks left, please take 1,2 or 3 sticks\n"
     ]
    },
    {
     "name": "stdin",
     "output_type": "stream",
     "text": [
      "2 how many sticks will you take? 3\n"
     ]
    },
    {
     "name": "stdout",
     "output_type": "stream",
     "text": [
      "You can take up to 2\n",
      "there are 2 sticks left, please take 1,2 or 3 sticks\n"
     ]
    },
    {
     "name": "stdin",
     "output_type": "stream",
     "text": [
      "2 how many sticks will you take? 3\n"
     ]
    },
    {
     "name": "stdout",
     "output_type": "stream",
     "text": [
      "You can take up to 2\n",
      "there are 2 sticks left, please take 1,2 or 3 sticks\n"
     ]
    },
    {
     "name": "stdin",
     "output_type": "stream",
     "text": [
      "2 how many sticks will you take? 33\n"
     ]
    },
    {
     "name": "stdout",
     "output_type": "stream",
     "text": [
      "You can take only 1, 2 or 3 of sticks\n",
      "there are 2 sticks left, please take 1,2 or 3 sticks\n"
     ]
    },
    {
     "name": "stdin",
     "output_type": "stream",
     "text": [
      "2 how many sticks will you take? 33\n"
     ]
    },
    {
     "name": "stdout",
     "output_type": "stream",
     "text": [
      "You can take only 1, 2 or 3 of sticks\n",
      "there are 2 sticks left, please take 1,2 or 3 sticks\n"
     ]
    },
    {
     "name": "stdin",
     "output_type": "stream",
     "text": [
      "2 how many sticks will you take? \n"
     ]
    },
    {
     "name": "stdout",
     "output_type": "stream",
     "text": [
      "You can take only integer amount of sticks\n",
      "there are 2 sticks left, please take 1,2 or 3 sticks\n"
     ]
    },
    {
     "name": "stdin",
     "output_type": "stream",
     "text": [
      "2 how many sticks will you take? 3\n"
     ]
    },
    {
     "name": "stdout",
     "output_type": "stream",
     "text": [
      "You can take up to 2\n",
      "there are 2 sticks left, please take 1,2 or 3 sticks\n"
     ]
    },
    {
     "name": "stdin",
     "output_type": "stream",
     "text": [
      "2 how many sticks will you take? 3\n"
     ]
    },
    {
     "name": "stdout",
     "output_type": "stream",
     "text": [
      "You can take up to 2\n",
      "there are 2 sticks left, please take 1,2 or 3 sticks\n"
     ]
    },
    {
     "name": "stdin",
     "output_type": "stream",
     "text": [
      "2 how many sticks will you take? 333\n"
     ]
    },
    {
     "name": "stdout",
     "output_type": "stream",
     "text": [
      "You can take only 1, 2 or 3 of sticks\n",
      "there are 2 sticks left, please take 1,2 or 3 sticks\n"
     ]
    },
    {
     "name": "stdin",
     "output_type": "stream",
     "text": [
      "2 how many sticks will you take? 2\n"
     ]
    },
    {
     "name": "stdout",
     "output_type": "stream",
     "text": [
      "2 took last stick and loose the game\n"
     ]
    }
   ],
   "source": [
    "def stickGame():\n",
    "    totalAmount = int(input('Please insert amount of sticks or it will be 10 by default') or 10)\n",
    "\n",
    "    player1 = input('Insert first player name') or 'Player1'\n",
    "    player2 = input('Insert second player name') or 'Player2'\n",
    "\n",
    "    players = [player1, player2];\n",
    "\n",
    "    turn = 0\n",
    "\n",
    "    while totalAmount > 0: \n",
    "        try:\n",
    "            print(f'there are {totalAmount} sticks left, please take 1,2 or 3 sticks')\n",
    "            takenAmount = int(input(f'{players[turn]} how many sticks will you take?'))\n",
    "            if takenAmount not in [1,2,3]:\n",
    "             print('You can take only 1, 2 or 3 of sticks')\n",
    "             continue\n",
    "            if takenAmount > totalAmount:\n",
    "             print(f'You can take up to {totalAmount}')\n",
    "            continue\n",
    "            \n",
    "            \n",
    "            totalAmount -= takenAmount\n",
    "            turn = 1 - turn\n",
    "        except ValueError:\n",
    "             print('You can take only integer amount of sticks')\n",
    "\n",
    "\n",
    "    print(f'{players[turn]} took last stick and loose the game')\n",
    "\n",
    "stickGame()\n",
    "        \n",
    "    "
   ]
  },
  {
   "cell_type": "code",
   "execution_count": 7,
   "id": "dd40d59d-240c-4327-9510-f36ace5dc44b",
   "metadata": {},
   "outputs": [
    {
     "data": {
      "text/plain": [
       "[1, 4, 9, 16, 25]"
      ]
     },
     "execution_count": 7,
     "metadata": {},
     "output_type": "execute_result"
    }
   ],
   "source": [
    "def squares(*args):\n",
    "    return [x*x for x in args]\n",
    "res = squares(1,2,3,4,5)\n",
    "res"
   ]
  },
  {
   "cell_type": "code",
   "execution_count": 28,
   "id": "a98e86e8-89ab-467b-9b01-488a6f97ff1a",
   "metadata": {},
   "outputs": [
    {
     "name": "stdout",
     "output_type": "stream",
     "text": [
      "[1, 4, 9, 16, 25]\n"
     ]
    }
   ],
   "source": [
    "def square(num):\n",
    "    return num*num\n",
    "nums = [1,2,3,4,5]\n",
    "\n",
    "res = map(square, nums);\n",
    "nums\n",
    "print(list(res))"
   ]
  },
  {
   "cell_type": "code",
   "execution_count": 32,
   "id": "4c03e528-df8d-4b12-87de-5c6a102d0663",
   "metadata": {},
   "outputs": [
    {
     "name": "stdout",
     "output_type": "stream",
     "text": [
      "[25, 38]\n"
     ]
    }
   ],
   "source": [
    "def isAdult(age):\n",
    "    return age>=18\n",
    "ages = [10, 15,25,38]\n",
    "res = filter(isAdult, ages)\n",
    "print(list(res))"
   ]
  },
  {
   "cell_type": "code",
   "execution_count": 36,
   "id": "c7514ca8-4aa1-4e62-bcba-6988cd2d44ec",
   "metadata": {},
   "outputs": [
    {
     "data": {
      "text/plain": [
       "[25, 38]"
      ]
     },
     "execution_count": 36,
     "metadata": {},
     "output_type": "execute_result"
    }
   ],
   "source": [
    "isAdult = lambda age: age>=18\n",
    "list(filter(isAdult, ages))\n"
   ]
  },
  {
   "cell_type": "code",
   "execution_count": 43,
   "id": "c76ac071-71d3-442d-9fcc-175a2d52f683",
   "metadata": {},
   "outputs": [],
   "source": [
    "# Function scopes"
   ]
  },
  {
   "cell_type": "code",
   "execution_count": 9,
   "id": "f8c35391-28c2-481e-a6a9-0cf0195e8024",
   "metadata": {},
   "outputs": [
    {
     "name": "stdout",
     "output_type": "stream",
     "text": [
      "hello from enclosing scope\n",
      "Hello from global scope\n"
     ]
    }
   ],
   "source": [
    "greeting = 'Hello from global scope'\n",
    "def greet():\n",
    "        greeting = 'hello from enclosing scope'\n",
    "        def nested():\n",
    "            #greeting = 'Hello from local scope'\n",
    "            print(greeting)\n",
    "        nested()\n",
    "greet()\n",
    "print(greeting)"
   ]
  },
  {
   "cell_type": "code",
   "execution_count": 11,
   "id": "9e06f553-b714-4ece-8d12-d49d03847dbd",
   "metadata": {},
   "outputs": [],
   "source": [
    "#Decorators"
   ]
  },
  {
   "cell_type": "code",
   "execution_count": 13,
   "id": "dc5defcb-b6ae-4e51-a20e-98fede555a6c",
   "metadata": {},
   "outputs": [
    {
     "name": "stdout",
     "output_type": "stream",
     "text": [
      "hello world\n"
     ]
    }
   ],
   "source": [
    "def helloWorld(): \n",
    "    print('hello world')\n",
    "helloWorld() "
   ]
  },
  {
   "cell_type": "code",
   "execution_count": 15,
   "id": "407b6167-3644-489d-8b82-d325f19450ec",
   "metadata": {},
   "outputs": [],
   "source": [
    "hello = helloWorld"
   ]
  },
  {
   "cell_type": "code",
   "execution_count": 17,
   "id": "d95e1909-09fc-4373-a977-494352f06341",
   "metadata": {},
   "outputs": [
    {
     "name": "stdout",
     "output_type": "stream",
     "text": [
      "hello world\n"
     ]
    }
   ],
   "source": [
    "hello()"
   ]
  },
  {
   "cell_type": "code",
   "execution_count": 19,
   "id": "d7f11c29-33d8-4dcb-9dd3-de8a3b490885",
   "metadata": {},
   "outputs": [
    {
     "name": "stdout",
     "output_type": "stream",
     "text": [
      "calling foo - <function hello at 0x1661a2f20>\n",
      "Hello world\n",
      "finished with foo - <function hello at 0x1661a2f20>\n"
     ]
    }
   ],
   "source": [
    "def logDecorator(foo):\n",
    "    def wrap(*args, **kwargs):\n",
    "        print(f'calling foo - {foo}')\n",
    "        foo(*args, **kwargs)\n",
    "        print(f'finished with foo - {foo}')\n",
    "    return wrap\n",
    "\n",
    "def hello():\n",
    "    print('Hello world')\n",
    "\n",
    "wrappedFoo = logDecorator(hello)\n",
    "wrappedFoo()"
   ]
  },
  {
   "cell_type": "code",
   "execution_count": 21,
   "id": "0eb304fc-4a9e-42f2-bce3-09885473f6ad",
   "metadata": {},
   "outputs": [],
   "source": [
    "@logDecorator\n",
    "def hello():\n",
    "    print('Hello world')"
   ]
  },
  {
   "cell_type": "code",
   "execution_count": 23,
   "id": "9b4e42d5-cf53-4155-99ec-9bf089af890a",
   "metadata": {},
   "outputs": [
    {
     "name": "stdout",
     "output_type": "stream",
     "text": [
      "calling foo - <function hello at 0x1661a3380>\n",
      "Hello world\n",
      "finished with foo - <function hello at 0x1661a3380>\n"
     ]
    }
   ],
   "source": [
    "hello()"
   ]
  },
  {
   "cell_type": "code",
   "execution_count": 25,
   "id": "3a376998-d461-481a-b581-abf444603013",
   "metadata": {},
   "outputs": [
    {
     "name": "stdout",
     "output_type": "stream",
     "text": [
      "Help on function wrap in module __main__:\n",
      "\n",
      "wrap(*args, **kwargs)\n",
      "\n"
     ]
    }
   ],
   "source": [
    "help(hello)"
   ]
  },
  {
   "cell_type": "code",
   "execution_count": null,
   "id": "7fdf7af9-b686-4123-87c4-8ab568705351",
   "metadata": {},
   "outputs": [],
   "source": [
    "#wraps decorator helps with introspectors - more stable and predictable path"
   ]
  },
  {
   "cell_type": "code",
   "execution_count": 27,
   "id": "bd7ef428-274a-41fe-a326-4bb5f1ab5b97",
   "metadata": {},
   "outputs": [],
   "source": [
    "from functools import wraps\n",
    "\n",
    "def logDecorator(foo):\n",
    "    @wraps(foo)\n",
    "    def wrap(*args, **kwargs):\n",
    "        print(f'calling foo - {foo}')\n",
    "        foo(*args, **kwargs)\n",
    "        print(f'finished with foo - {foo}')\n",
    "    return wrap\n"
   ]
  },
  {
   "cell_type": "code",
   "execution_count": 29,
   "id": "f698c5e7-6960-42d2-b99c-f9dd73b8a7a9",
   "metadata": {},
   "outputs": [],
   "source": [
    "@logDecorator\n",
    "def hello():\n",
    "    print('Hello world')"
   ]
  },
  {
   "cell_type": "code",
   "execution_count": 31,
   "id": "c1b267f7-8109-494d-b92f-c64ab295320d",
   "metadata": {},
   "outputs": [
    {
     "name": "stdout",
     "output_type": "stream",
     "text": [
      "Help on function hello in module __main__:\n",
      "\n",
      "hello()\n",
      "\n"
     ]
    }
   ],
   "source": [
    "help(hello)"
   ]
  },
  {
   "cell_type": "code",
   "execution_count": null,
   "id": "9db58453-99f7-4657-87e3-75fe523d0a72",
   "metadata": {},
   "outputs": [],
   "source": [
    "#Write a foo that takes string - romulan nums and returns arabic one I - 1 V - 5 X - 10 L - 50 C - 100 D - 500 M - 1000"
   ]
  },
  {
   "cell_type": "code",
   "execution_count": 97,
   "id": "e5eed9d9-d7c6-4619-a097-eae903aca1f4",
   "metadata": {},
   "outputs": [
    {
     "data": {
      "text/plain": [
       "4"
      ]
     },
     "execution_count": 97,
     "metadata": {},
     "output_type": "execute_result"
    }
   ],
   "source": [
    "romList = ('I', 'V', 'X', 'L', 'C', 'D', 'M')\n",
    "arabList = (1, 5, 10, 50, 100, 500, 1000)\n",
    "def transformNums(rom):\n",
    "    result = 0\n",
    "    numsDict = dict(zip(romList, arabList))\n",
    "\n",
    "    for i, char in enumerate(rom):\n",
    "        if i < len(rom) - 1 and numsDict[char] < numsDict[rom[i + 1]]:\n",
    "            result -= numsDict[char]\n",
    "        else:\n",
    "            result += numsDict[char]\n",
    "\n",
    "    return result\n",
    "\n",
    "\n",
    "transformNums('IV')"
   ]
  },
  {
   "cell_type": "code",
   "execution_count": null,
   "id": "294bbf3c-badc-4280-99bc-f56ce9df226d",
   "metadata": {},
   "outputs": [],
   "source": [
    "#Errors and exceptiona handling"
   ]
  },
  {
   "cell_type": "code",
   "execution_count": 1,
   "id": "223f750d-6bd4-43a8-b9ba-79edc5f3cee6",
   "metadata": {},
   "outputs": [],
   "source": [
    "def divide1(a,b):\n",
    "    return print(a/b);"
   ]
  },
  {
   "cell_type": "code",
   "execution_count": 19,
   "id": "25a7a58f-3bae-4e2d-a3f1-213b28707b57",
   "metadata": {},
   "outputs": [
    {
     "name": "stdout",
     "output_type": "stream",
     "text": [
      "2.0\n"
     ]
    }
   ],
   "source": [
    "divide1(4,2)"
   ]
  },
  {
   "cell_type": "code",
   "execution_count": 21,
   "id": "0a1be2f8-f7cc-4b66-8361-d3cc59aa2037",
   "metadata": {},
   "outputs": [
    {
     "ename": "ZeroDivisionError",
     "evalue": "division by zero",
     "output_type": "error",
     "traceback": [
      "\u001b[0;31m---------------------------------------------------------------------------\u001b[0m",
      "\u001b[0;31mZeroDivisionError\u001b[0m                         Traceback (most recent call last)",
      "Cell \u001b[0;32mIn[21], line 1\u001b[0m\n\u001b[0;32m----> 1\u001b[0m divide1(\u001b[38;5;241m2\u001b[39m,\u001b[38;5;241m0\u001b[39m)\n",
      "Cell \u001b[0;32mIn[1], line 2\u001b[0m, in \u001b[0;36mdivide1\u001b[0;34m(a, b)\u001b[0m\n\u001b[1;32m      1\u001b[0m \u001b[38;5;28;01mdef\u001b[39;00m \u001b[38;5;21mdivide1\u001b[39m(a,b):\n\u001b[0;32m----> 2\u001b[0m     \u001b[38;5;28;01mreturn\u001b[39;00m \u001b[38;5;28mprint\u001b[39m(a\u001b[38;5;241m/\u001b[39mb)\n",
      "\u001b[0;31mZeroDivisionError\u001b[0m: division by zero"
     ]
    }
   ],
   "source": [
    "divide1(2,0)"
   ]
  },
  {
   "cell_type": "code",
   "execution_count": 25,
   "id": "71b0a815-1e99-423e-ada5-eb5bf7123528",
   "metadata": {},
   "outputs": [],
   "source": [
    "def divide2(a,b):\n",
    "    try:\n",
    "        return print(a/b);\n",
    "    except:\n",
    "        print(f'woop, we have an error')"
   ]
  },
  {
   "cell_type": "code",
   "execution_count": 27,
   "id": "545eb5b8-be98-4e9f-bbfc-ccb6cb16119a",
   "metadata": {},
   "outputs": [
    {
     "name": "stdout",
     "output_type": "stream",
     "text": [
      "woop, we have an error\n"
     ]
    }
   ],
   "source": [
    "divide2(2,'ha')"
   ]
  },
  {
   "cell_type": "code",
   "execution_count": null,
   "id": "18796f8a-ac77-4f63-b096-981ff7987786",
   "metadata": {},
   "outputs": [],
   "source": [
    "#task"
   ]
  },
  {
   "cell_type": "code",
   "execution_count": 33,
   "id": "1f4f293e-a18e-49c6-a326-ef6f2844ab97",
   "metadata": {},
   "outputs": [],
   "source": [
    "def getInt():\n",
    "    while True:\n",
    "        try:\n",
    "            reply = int(input('Enter any num...'));\n",
    "            return print(reply);\n",
    "        except:\n",
    "            print('Not a num, try again')\n",
    "            continue"
   ]
  },
  {
   "cell_type": "code",
   "execution_count": 35,
   "id": "4f3ebb72-5c2b-4481-b9c8-86f011c70452",
   "metadata": {},
   "outputs": [
    {
     "name": "stdin",
     "output_type": "stream",
     "text": [
      "Enter any num... fd\n"
     ]
    },
    {
     "name": "stdout",
     "output_type": "stream",
     "text": [
      "Not a num, try again\n"
     ]
    },
    {
     "name": "stdin",
     "output_type": "stream",
     "text": [
      "Enter any num... ee\n"
     ]
    },
    {
     "name": "stdout",
     "output_type": "stream",
     "text": [
      "Not a num, try again\n"
     ]
    },
    {
     "name": "stdin",
     "output_type": "stream",
     "text": [
      "Enter any num... 3\n"
     ]
    },
    {
     "name": "stdout",
     "output_type": "stream",
     "text": [
      "3\n"
     ]
    }
   ],
   "source": [
    "getInt()"
   ]
  },
  {
   "cell_type": "code",
   "execution_count": null,
   "id": "8af4a346-44b2-4f6d-91e1-6c6a78d07e67",
   "metadata": {},
   "outputs": [],
   "source": [
    "#Custom exceptions with RAISE"
   ]
  },
  {
   "cell_type": "code",
   "execution_count": 44,
   "id": "32166261-851e-4a55-ae50-aa7a1dbd2f4e",
   "metadata": {},
   "outputs": [],
   "source": [
    "import math\n",
    "\n",
    "def calcSquareTriangle(ab,ac, bc):\n",
    "    if ab<=0 or ac<=0 or bc <=0:\n",
    "        raise ValueError('One of the sides is less or equal to 0')\n",
    "    p = (ab + bc + ac) / 2\n",
    "    s = math.sqrt(p* (p-ab) * (p-ac) * (p-bc))\n",
    "\n",
    "    return print(s)\n",
    "\n"
   ]
  },
  {
   "cell_type": "code",
   "execution_count": 46,
   "id": "6962b2bf-12bd-4b4c-be61-310b1df3caa7",
   "metadata": {},
   "outputs": [
    {
     "name": "stdout",
     "output_type": "stream",
     "text": [
      "3.897114317029974\n"
     ]
    }
   ],
   "source": [
    "calcSquareTriangle(3,3,3)"
   ]
  },
  {
   "cell_type": "code",
   "execution_count": 48,
   "id": "cbee6a95-dfb8-4d1b-887e-777103a8c2b2",
   "metadata": {},
   "outputs": [
    {
     "ename": "ValueError",
     "evalue": "One of the sides is less or equal to 0",
     "output_type": "error",
     "traceback": [
      "\u001b[0;31m---------------------------------------------------------------------------\u001b[0m",
      "\u001b[0;31mValueError\u001b[0m                                Traceback (most recent call last)",
      "Cell \u001b[0;32mIn[48], line 1\u001b[0m\n\u001b[0;32m----> 1\u001b[0m calcSquareTriangle(\u001b[38;5;241m3\u001b[39m,\u001b[38;5;241m-\u001b[39m\u001b[38;5;241m3\u001b[39m,\u001b[38;5;241m3\u001b[39m)\n",
      "Cell \u001b[0;32mIn[44], line 5\u001b[0m, in \u001b[0;36mcalcSquareTriangle\u001b[0;34m(ab, ac, bc)\u001b[0m\n\u001b[1;32m      3\u001b[0m \u001b[38;5;28;01mdef\u001b[39;00m \u001b[38;5;21mcalcSquareTriangle\u001b[39m(ab,ac, bc):\n\u001b[1;32m      4\u001b[0m     \u001b[38;5;28;01mif\u001b[39;00m ab\u001b[38;5;241m<\u001b[39m\u001b[38;5;241m=\u001b[39m\u001b[38;5;241m0\u001b[39m \u001b[38;5;129;01mor\u001b[39;00m ac\u001b[38;5;241m<\u001b[39m\u001b[38;5;241m=\u001b[39m\u001b[38;5;241m0\u001b[39m \u001b[38;5;129;01mor\u001b[39;00m bc \u001b[38;5;241m<\u001b[39m\u001b[38;5;241m=\u001b[39m\u001b[38;5;241m0\u001b[39m:\n\u001b[0;32m----> 5\u001b[0m         \u001b[38;5;28;01mraise\u001b[39;00m \u001b[38;5;167;01mValueError\u001b[39;00m(\u001b[38;5;124m'\u001b[39m\u001b[38;5;124mOne of the sides is less or equal to 0\u001b[39m\u001b[38;5;124m'\u001b[39m)\n\u001b[1;32m      6\u001b[0m     p \u001b[38;5;241m=\u001b[39m (ab \u001b[38;5;241m+\u001b[39m bc \u001b[38;5;241m+\u001b[39m ac) \u001b[38;5;241m/\u001b[39m \u001b[38;5;241m2\u001b[39m\n\u001b[1;32m      7\u001b[0m     s \u001b[38;5;241m=\u001b[39m math\u001b[38;5;241m.\u001b[39msqrt(p\u001b[38;5;241m*\u001b[39m (p\u001b[38;5;241m-\u001b[39mab) \u001b[38;5;241m*\u001b[39m (p\u001b[38;5;241m-\u001b[39mac) \u001b[38;5;241m*\u001b[39m (p\u001b[38;5;241m-\u001b[39mbc))\n",
      "\u001b[0;31mValueError\u001b[0m: One of the sides is less or equal to 0"
     ]
    }
   ],
   "source": [
    "calcSquareTriangle(3,-3,3)"
   ]
  },
  {
   "cell_type": "code",
   "execution_count": null,
   "id": "d0efc963-e6bd-41da-9ca0-4b4ea45fffd2",
   "metadata": {},
   "outputs": [],
   "source": [
    "#valueerror is default exception object  from py library, "
   ]
  },
  {
   "cell_type": "code",
   "execution_count": null,
   "id": "0fea7c35-c6fa-49b9-b61a-59b3d9076fb6",
   "metadata": {},
   "outputs": [],
   "source": [
    "# we can use custom ecxeption via class syntax"
   ]
  },
  {
   "cell_type": "code",
   "execution_count": 1,
   "id": "f7343caf-d5f6-48a8-a731-e7945295f0bc",
   "metadata": {},
   "outputs": [],
   "source": [
    "class InvalidTriangleError(Exception):\n",
    "    \"\"\"Raised when a triangle has invalid side\"\"\"\n",
    "    "
   ]
  },
  {
   "cell_type": "code",
   "execution_count": 3,
   "id": "4b14caef-35bd-4971-a93a-c440011c0543",
   "metadata": {},
   "outputs": [],
   "source": [
    "import math\n",
    "\n",
    "def calcSquareTriangle(ab,ac, bc):\n",
    "    if ab<=0 or ac<=0 or bc <=0:\n",
    "        raise InvalidTriangleError('One of the sides is less or equal to 0')\n",
    "    p = (ab + bc + ac) / 2\n",
    "    s = math.sqrt(p* (p-ab) * (p-ac) * (p-bc))\n",
    "\n",
    "    return print(s)\n"
   ]
  },
  {
   "cell_type": "code",
   "execution_count": 5,
   "id": "377ab679-60bc-4b22-a514-d494a3e9e31f",
   "metadata": {},
   "outputs": [
    {
     "ename": "InvalidTriangleError",
     "evalue": "One of the sides is less or equal to 0",
     "output_type": "error",
     "traceback": [
      "\u001b[0;31m---------------------------------------------------------------------------\u001b[0m",
      "\u001b[0;31mInvalidTriangleError\u001b[0m                      Traceback (most recent call last)",
      "Cell \u001b[0;32mIn[5], line 1\u001b[0m\n\u001b[0;32m----> 1\u001b[0m calcSquareTriangle(\u001b[38;5;241m3\u001b[39m,\u001b[38;5;241m-\u001b[39m\u001b[38;5;241m3\u001b[39m,\u001b[38;5;241m3\u001b[39m)\n",
      "Cell \u001b[0;32mIn[3], line 5\u001b[0m, in \u001b[0;36mcalcSquareTriangle\u001b[0;34m(ab, ac, bc)\u001b[0m\n\u001b[1;32m      3\u001b[0m \u001b[38;5;28;01mdef\u001b[39;00m \u001b[38;5;21mcalcSquareTriangle\u001b[39m(ab,ac, bc):\n\u001b[1;32m      4\u001b[0m     \u001b[38;5;28;01mif\u001b[39;00m ab\u001b[38;5;241m<\u001b[39m\u001b[38;5;241m=\u001b[39m\u001b[38;5;241m0\u001b[39m \u001b[38;5;129;01mor\u001b[39;00m ac\u001b[38;5;241m<\u001b[39m\u001b[38;5;241m=\u001b[39m\u001b[38;5;241m0\u001b[39m \u001b[38;5;129;01mor\u001b[39;00m bc \u001b[38;5;241m<\u001b[39m\u001b[38;5;241m=\u001b[39m\u001b[38;5;241m0\u001b[39m:\n\u001b[0;32m----> 5\u001b[0m         \u001b[38;5;28;01mraise\u001b[39;00m InvalidTriangleError(\u001b[38;5;124m'\u001b[39m\u001b[38;5;124mOne of the sides is less or equal to 0\u001b[39m\u001b[38;5;124m'\u001b[39m)\n\u001b[1;32m      6\u001b[0m     p \u001b[38;5;241m=\u001b[39m (ab \u001b[38;5;241m+\u001b[39m bc \u001b[38;5;241m+\u001b[39m ac) \u001b[38;5;241m/\u001b[39m \u001b[38;5;241m2\u001b[39m\n\u001b[1;32m      7\u001b[0m     s \u001b[38;5;241m=\u001b[39m math\u001b[38;5;241m.\u001b[39msqrt(p\u001b[38;5;241m*\u001b[39m (p\u001b[38;5;241m-\u001b[39mab) \u001b[38;5;241m*\u001b[39m (p\u001b[38;5;241m-\u001b[39mac) \u001b[38;5;241m*\u001b[39m (p\u001b[38;5;241m-\u001b[39mbc))\n",
      "\u001b[0;31mInvalidTriangleError\u001b[0m: One of the sides is less or equal to 0"
     ]
    }
   ],
   "source": [
    "calcSquareTriangle(3,-3,3)"
   ]
  },
  {
   "cell_type": "code",
   "execution_count": null,
   "id": "ae14d212-46b4-44d6-b44f-5d8f836a7b29",
   "metadata": {},
   "outputs": [],
   "source": [
    "#Сlasses basics"
   ]
  },
  {
   "cell_type": "code",
   "execution_count": 49,
   "id": "be1e8933-022a-4cdb-905d-55059928d718",
   "metadata": {},
   "outputs": [],
   "source": [
    "class CharSuper():\n",
    "    def __init__(self, race): #here we're defining constructor method - __name__ - special methods \n",
    "        self.race = race #self - attr of instance  - link on self of class\n",
    "\n",
    "    def getRace(self):\n",
    "        return self.race"
   ]
  },
  {
   "cell_type": "code",
   "execution_count": 51,
   "id": "d608905b-89db-44f1-aaa7-b13a5814b8c4",
   "metadata": {},
   "outputs": [
    {
     "data": {
      "text/plain": [
       "__main__.CharSuper"
      ]
     },
     "execution_count": 51,
     "metadata": {},
     "output_type": "execute_result"
    }
   ],
   "source": [
    "unit = CharSuper('Human')\n",
    "type(unit)"
   ]
  },
  {
   "cell_type": "code",
   "execution_count": 53,
   "id": "aafe4f9d-6bab-4535-ad86-302738c6aabf",
   "metadata": {},
   "outputs": [
    {
     "data": {
      "text/plain": [
       "'Human'"
      ]
     },
     "execution_count": 53,
     "metadata": {},
     "output_type": "execute_result"
    }
   ],
   "source": [
    "unit.getRace()"
   ]
  },
  {
   "cell_type": "code",
   "execution_count": null,
   "id": "0372fa66-2a98-41f2-8ac6-dc5546326e9f",
   "metadata": {},
   "outputs": [],
   "source": [
    "# Attributes, props and methods"
   ]
  },
  {
   "cell_type": "code",
   "execution_count": 79,
   "id": "5cf8c727-43e8-433a-a879-7f39deb950ca",
   "metadata": {},
   "outputs": [],
   "source": [
    "class CharSuper():\n",
    "    maxSpeed = 100\n",
    "    deadHealth = 0\n",
    "    def __init__(self, race, damage = 10, armor = 20): #default foo params\n",
    "        self.race = race \n",
    "        self.damage = damage\n",
    "        self.armor = armor\n",
    "        self.health = 100\n",
    "        \n",
    "    def getRace(self):\n",
    "        return print(self.race)\n",
    "    def hit(self,damage):\n",
    "        self.health -= damage\n",
    "\n",
    "    def isDead(self):\n",
    "        return self.health == Character.deadHeals\n"
   ]
  },
  {
   "cell_type": "code",
   "execution_count": 81,
   "id": "cadc8859-38ec-49f5-8a2e-292973e1eafb",
   "metadata": {},
   "outputs": [
    {
     "data": {
      "text/plain": [
       "80"
      ]
     },
     "execution_count": 81,
     "metadata": {},
     "output_type": "execute_result"
    }
   ],
   "source": [
    "ork = CharSuper('Ork')\n",
    "\n",
    "ork.hit(20)\n",
    "ork.health\n",
    "\n",
    "ork.currentSpeed(30)\n"
   ]
  },
  {
   "cell_type": "code",
   "execution_count": null,
   "id": "09fd7521-28d7-4ec2-bc3b-a045c8e5d5cf",
   "metadata": {},
   "outputs": [],
   "source": [
    "#We do not have private attributes(props) in python"
   ]
  },
  {
   "cell_type": "code",
   "execution_count": 119,
   "id": "2f0f5ca1-67fc-4085-8f3c-8478445d6ab4",
   "metadata": {},
   "outputs": [],
   "source": [
    "#But we can use protected and static props"
   ]
  },
  {
   "cell_type": "code",
   "execution_count": 137,
   "id": "174c37ce-219a-40e8-bd33-c0de38b55849",
   "metadata": {},
   "outputs": [],
   "source": [
    "class CharSuper():\n",
    "    MAX_SPEED = 100 #constants we define with capital chracters, but we have the ability to modify it, but agreed not to do that\n",
    "\n",
    "    def __init__(self, race, damage = 10):\n",
    "        self.damage = damage\n",
    "        self.__race = race # here we use 2 _ - that means this is private attribute we can't read or reassign it(agrred) ork._CharSuper__race - but with it we can\n",
    "        self._health = 100# with one _ we will see this at instances \n",
    "        self._currentSpeed = 20\n",
    "        \n",
    "\n",
    "    def getRace(self):\n",
    "        return print(self.race)\n",
    "    def hit(self,damage):\n",
    "        self.health -= damage\n",
    "        \n",
    "    @property ## this is getter - we can use this prop outside of the class - so thats protected property\n",
    "    def health(self):\n",
    "        return self._health ## better to use @property decorator if we have some complex logic inside of it\n",
    "\n",
    "    def isDead(self):\n",
    "        return self.health == Character.deadHeals\n",
    "    @property\n",
    "    def currentSpeed(self):\n",
    "        return self._currentSpeed\n",
    "\n",
    "    @currentSpeed.setter\n",
    "    def currentSpeed(self, newSpeed):\n",
    "        if newSpeed < 0:\n",
    "            self._currentSpeed = 0\n",
    "        if newSpeed > 100:\n",
    "            self._currentSpeed = 100\n",
    "        else:\n",
    "            self._currentSpeed = newSpeed\n"
   ]
  },
  {
   "cell_type": "code",
   "execution_count": 139,
   "id": "ffba1b49-b58e-49df-aa35-3add1ced2b88",
   "metadata": {},
   "outputs": [
    {
     "data": {
      "text/plain": [
       "20"
      ]
     },
     "execution_count": 139,
     "metadata": {},
     "output_type": "execute_result"
    }
   ],
   "source": [
    "human = CharSuper('Human')\n",
    "\n",
    "human.currentSpeed\n"
   ]
  },
  {
   "cell_type": "code",
   "execution_count": 141,
   "id": "d4541544-adaf-4ed8-8127-595dd3ba6f47",
   "metadata": {},
   "outputs": [],
   "source": [
    "human.currentSpeed = 50"
   ]
  },
  {
   "cell_type": "code",
   "execution_count": 143,
   "id": "9d9a6ff3-96a7-4079-88cb-446fc5d6afc3",
   "metadata": {},
   "outputs": [
    {
     "data": {
      "text/plain": [
       "50"
      ]
     },
     "execution_count": 143,
     "metadata": {},
     "output_type": "execute_result"
    }
   ],
   "source": [
    "human.currentSpeed"
   ]
  },
  {
   "cell_type": "code",
   "execution_count": null,
   "id": "b0633916-f6ab-4fc2-99b0-0e4a0bdab173",
   "metadata": {},
   "outputs": [],
   "source": [
    " #Static methods and attributes\n",
    "#we can call statis props and methods not only via class but with instance too "
   ]
  },
  {
   "cell_type": "code",
   "execution_count": 147,
   "id": "3a2f9239-2af5-4af5-a00b-bb2762b9ba7b",
   "metadata": {},
   "outputs": [],
   "source": [
    "class StaticTest:\n",
    "    x = 1"
   ]
  },
  {
   "cell_type": "code",
   "execution_count": 155,
   "id": "3ab090f4-14ce-4191-ade6-98a613d8d54a",
   "metadata": {},
   "outputs": [],
   "source": [
    "t1 = StaticTest()"
   ]
  },
  {
   "cell_type": "code",
   "execution_count": 157,
   "id": "e8815970-5bdf-49f1-930f-839fff828a43",
   "metadata": {},
   "outputs": [
    {
     "name": "stdout",
     "output_type": "stream",
     "text": [
      "via instance: 1\n",
      "via class: 1\n"
     ]
    }
   ],
   "source": [
    "print(f'via instance: {t1.x}')\n",
    "print(f'via class: {StaticTest.x}')"
   ]
  },
  {
   "cell_type": "code",
   "execution_count": 159,
   "id": "d2e5fa48-cab7-4381-b629-9f282204c2e9",
   "metadata": {},
   "outputs": [],
   "source": [
    "t1.x = 2"
   ]
  },
  {
   "cell_type": "code",
   "execution_count": 161,
   "id": "a0368943-9600-416d-997f-504fa343cc28",
   "metadata": {},
   "outputs": [
    {
     "name": "stdout",
     "output_type": "stream",
     "text": [
      "via instance: 2\n",
      "via class: 1\n"
     ]
    }
   ],
   "source": [
    "print(f'via instance: {t1.x}')\n",
    "print(f'via class: {StaticTest.x}')"
   ]
  },
  {
   "cell_type": "code",
   "execution_count": null,
   "id": "8ce80fae-52cf-4a99-9f0f-f86b5b695a1c",
   "metadata": {},
   "outputs": [],
   "source": [
    "#here we change attributes dedicated on instance, not linked with static CLASS attribute"
   ]
  },
  {
   "cell_type": "code",
   "execution_count": null,
   "id": "915b6eb4-0f94-46af-9754-057524ec6fcf",
   "metadata": {},
   "outputs": [],
   "source": [
    "class Date:\n",
    "    def __init__(self, month, day, year):\n",
    "        self.month = month\n",
    "        self.day = day\n",
    "        self.year = year\n",
    "\n",
    "    def display(self):\n",
    "        return f'{self.month} - {self.day} - {self.year}'\n",
    "    @classmethod # static method with classmethod decorator get cls as a first param - looks like self but not instance but class itself\n",
    "    def millenum_c(cls, month, day)\n",
    "        return cls(month,day, 2000) # will call class constructor\n",
    "\n",
    "    @staticmethod # this is static method that will call class by name, not inside of operation but differense that classmethod working on class \n",
    "    #whitch will be calling, but with staticmethod we will always work with called class\n",
    "    def millenium_s(month, day):\n",
    "        return Date(month,day, 2000)"
   ]
  },
  {
   "cell_type": "code",
   "execution_count": null,
   "id": "35a4ee88-7db6-4701-bb32-eccdf4a6e906",
   "metadata": {},
   "outputs": [],
   "source": []
  }
 ],
 "metadata": {
  "kernelspec": {
   "display_name": "Python [conda env:base] *",
   "language": "python",
   "name": "conda-base-py"
  },
  "language_info": {
   "codemirror_mode": {
    "name": "ipython",
    "version": 3
   },
   "file_extension": ".py",
   "mimetype": "text/x-python",
   "name": "python",
   "nbconvert_exporter": "python",
   "pygments_lexer": "ipython3",
   "version": "3.12.7"
  }
 },
 "nbformat": 4,
 "nbformat_minor": 5
}
