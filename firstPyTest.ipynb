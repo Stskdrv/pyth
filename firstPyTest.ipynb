{
 "cells": [
  {
   "cell_type": "code",
   "execution_count": 1,
   "id": "63430c92-a01c-4f1b-8a86-8e635b8ee4b5",
   "metadata": {},
   "outputs": [
    {
     "name": "stdout",
     "output_type": "stream",
     "text": [
      "Hello world\n"
     ]
    }
   ],
   "source": [
    "print('Hello world')"
   ]
  },
  {
   "cell_type": "code",
   "execution_count": 2,
   "id": "df468a36-e029-4147-80b2-ada0a124cde3",
   "metadata": {},
   "outputs": [
    {
     "data": {
      "text/plain": [
       "12"
      ]
     },
     "execution_count": 2,
     "metadata": {},
     "output_type": "execute_result"
    }
   ],
   "source": [
    "2*6"
   ]
  },
  {
   "cell_type": "code",
   "execution_count": 3,
   "id": "8a7686de-1c23-4a3d-a8fb-63bfe79ec798",
   "metadata": {},
   "outputs": [
    {
     "data": {
      "text/plain": [
       "12.0"
      ]
     },
     "execution_count": 3,
     "metadata": {},
     "output_type": "execute_result"
    }
   ],
   "source": [
    "24/2"
   ]
  },
  {
   "cell_type": "code",
   "execution_count": 4,
   "id": "12b07ec8-47f2-43d9-8094-b1b1aee35081",
   "metadata": {},
   "outputs": [
    {
     "data": {
      "text/plain": [
       "12"
      ]
     },
     "execution_count": 4,
     "metadata": {},
     "output_type": "execute_result"
    }
   ],
   "source": [
    "2**3+4"
   ]
  },
  {
   "cell_type": "code",
   "execution_count": 5,
   "id": "964c03d2-04a1-4834-b023-95ea696a36f0",
   "metadata": {},
   "outputs": [],
   "source": [
    "name = 'John Snow'\n",
    "age = 29"
   ]
  },
  {
   "cell_type": "code",
   "execution_count": 6,
   "id": "7ba92338-ef47-4ba3-821f-074418fc69fb",
   "metadata": {},
   "outputs": [
    {
     "name": "stdout",
     "output_type": "stream",
     "text": [
      "John Snow 29\n"
     ]
    }
   ],
   "source": [
    "print(name, age)"
   ]
  },
  {
   "cell_type": "code",
   "execution_count": 7,
   "id": "eee083de-378a-4dc8-8009-07bbf8515eee",
   "metadata": {},
   "outputs": [
    {
     "data": {
      "text/plain": [
       "'/Users/stanislavkadyrov/Documents/python'"
      ]
     },
     "execution_count": 7,
     "metadata": {},
     "output_type": "execute_result"
    }
   ],
   "source": [
    "pwd"
   ]
  },
  {
   "cell_type": "code",
   "execution_count": 8,
   "id": "ee185974-2c97-48ab-9451-8796a55ce533",
   "metadata": {},
   "outputs": [
    {
     "name": "stdout",
     "output_type": "stream",
     "text": [
      "lol, working\n"
     ]
    }
   ],
   "source": [
    "with open('file.txt', mode='w+') as file:\n",
    "    file.write('lol, working');\n",
    "    file.seek(0);\n",
    "    data = file.read();\n",
    "    print(data);"
   ]
  },
  {
   "cell_type": "code",
   "execution_count": 17,
   "id": "603412ac-237d-41b0-9719-44da4c054680",
   "metadata": {},
   "outputs": [
    {
     "data": {
      "text/plain": [
       "'utf-8'"
      ]
     },
     "execution_count": 17,
     "metadata": {},
     "output_type": "execute_result"
    }
   ],
   "source": [
    "import sys\n",
    "sys.getdefaultencoding()"
   ]
  },
  {
   "cell_type": "code",
   "execution_count": 19,
   "id": "cf8cdf9b-bd1c-44be-96b8-957c1b0284bb",
   "metadata": {},
   "outputs": [
    {
     "data": {
      "text/plain": [
       "97"
      ]
     },
     "execution_count": 19,
     "metadata": {},
     "output_type": "execute_result"
    }
   ],
   "source": [
    "ord('a)"
   ]
  },
  {
   "cell_type": "code",
   "execution_count": 21,
   "id": "87763360-c562-4401-a3b4-339290caa44c",
   "metadata": {},
   "outputs": [
    {
     "data": {
      "text/plain": [
       "'Ń'"
      ]
     },
     "execution_count": 21,
     "metadata": {},
     "output_type": "execute_result"
    }
   ],
   "source": [
    "chr(323)\n"
   ]
  },
  {
   "cell_type": "code",
   "execution_count": 172,
   "id": "b34d82b7-7b23-4ebf-8236-e0e8731b4dbb",
   "metadata": {},
   "outputs": [
    {
     "name": "stdout",
     "output_type": "stream",
     "text": [
      "Attempt 1, Type a num 2\n"
     ]
    },
    {
     "name": "stdout",
     "output_type": "stream",
     "text": [
      "Yoy should try bigger num\n"
     ]
    },
    {
     "name": "stdout",
     "output_type": "stream",
     "text": [
      "Attempt 2, Type a num 2\n"
     ]
    },
    {
     "name": "stdout",
     "output_type": "stream",
     "text": [
      "Yoy should try bigger num\n"
     ]
    },
    {
     "name": "stdout",
     "output_type": "stream",
     "text": [
      "Attempt 3, Type a num 5\n"
     ]
    },
    {
     "name": "stdout",
     "output_type": "stream",
     "text": [
      "Hey, you score!\n"
     ]
    }
   ],
   "source": [
    "def guessNum():\n",
    "    secretNum = random.randint(1,10);\n",
    "    attempts = 6;\n",
    "\n",
    "    for attempt in range(1, attempts +1): \n",
    "        try: \n",
    "            guess = int(input(f'Attempt {attempt}, Type a num'))\n",
    "            if guess == secretNum:\n",
    "                print('Hey, you score!');\n",
    "                return\n",
    "            hint = 'bigger' if guess < secretNum else 'smaller'\n",
    "            print(f'Yoy should try {hint} num')\n",
    "        except ValueError:\n",
    "            print('You should use integral num')\n",
    "    print(f'You used all tryes, num was {secretNum}')\n",
    "\n",
    "guessNum();"
   ]
  },
  {
   "cell_type": "code",
   "execution_count": 38,
   "id": "74c9369b-7cce-4141-bbac-5ad7d7beff71",
   "metadata": {},
   "outputs": [
    {
     "name": "stdin",
     "output_type": "stream",
     "text": [
      "Please insert amount of sticks or it will be 10 by default 10\n",
      "Insert first player name 2\n",
      "Insert second player name 2\n"
     ]
    },
    {
     "name": "stdout",
     "output_type": "stream",
     "text": [
      "there are 10 sticks left, please take 1,2 or 3 sticks\n"
     ]
    },
    {
     "name": "stdin",
     "output_type": "stream",
     "text": [
      "2 how many sticks will you take? 3\n"
     ]
    },
    {
     "name": "stdout",
     "output_type": "stream",
     "text": [
      "there are 7 sticks left, please take 1,2 or 3 sticks\n"
     ]
    },
    {
     "name": "stdin",
     "output_type": "stream",
     "text": [
      "2 how many sticks will you take? 2\n"
     ]
    },
    {
     "name": "stdout",
     "output_type": "stream",
     "text": [
      "there are 5 sticks left, please take 1,2 or 3 sticks\n"
     ]
    },
    {
     "name": "stdin",
     "output_type": "stream",
     "text": [
      "2 how many sticks will you take? 3\n"
     ]
    },
    {
     "name": "stdout",
     "output_type": "stream",
     "text": [
      "there are 2 sticks left, please take 1,2 or 3 sticks\n"
     ]
    },
    {
     "name": "stdin",
     "output_type": "stream",
     "text": [
      "2 how many sticks will you take? 33\n"
     ]
    },
    {
     "name": "stdout",
     "output_type": "stream",
     "text": [
      "You can take only 1, 2 or 3 of sticks\n",
      "there are 2 sticks left, please take 1,2 or 3 sticks\n"
     ]
    },
    {
     "name": "stdin",
     "output_type": "stream",
     "text": [
      "2 how many sticks will you take? 3\n"
     ]
    },
    {
     "name": "stdout",
     "output_type": "stream",
     "text": [
      "You can take up to 2\n",
      "there are 2 sticks left, please take 1,2 or 3 sticks\n"
     ]
    },
    {
     "name": "stdin",
     "output_type": "stream",
     "text": [
      "2 how many sticks will you take? 3\n"
     ]
    },
    {
     "name": "stdout",
     "output_type": "stream",
     "text": [
      "You can take up to 2\n",
      "there are 2 sticks left, please take 1,2 or 3 sticks\n"
     ]
    },
    {
     "name": "stdin",
     "output_type": "stream",
     "text": [
      "2 how many sticks will you take? 3\n"
     ]
    },
    {
     "name": "stdout",
     "output_type": "stream",
     "text": [
      "You can take up to 2\n",
      "there are 2 sticks left, please take 1,2 or 3 sticks\n"
     ]
    },
    {
     "name": "stdin",
     "output_type": "stream",
     "text": [
      "2 how many sticks will you take? 3\n"
     ]
    },
    {
     "name": "stdout",
     "output_type": "stream",
     "text": [
      "You can take up to 2\n",
      "there are 2 sticks left, please take 1,2 or 3 sticks\n"
     ]
    },
    {
     "name": "stdin",
     "output_type": "stream",
     "text": [
      "2 how many sticks will you take? 33\n"
     ]
    },
    {
     "name": "stdout",
     "output_type": "stream",
     "text": [
      "You can take only 1, 2 or 3 of sticks\n",
      "there are 2 sticks left, please take 1,2 or 3 sticks\n"
     ]
    },
    {
     "name": "stdin",
     "output_type": "stream",
     "text": [
      "2 how many sticks will you take? 3\n"
     ]
    },
    {
     "name": "stdout",
     "output_type": "stream",
     "text": [
      "You can take up to 2\n",
      "there are 2 sticks left, please take 1,2 or 3 sticks\n"
     ]
    },
    {
     "name": "stdin",
     "output_type": "stream",
     "text": [
      "2 how many sticks will you take? 3\n"
     ]
    },
    {
     "name": "stdout",
     "output_type": "stream",
     "text": [
      "You can take up to 2\n",
      "there are 2 sticks left, please take 1,2 or 3 sticks\n"
     ]
    },
    {
     "name": "stdin",
     "output_type": "stream",
     "text": [
      "2 how many sticks will you take? 3\n"
     ]
    },
    {
     "name": "stdout",
     "output_type": "stream",
     "text": [
      "You can take up to 2\n",
      "there are 2 sticks left, please take 1,2 or 3 sticks\n"
     ]
    },
    {
     "name": "stdin",
     "output_type": "stream",
     "text": [
      "2 how many sticks will you take? 33\n"
     ]
    },
    {
     "name": "stdout",
     "output_type": "stream",
     "text": [
      "You can take only 1, 2 or 3 of sticks\n",
      "there are 2 sticks left, please take 1,2 or 3 sticks\n"
     ]
    },
    {
     "name": "stdin",
     "output_type": "stream",
     "text": [
      "2 how many sticks will you take? 33\n"
     ]
    },
    {
     "name": "stdout",
     "output_type": "stream",
     "text": [
      "You can take only 1, 2 or 3 of sticks\n",
      "there are 2 sticks left, please take 1,2 or 3 sticks\n"
     ]
    },
    {
     "name": "stdin",
     "output_type": "stream",
     "text": [
      "2 how many sticks will you take? \n"
     ]
    },
    {
     "name": "stdout",
     "output_type": "stream",
     "text": [
      "You can take only integer amount of sticks\n",
      "there are 2 sticks left, please take 1,2 or 3 sticks\n"
     ]
    },
    {
     "name": "stdin",
     "output_type": "stream",
     "text": [
      "2 how many sticks will you take? 3\n"
     ]
    },
    {
     "name": "stdout",
     "output_type": "stream",
     "text": [
      "You can take up to 2\n",
      "there are 2 sticks left, please take 1,2 or 3 sticks\n"
     ]
    },
    {
     "name": "stdin",
     "output_type": "stream",
     "text": [
      "2 how many sticks will you take? 3\n"
     ]
    },
    {
     "name": "stdout",
     "output_type": "stream",
     "text": [
      "You can take up to 2\n",
      "there are 2 sticks left, please take 1,2 or 3 sticks\n"
     ]
    },
    {
     "name": "stdin",
     "output_type": "stream",
     "text": [
      "2 how many sticks will you take? 333\n"
     ]
    },
    {
     "name": "stdout",
     "output_type": "stream",
     "text": [
      "You can take only 1, 2 or 3 of sticks\n",
      "there are 2 sticks left, please take 1,2 or 3 sticks\n"
     ]
    },
    {
     "name": "stdin",
     "output_type": "stream",
     "text": [
      "2 how many sticks will you take? 2\n"
     ]
    },
    {
     "name": "stdout",
     "output_type": "stream",
     "text": [
      "2 took last stick and loose the game\n"
     ]
    }
   ],
   "source": [
    "def stickGame():\n",
    "    totalAmount = int(input('Please insert amount of sticks or it will be 10 by default') or 10)\n",
    "\n",
    "    player1 = input('Insert first player name') or 'Player1'\n",
    "    player2 = input('Insert second player name') or 'Player2'\n",
    "\n",
    "    players = [player1, player2];\n",
    "\n",
    "    turn = 0\n",
    "\n",
    "    while totalAmount > 0: \n",
    "        try:\n",
    "            print(f'there are {totalAmount} sticks left, please take 1,2 or 3 sticks')\n",
    "            takenAmount = int(input(f'{players[turn]} how many sticks will you take?'))\n",
    "            if takenAmount not in [1,2,3]:\n",
    "             print('You can take only 1, 2 or 3 of sticks')\n",
    "             continue\n",
    "            if takenAmount > totalAmount:\n",
    "             print(f'You can take up to {totalAmount}')\n",
    "            continue\n",
    "            \n",
    "            \n",
    "            totalAmount -= takenAmount\n",
    "            turn = 1 - turn\n",
    "        except ValueError:\n",
    "             print('You can take only integer amount of sticks')\n",
    "\n",
    "\n",
    "    print(f'{players[turn]} took last stick and loose the game')\n",
    "\n",
    "stickGame()\n",
    "        \n",
    "    "
   ]
  },
  {
   "cell_type": "code",
   "execution_count": 7,
   "id": "dd40d59d-240c-4327-9510-f36ace5dc44b",
   "metadata": {},
   "outputs": [
    {
     "data": {
      "text/plain": [
       "[1, 4, 9, 16, 25]"
      ]
     },
     "execution_count": 7,
     "metadata": {},
     "output_type": "execute_result"
    }
   ],
   "source": [
    "def squares(*args):\n",
    "    return [x*x for x in args]\n",
    "res = squares(1,2,3,4,5)\n",
    "res"
   ]
  },
  {
   "cell_type": "code",
   "execution_count": 28,
   "id": "a98e86e8-89ab-467b-9b01-488a6f97ff1a",
   "metadata": {},
   "outputs": [
    {
     "name": "stdout",
     "output_type": "stream",
     "text": [
      "[1, 4, 9, 16, 25]\n"
     ]
    }
   ],
   "source": [
    "def square(num):\n",
    "    return num*num\n",
    "nums = [1,2,3,4,5]\n",
    "\n",
    "res = map(square, nums);\n",
    "nums\n",
    "print(list(res))"
   ]
  },
  {
   "cell_type": "code",
   "execution_count": 32,
   "id": "4c03e528-df8d-4b12-87de-5c6a102d0663",
   "metadata": {},
   "outputs": [
    {
     "name": "stdout",
     "output_type": "stream",
     "text": [
      "[25, 38]\n"
     ]
    }
   ],
   "source": [
    "def isAdult(age):\n",
    "    return age>=18\n",
    "ages = [10, 15,25,38]\n",
    "res = filter(isAdult, ages)\n",
    "print(list(res))"
   ]
  },
  {
   "cell_type": "code",
   "execution_count": 36,
   "id": "c7514ca8-4aa1-4e62-bcba-6988cd2d44ec",
   "metadata": {},
   "outputs": [
    {
     "data": {
      "text/plain": [
       "[25, 38]"
      ]
     },
     "execution_count": 36,
     "metadata": {},
     "output_type": "execute_result"
    }
   ],
   "source": [
    "isAdult = lambda age: age>=18\n",
    "list(filter(isAdult, ages))\n"
   ]
  },
  {
   "cell_type": "code",
   "execution_count": 43,
   "id": "c76ac071-71d3-442d-9fcc-175a2d52f683",
   "metadata": {},
   "outputs": [],
   "source": [
    "# Function scopes"
   ]
  },
  {
   "cell_type": "code",
   "execution_count": 55,
   "id": "f8c35391-28c2-481e-a6a9-0cf0195e8024",
   "metadata": {},
   "outputs": [
    {
     "name": "stdout",
     "output_type": "stream",
     "text": [
      "hello from enclosing scope\n",
      "Hello from global scope\n"
     ]
    }
   ],
   "source": [
    "greeting = 'Hello from global scope'\n",
    "def greet():\n",
    "        greeting = 'hello from enclosing scope'\n",
    "        def nested():\n",
    "            #greeting = 'Hello from local scope'\n",
    "            print(greeting)\n",
    "        nested()\n",
    "greet()\n",
    "print(greeting)"
   ]
  },
  {
   "cell_type": "code",
   "execution_count": null,
   "id": "9e06f553-b714-4ece-8d12-d49d03847dbd",
   "metadata": {},
   "outputs": [],
   "source": [
    "#Decorators"
   ]
  },
  {
   "cell_type": "code",
   "execution_count": 4,
   "id": "dc5defcb-b6ae-4e51-a20e-98fede555a6c",
   "metadata": {},
   "outputs": [
    {
     "name": "stdout",
     "output_type": "stream",
     "text": [
      "hello world\n"
     ]
    }
   ],
   "source": [
    "def helloWorld(): \n",
    "    print('hello world')\n",
    "helloWorld() "
   ]
  },
  {
   "cell_type": "code",
   "execution_count": 6,
   "id": "407b6167-3644-489d-8b82-d325f19450ec",
   "metadata": {},
   "outputs": [],
   "source": [
    "hello = helloWorld"
   ]
  },
  {
   "cell_type": "code",
   "execution_count": 8,
   "id": "d95e1909-09fc-4373-a977-494352f06341",
   "metadata": {},
   "outputs": [
    {
     "name": "stdout",
     "output_type": "stream",
     "text": [
      "hello world\n"
     ]
    }
   ],
   "source": [
    "hello()"
   ]
  },
  {
   "cell_type": "code",
   "execution_count": 22,
   "id": "d7f11c29-33d8-4dcb-9dd3-de8a3b490885",
   "metadata": {},
   "outputs": [
    {
     "name": "stdout",
     "output_type": "stream",
     "text": [
      "calling foo - <function hello at 0x1684c71a0>\n",
      "Hello world\n",
      "finished with foo - <function hello at 0x1684c71a0>\n"
     ]
    }
   ],
   "source": [
    "def logDecorator(foo):\n",
    "    def wrap():\n",
    "        print(f'calling foo - {foo}')\n",
    "        foo()\n",
    "        print(f'finished with foo - {foo}')\n",
    "    return wrap\n",
    "\n",
    "def hello():\n",
    "    print('Hello world')\n",
    "\n",
    "wrappedFoo = logDecorator(hello)\n",
    "wrappedFoo()"
   ]
  },
  {
   "cell_type": "code",
   "execution_count": 24,
   "id": "0eb304fc-4a9e-42f2-bce3-09885473f6ad",
   "metadata": {},
   "outputs": [],
   "source": [
    "@logDecorator\n",
    "def hello():\n",
    "    print('Hello world')"
   ]
  },
  {
   "cell_type": "code",
   "execution_count": 27,
   "id": "9b4e42d5-cf53-4155-99ec-9bf089af890a",
   "metadata": {},
   "outputs": [
    {
     "name": "stdout",
     "output_type": "stream",
     "text": [
      "calling foo - <function hello at 0x1684c76a0>\n",
      "Hello world\n",
      "finished with foo - <function hello at 0x1684c76a0>\n"
     ]
    }
   ],
   "source": [
    "hello()"
   ]
  },
  {
   "cell_type": "code",
   "execution_count": null,
   "id": "bd7ef428-274a-41fe-a326-4bb5f1ab5b97",
   "metadata": {},
   "outputs": [],
   "source": []
  }
 ],
 "metadata": {
  "kernelspec": {
   "display_name": "Python [conda env:base] *",
   "language": "python",
   "name": "conda-base-py"
  },
  "language_info": {
   "codemirror_mode": {
    "name": "ipython",
    "version": 3
   },
   "file_extension": ".py",
   "mimetype": "text/x-python",
   "name": "python",
   "nbconvert_exporter": "python",
   "pygments_lexer": "ipython3",
   "version": "3.12.7"
  }
 },
 "nbformat": 4,
 "nbformat_minor": 5
}
