{
 "cells": [
  {
   "cell_type": "code",
   "execution_count": 1,
   "id": "63430c92-a01c-4f1b-8a86-8e635b8ee4b5",
   "metadata": {},
   "outputs": [
    {
     "name": "stdout",
     "output_type": "stream",
     "text": [
      "Hello world\n"
     ]
    }
   ],
   "source": [
    "print('Hello world')"
   ]
  },
  {
   "cell_type": "code",
   "execution_count": 2,
   "id": "df468a36-e029-4147-80b2-ada0a124cde3",
   "metadata": {},
   "outputs": [
    {
     "data": {
      "text/plain": [
       "12"
      ]
     },
     "execution_count": 2,
     "metadata": {},
     "output_type": "execute_result"
    }
   ],
   "source": [
    "2*6"
   ]
  },
  {
   "cell_type": "code",
   "execution_count": 3,
   "id": "8a7686de-1c23-4a3d-a8fb-63bfe79ec798",
   "metadata": {},
   "outputs": [
    {
     "data": {
      "text/plain": [
       "12.0"
      ]
     },
     "execution_count": 3,
     "metadata": {},
     "output_type": "execute_result"
    }
   ],
   "source": [
    "24/2"
   ]
  },
  {
   "cell_type": "code",
   "execution_count": 4,
   "id": "12b07ec8-47f2-43d9-8094-b1b1aee35081",
   "metadata": {},
   "outputs": [
    {
     "data": {
      "text/plain": [
       "12"
      ]
     },
     "execution_count": 4,
     "metadata": {},
     "output_type": "execute_result"
    }
   ],
   "source": [
    "2**3+4"
   ]
  },
  {
   "cell_type": "code",
   "execution_count": 5,
   "id": "964c03d2-04a1-4834-b023-95ea696a36f0",
   "metadata": {},
   "outputs": [],
   "source": [
    "name = 'John Snow'\n",
    "age = 29"
   ]
  },
  {
   "cell_type": "code",
   "execution_count": 6,
   "id": "7ba92338-ef47-4ba3-821f-074418fc69fb",
   "metadata": {},
   "outputs": [
    {
     "name": "stdout",
     "output_type": "stream",
     "text": [
      "John Snow 29\n"
     ]
    }
   ],
   "source": [
    "print(name, age)"
   ]
  },
  {
   "cell_type": "code",
   "execution_count": 7,
   "id": "eee083de-378a-4dc8-8009-07bbf8515eee",
   "metadata": {},
   "outputs": [
    {
     "data": {
      "text/plain": [
       "'/Users/stanislavkadyrov/Documents/python'"
      ]
     },
     "execution_count": 7,
     "metadata": {},
     "output_type": "execute_result"
    }
   ],
   "source": [
    "pwd"
   ]
  },
  {
   "cell_type": "code",
   "execution_count": 8,
   "id": "ee185974-2c97-48ab-9451-8796a55ce533",
   "metadata": {},
   "outputs": [
    {
     "name": "stdout",
     "output_type": "stream",
     "text": [
      "lol, working\n"
     ]
    }
   ],
   "source": [
    "with open('file.txt', mode='w+') as file:\n",
    "    file.write('lol, working');\n",
    "    file.seek(0);\n",
    "    data = file.read();\n",
    "    print(data);"
   ]
  },
  {
   "cell_type": "code",
   "execution_count": 17,
   "id": "603412ac-237d-41b0-9719-44da4c054680",
   "metadata": {},
   "outputs": [
    {
     "data": {
      "text/plain": [
       "'utf-8'"
      ]
     },
     "execution_count": 17,
     "metadata": {},
     "output_type": "execute_result"
    }
   ],
   "source": [
    "import sys\n",
    "sys.getdefaultencoding()"
   ]
  },
  {
   "cell_type": "code",
   "execution_count": 19,
   "id": "cf8cdf9b-bd1c-44be-96b8-957c1b0284bb",
   "metadata": {},
   "outputs": [
    {
     "data": {
      "text/plain": [
       "97"
      ]
     },
     "execution_count": 19,
     "metadata": {},
     "output_type": "execute_result"
    }
   ],
   "source": [
    "ord('a)"
   ]
  },
  {
   "cell_type": "code",
   "execution_count": 21,
   "id": "87763360-c562-4401-a3b4-339290caa44c",
   "metadata": {},
   "outputs": [
    {
     "data": {
      "text/plain": [
       "'Ń'"
      ]
     },
     "execution_count": 21,
     "metadata": {},
     "output_type": "execute_result"
    }
   ],
   "source": [
    "chr(323)\n"
   ]
  },
  {
   "cell_type": "code",
   "execution_count": 172,
   "id": "b34d82b7-7b23-4ebf-8236-e0e8731b4dbb",
   "metadata": {},
   "outputs": [
    {
     "name": "stdout",
     "output_type": "stream",
     "text": [
      "Attempt 1, Type a num 2\n"
     ]
    },
    {
     "name": "stdout",
     "output_type": "stream",
     "text": [
      "Yoy should try bigger num\n"
     ]
    },
    {
     "name": "stdout",
     "output_type": "stream",
     "text": [
      "Attempt 2, Type a num 2\n"
     ]
    },
    {
     "name": "stdout",
     "output_type": "stream",
     "text": [
      "Yoy should try bigger num\n"
     ]
    },
    {
     "name": "stdout",
     "output_type": "stream",
     "text": [
      "Attempt 3, Type a num 5\n"
     ]
    },
    {
     "name": "stdout",
     "output_type": "stream",
     "text": [
      "Hey, you score!\n"
     ]
    }
   ],
   "source": [
    "def guessNum():\n",
    "    secretNum = random.randint(1,10);\n",
    "    attempts = 6;\n",
    "\n",
    "    for attempt in range(1, attempts +1): \n",
    "        try: \n",
    "            guess = int(input(f'Attempt {attempt}, Type a num'))\n",
    "            if guess == secretNum:\n",
    "                print('Hey, you score!');\n",
    "                return\n",
    "            hint = 'bigger' if guess < secretNum else 'smaller'\n",
    "            print(f'Yoy should try {hint} num')\n",
    "        except ValueError:\n",
    "            print('You should use integral num')\n",
    "    print(f'You used all tryes, num was {secretNum}')\n",
    "\n",
    "guessNum();"
   ]
  },
  {
   "cell_type": "code",
   "execution_count": 38,
   "id": "74c9369b-7cce-4141-bbac-5ad7d7beff71",
   "metadata": {},
   "outputs": [
    {
     "name": "stdout",
     "output_type": "stream",
     "text": [
      "Please insert amount of sticks or it will be 10 by default 10\n",
      "Insert first player name 2\n",
      "Insert second player name 2\n"
     ]
    },
    {
     "name": "stdout",
     "output_type": "stream",
     "text": [
      "there are 10 sticks left, please take 1,2 or 3 sticks\n"
     ]
    },
    {
     "name": "stdout",
     "output_type": "stream",
     "text": [
      "2 how many sticks will you take? 3\n"
     ]
    },
    {
     "name": "stdout",
     "output_type": "stream",
     "text": [
      "there are 7 sticks left, please take 1,2 or 3 sticks\n"
     ]
    },
    {
     "name": "stdout",
     "output_type": "stream",
     "text": [
      "2 how many sticks will you take? 2\n"
     ]
    },
    {
     "name": "stdout",
     "output_type": "stream",
     "text": [
      "there are 5 sticks left, please take 1,2 or 3 sticks\n"
     ]
    },
    {
     "name": "stdout",
     "output_type": "stream",
     "text": [
      "2 how many sticks will you take? 3\n"
     ]
    },
    {
     "name": "stdout",
     "output_type": "stream",
     "text": [
      "there are 2 sticks left, please take 1,2 or 3 sticks\n"
     ]
    },
    {
     "name": "stdout",
     "output_type": "stream",
     "text": [
      "2 how many sticks will you take? 33\n"
     ]
    },
    {
     "name": "stdout",
     "output_type": "stream",
     "text": [
      "You can take only 1, 2 or 3 of sticks\n",
      "there are 2 sticks left, please take 1,2 or 3 sticks\n"
     ]
    },
    {
     "name": "stdout",
     "output_type": "stream",
     "text": [
      "2 how many sticks will you take? 3\n"
     ]
    },
    {
     "name": "stdout",
     "output_type": "stream",
     "text": [
      "You can take up to 2\n",
      "there are 2 sticks left, please take 1,2 or 3 sticks\n"
     ]
    },
    {
     "name": "stdout",
     "output_type": "stream",
     "text": [
      "2 how many sticks will you take? 3\n"
     ]
    },
    {
     "name": "stdout",
     "output_type": "stream",
     "text": [
      "You can take up to 2\n",
      "there are 2 sticks left, please take 1,2 or 3 sticks\n"
     ]
    },
    {
     "name": "stdout",
     "output_type": "stream",
     "text": [
      "2 how many sticks will you take? 3\n"
     ]
    },
    {
     "name": "stdout",
     "output_type": "stream",
     "text": [
      "You can take up to 2\n",
      "there are 2 sticks left, please take 1,2 or 3 sticks\n"
     ]
    },
    {
     "name": "stdout",
     "output_type": "stream",
     "text": [
      "2 how many sticks will you take? 3\n"
     ]
    },
    {
     "name": "stdout",
     "output_type": "stream",
     "text": [
      "You can take up to 2\n",
      "there are 2 sticks left, please take 1,2 or 3 sticks\n"
     ]
    },
    {
     "name": "stdout",
     "output_type": "stream",
     "text": [
      "2 how many sticks will you take? 33\n"
     ]
    },
    {
     "name": "stdout",
     "output_type": "stream",
     "text": [
      "You can take only 1, 2 or 3 of sticks\n",
      "there are 2 sticks left, please take 1,2 or 3 sticks\n"
     ]
    },
    {
     "name": "stdout",
     "output_type": "stream",
     "text": [
      "2 how many sticks will you take? 3\n"
     ]
    },
    {
     "name": "stdout",
     "output_type": "stream",
     "text": [
      "You can take up to 2\n",
      "there are 2 sticks left, please take 1,2 or 3 sticks\n"
     ]
    },
    {
     "name": "stdout",
     "output_type": "stream",
     "text": [
      "2 how many sticks will you take? 3\n"
     ]
    },
    {
     "name": "stdout",
     "output_type": "stream",
     "text": [
      "You can take up to 2\n",
      "there are 2 sticks left, please take 1,2 or 3 sticks\n"
     ]
    },
    {
     "name": "stdout",
     "output_type": "stream",
     "text": [
      "2 how many sticks will you take? 3\n"
     ]
    },
    {
     "name": "stdout",
     "output_type": "stream",
     "text": [
      "You can take up to 2\n",
      "there are 2 sticks left, please take 1,2 or 3 sticks\n"
     ]
    },
    {
     "name": "stdout",
     "output_type": "stream",
     "text": [
      "2 how many sticks will you take? 33\n"
     ]
    },
    {
     "name": "stdout",
     "output_type": "stream",
     "text": [
      "You can take only 1, 2 or 3 of sticks\n",
      "there are 2 sticks left, please take 1,2 or 3 sticks\n"
     ]
    },
    {
     "name": "stdout",
     "output_type": "stream",
     "text": [
      "2 how many sticks will you take? 33\n"
     ]
    },
    {
     "name": "stdout",
     "output_type": "stream",
     "text": [
      "You can take only 1, 2 or 3 of sticks\n",
      "there are 2 sticks left, please take 1,2 or 3 sticks\n"
     ]
    },
    {
     "name": "stdout",
     "output_type": "stream",
     "text": [
      "2 how many sticks will you take? \n"
     ]
    },
    {
     "name": "stdout",
     "output_type": "stream",
     "text": [
      "You can take only integer amount of sticks\n",
      "there are 2 sticks left, please take 1,2 or 3 sticks\n"
     ]
    },
    {
     "name": "stdout",
     "output_type": "stream",
     "text": [
      "2 how many sticks will you take? 3\n"
     ]
    },
    {
     "name": "stdout",
     "output_type": "stream",
     "text": [
      "You can take up to 2\n",
      "there are 2 sticks left, please take 1,2 or 3 sticks\n"
     ]
    },
    {
     "name": "stdout",
     "output_type": "stream",
     "text": [
      "2 how many sticks will you take? 3\n"
     ]
    },
    {
     "name": "stdout",
     "output_type": "stream",
     "text": [
      "You can take up to 2\n",
      "there are 2 sticks left, please take 1,2 or 3 sticks\n"
     ]
    },
    {
     "name": "stdout",
     "output_type": "stream",
     "text": [
      "2 how many sticks will you take? 333\n"
     ]
    },
    {
     "name": "stdout",
     "output_type": "stream",
     "text": [
      "You can take only 1, 2 or 3 of sticks\n",
      "there are 2 sticks left, please take 1,2 or 3 sticks\n"
     ]
    },
    {
     "name": "stdout",
     "output_type": "stream",
     "text": [
      "2 how many sticks will you take? 2\n"
     ]
    },
    {
     "name": "stdout",
     "output_type": "stream",
     "text": [
      "2 took last stick and loose the game\n"
     ]
    }
   ],
   "source": [
    "def stickGame():\n",
    "    totalAmount = int(input('Please insert amount of sticks or it will be 10 by default') or 10)\n",
    "\n",
    "    player1 = input('Insert first player name') or 'Player1'\n",
    "    player2 = input('Insert second player name') or 'Player2'\n",
    "\n",
    "    players = [player1, player2];\n",
    "\n",
    "    turn = 0\n",
    "\n",
    "    while totalAmount > 0: \n",
    "        try:\n",
    "            print(f'there are {totalAmount} sticks left, please take 1,2 or 3 sticks')\n",
    "            takenAmount = int(input(f'{players[turn]} how many sticks will you take?'))\n",
    "            if takenAmount not in [1,2,3]:\n",
    "             print('You can take only 1, 2 or 3 of sticks')\n",
    "             continue\n",
    "            if takenAmount > totalAmount:\n",
    "             print(f'You can take up to {totalAmount}')\n",
    "            continue\n",
    "            \n",
    "            \n",
    "            totalAmount -= takenAmount\n",
    "            turn = 1 - turn\n",
    "        except ValueError:\n",
    "             print('You can take only integer amount of sticks')\n",
    "\n",
    "\n",
    "    print(f'{players[turn]} took last stick and loose the game')\n",
    "\n",
    "stickGame()\n",
    "        \n",
    "    "
   ]
  },
  {
   "cell_type": "code",
   "execution_count": 7,
   "id": "dd40d59d-240c-4327-9510-f36ace5dc44b",
   "metadata": {},
   "outputs": [
    {
     "data": {
      "text/plain": [
       "[1, 4, 9, 16, 25]"
      ]
     },
     "execution_count": 7,
     "metadata": {},
     "output_type": "execute_result"
    }
   ],
   "source": [
    "def squares(*args):\n",
    "    return [x*x for x in args]\n",
    "res = squares(1,2,3,4,5)\n",
    "res"
   ]
  },
  {
   "cell_type": "code",
   "execution_count": 28,
   "id": "a98e86e8-89ab-467b-9b01-488a6f97ff1a",
   "metadata": {},
   "outputs": [
    {
     "name": "stdout",
     "output_type": "stream",
     "text": [
      "[1, 4, 9, 16, 25]\n"
     ]
    }
   ],
   "source": [
    "def square(num):\n",
    "    return num*num\n",
    "nums = [1,2,3,4,5]\n",
    "\n",
    "res = map(square, nums);\n",
    "nums\n",
    "print(list(res))"
   ]
  },
  {
   "cell_type": "code",
   "execution_count": 32,
   "id": "4c03e528-df8d-4b12-87de-5c6a102d0663",
   "metadata": {},
   "outputs": [
    {
     "name": "stdout",
     "output_type": "stream",
     "text": [
      "[25, 38]\n"
     ]
    }
   ],
   "source": [
    "def isAdult(age):\n",
    "    return age>=18\n",
    "ages = [10, 15,25,38]\n",
    "res = filter(isAdult, ages)\n",
    "print(list(res))"
   ]
  },
  {
   "cell_type": "code",
   "execution_count": 36,
   "id": "c7514ca8-4aa1-4e62-bcba-6988cd2d44ec",
   "metadata": {},
   "outputs": [
    {
     "data": {
      "text/plain": [
       "[25, 38]"
      ]
     },
     "execution_count": 36,
     "metadata": {},
     "output_type": "execute_result"
    }
   ],
   "source": [
    "isAdult = lambda age: age>=18\n",
    "list(filter(isAdult, ages))\n"
   ]
  },
  {
   "cell_type": "code",
   "execution_count": 43,
   "id": "c76ac071-71d3-442d-9fcc-175a2d52f683",
   "metadata": {},
   "outputs": [],
   "source": [
    "# Function scopes"
   ]
  },
  {
   "cell_type": "code",
   "execution_count": 9,
   "id": "f8c35391-28c2-481e-a6a9-0cf0195e8024",
   "metadata": {},
   "outputs": [
    {
     "name": "stdout",
     "output_type": "stream",
     "text": [
      "hello from enclosing scope\n",
      "Hello from global scope\n"
     ]
    }
   ],
   "source": [
    "greeting = 'Hello from global scope'\n",
    "def greet():\n",
    "        greeting = 'hello from enclosing scope'\n",
    "        def nested():\n",
    "            #greeting = 'Hello from local scope'\n",
    "            print(greeting)\n",
    "        nested()\n",
    "greet()\n",
    "print(greeting)"
   ]
  },
  {
   "cell_type": "code",
   "execution_count": 11,
   "id": "9e06f553-b714-4ece-8d12-d49d03847dbd",
   "metadata": {},
   "outputs": [],
   "source": [
    "#Decorators"
   ]
  },
  {
   "cell_type": "code",
   "execution_count": 13,
   "id": "dc5defcb-b6ae-4e51-a20e-98fede555a6c",
   "metadata": {},
   "outputs": [
    {
     "name": "stdout",
     "output_type": "stream",
     "text": [
      "hello world\n"
     ]
    }
   ],
   "source": [
    "def helloWorld(): \n",
    "    print('hello world')\n",
    "helloWorld() "
   ]
  },
  {
   "cell_type": "code",
   "execution_count": 15,
   "id": "407b6167-3644-489d-8b82-d325f19450ec",
   "metadata": {},
   "outputs": [],
   "source": [
    "hello = helloWorld"
   ]
  },
  {
   "cell_type": "code",
   "execution_count": 17,
   "id": "d95e1909-09fc-4373-a977-494352f06341",
   "metadata": {},
   "outputs": [
    {
     "name": "stdout",
     "output_type": "stream",
     "text": [
      "hello world\n"
     ]
    }
   ],
   "source": [
    "hello()"
   ]
  },
  {
   "cell_type": "code",
   "execution_count": 19,
   "id": "d7f11c29-33d8-4dcb-9dd3-de8a3b490885",
   "metadata": {},
   "outputs": [
    {
     "name": "stdout",
     "output_type": "stream",
     "text": [
      "calling foo - <function hello at 0x1661a2f20>\n",
      "Hello world\n",
      "finished with foo - <function hello at 0x1661a2f20>\n"
     ]
    }
   ],
   "source": [
    "def logDecorator(foo):\n",
    "    def wrap(*args, **kwargs):\n",
    "        print(f'calling foo - {foo}')\n",
    "        foo(*args, **kwargs)\n",
    "        print(f'finished with foo - {foo}')\n",
    "    return wrap\n",
    "\n",
    "def hello():\n",
    "    print('Hello world')\n",
    "\n",
    "wrappedFoo = logDecorator(hello)\n",
    "wrappedFoo()"
   ]
  },
  {
   "cell_type": "code",
   "execution_count": 21,
   "id": "0eb304fc-4a9e-42f2-bce3-09885473f6ad",
   "metadata": {},
   "outputs": [],
   "source": [
    "@logDecorator\n",
    "def hello():\n",
    "    print('Hello world')"
   ]
  },
  {
   "cell_type": "code",
   "execution_count": 23,
   "id": "9b4e42d5-cf53-4155-99ec-9bf089af890a",
   "metadata": {},
   "outputs": [
    {
     "name": "stdout",
     "output_type": "stream",
     "text": [
      "calling foo - <function hello at 0x1661a3380>\n",
      "Hello world\n",
      "finished with foo - <function hello at 0x1661a3380>\n"
     ]
    }
   ],
   "source": [
    "hello()"
   ]
  },
  {
   "cell_type": "code",
   "execution_count": 25,
   "id": "3a376998-d461-481a-b581-abf444603013",
   "metadata": {},
   "outputs": [
    {
     "name": "stdout",
     "output_type": "stream",
     "text": [
      "Help on function wrap in module __main__:\n",
      "\n",
      "wrap(*args, **kwargs)\n",
      "\n"
     ]
    }
   ],
   "source": [
    "help(hello)"
   ]
  },
  {
   "cell_type": "code",
   "execution_count": null,
   "id": "7fdf7af9-b686-4123-87c4-8ab568705351",
   "metadata": {},
   "outputs": [],
   "source": [
    "#wraps decorator helps with introspectors - more stable and predictable path"
   ]
  },
  {
   "cell_type": "code",
   "execution_count": 27,
   "id": "bd7ef428-274a-41fe-a326-4bb5f1ab5b97",
   "metadata": {},
   "outputs": [],
   "source": [
    "from functools import wraps\n",
    "\n",
    "def logDecorator(foo):\n",
    "    @wraps(foo)\n",
    "    def wrap(*args, **kwargs):\n",
    "        print(f'calling foo - {foo}')\n",
    "        foo(*args, **kwargs)\n",
    "        print(f'finished with foo - {foo}')\n",
    "    return wrap\n"
   ]
  },
  {
   "cell_type": "code",
   "execution_count": 29,
   "id": "f698c5e7-6960-42d2-b99c-f9dd73b8a7a9",
   "metadata": {},
   "outputs": [],
   "source": [
    "@logDecorator\n",
    "def hello():\n",
    "    print('Hello world')"
   ]
  },
  {
   "cell_type": "code",
   "execution_count": 31,
   "id": "c1b267f7-8109-494d-b92f-c64ab295320d",
   "metadata": {},
   "outputs": [
    {
     "name": "stdout",
     "output_type": "stream",
     "text": [
      "Help on function hello in module __main__:\n",
      "\n",
      "hello()\n",
      "\n"
     ]
    }
   ],
   "source": [
    "help(hello)"
   ]
  },
  {
   "cell_type": "code",
   "execution_count": null,
   "id": "9db58453-99f7-4657-87e3-75fe523d0a72",
   "metadata": {},
   "outputs": [],
   "source": [
    "#Write a foo that takes string - romulan nums and returns arabic one I - 1 V - 5 X - 10 L - 50 C - 100 D - 500 M - 1000"
   ]
  },
  {
   "cell_type": "code",
   "execution_count": 97,
   "id": "e5eed9d9-d7c6-4619-a097-eae903aca1f4",
   "metadata": {},
   "outputs": [
    {
     "data": {
      "text/plain": [
       "4"
      ]
     },
     "execution_count": 97,
     "metadata": {},
     "output_type": "execute_result"
    }
   ],
   "source": [
    "romList = ('I', 'V', 'X', 'L', 'C', 'D', 'M')\n",
    "arabList = (1, 5, 10, 50, 100, 500, 1000)\n",
    "def transformNums(rom):\n",
    "    result = 0\n",
    "    numsDict = dict(zip(romList, arabList))\n",
    "\n",
    "    for i, char in enumerate(rom):\n",
    "        if i < len(rom) - 1 and numsDict[char] < numsDict[rom[i + 1]]:\n",
    "            result -= numsDict[char]\n",
    "        else:\n",
    "            result += numsDict[char]\n",
    "\n",
    "    return result\n",
    "\n",
    "\n",
    "transformNums('IV')"
   ]
  },
  {
   "cell_type": "code",
   "execution_count": null,
   "id": "294bbf3c-badc-4280-99bc-f56ce9df226d",
   "metadata": {},
   "outputs": [],
   "source": [
    "#Errors and exceptiona handling"
   ]
  },
  {
   "cell_type": "code",
   "execution_count": 1,
   "id": "223f750d-6bd4-43a8-b9ba-79edc5f3cee6",
   "metadata": {},
   "outputs": [],
   "source": [
    "def divide1(a,b):\n",
    "    return print(a/b);"
   ]
  },
  {
   "cell_type": "code",
   "execution_count": 19,
   "id": "25a7a58f-3bae-4e2d-a3f1-213b28707b57",
   "metadata": {},
   "outputs": [
    {
     "name": "stdout",
     "output_type": "stream",
     "text": [
      "2.0\n"
     ]
    }
   ],
   "source": [
    "divide1(4,2)"
   ]
  },
  {
   "cell_type": "code",
   "execution_count": 21,
   "id": "0a1be2f8-f7cc-4b66-8361-d3cc59aa2037",
   "metadata": {},
   "outputs": [
    {
     "ename": "ZeroDivisionError",
     "evalue": "division by zero",
     "output_type": "error",
     "traceback": [
      "\u001b[0;31m---------------------------------------------------------------------------\u001b[0m",
      "\u001b[0;31mZeroDivisionError\u001b[0m                         Traceback (most recent call last)",
      "Cell \u001b[0;32mIn[21], line 1\u001b[0m\n\u001b[0;32m----> 1\u001b[0m divide1(\u001b[38;5;241m2\u001b[39m,\u001b[38;5;241m0\u001b[39m)\n",
      "Cell \u001b[0;32mIn[1], line 2\u001b[0m, in \u001b[0;36mdivide1\u001b[0;34m(a, b)\u001b[0m\n\u001b[1;32m      1\u001b[0m \u001b[38;5;28;01mdef\u001b[39;00m \u001b[38;5;21mdivide1\u001b[39m(a,b):\n\u001b[0;32m----> 2\u001b[0m     \u001b[38;5;28;01mreturn\u001b[39;00m \u001b[38;5;28mprint\u001b[39m(a\u001b[38;5;241m/\u001b[39mb)\n",
      "\u001b[0;31mZeroDivisionError\u001b[0m: division by zero"
     ]
    }
   ],
   "source": [
    "divide1(2,0)"
   ]
  },
  {
   "cell_type": "code",
   "execution_count": 25,
   "id": "71b0a815-1e99-423e-ada5-eb5bf7123528",
   "metadata": {},
   "outputs": [],
   "source": [
    "def divide2(a,b):\n",
    "    try:\n",
    "        return print(a/b);\n",
    "    except:\n",
    "        print(f'woop, we have an error')"
   ]
  },
  {
   "cell_type": "code",
   "execution_count": 27,
   "id": "545eb5b8-be98-4e9f-bbfc-ccb6cb16119a",
   "metadata": {},
   "outputs": [
    {
     "name": "stdout",
     "output_type": "stream",
     "text": [
      "woop, we have an error\n"
     ]
    }
   ],
   "source": [
    "divide2(2,'ha')"
   ]
  },
  {
   "cell_type": "code",
   "execution_count": null,
   "id": "18796f8a-ac77-4f63-b096-981ff7987786",
   "metadata": {},
   "outputs": [],
   "source": [
    "#task"
   ]
  },
  {
   "cell_type": "code",
   "execution_count": 33,
   "id": "1f4f293e-a18e-49c6-a326-ef6f2844ab97",
   "metadata": {},
   "outputs": [],
   "source": [
    "def getInt():\n",
    "    while True:\n",
    "        try:\n",
    "            reply = int(input('Enter any num...'));\n",
    "            return print(reply);\n",
    "        except:\n",
    "            print('Not a num, try again')\n",
    "            continue"
   ]
  },
  {
   "cell_type": "code",
   "execution_count": 35,
   "id": "4f3ebb72-5c2b-4481-b9c8-86f011c70452",
   "metadata": {},
   "outputs": [
    {
     "name": "stdout",
     "output_type": "stream",
     "text": [
      "Enter any num... fd\n"
     ]
    },
    {
     "name": "stdout",
     "output_type": "stream",
     "text": [
      "Not a num, try again\n"
     ]
    },
    {
     "name": "stdout",
     "output_type": "stream",
     "text": [
      "Enter any num... ee\n"
     ]
    },
    {
     "name": "stdout",
     "output_type": "stream",
     "text": [
      "Not a num, try again\n"
     ]
    },
    {
     "name": "stdout",
     "output_type": "stream",
     "text": [
      "Enter any num... 3\n"
     ]
    },
    {
     "name": "stdout",
     "output_type": "stream",
     "text": [
      "3\n"
     ]
    }
   ],
   "source": [
    "getInt()"
   ]
  },
  {
   "cell_type": "code",
   "execution_count": null,
   "id": "8af4a346-44b2-4f6d-91e1-6c6a78d07e67",
   "metadata": {},
   "outputs": [],
   "source": [
    "#Custom exceptions with RAISE"
   ]
  },
  {
   "cell_type": "code",
   "execution_count": 44,
   "id": "32166261-851e-4a55-ae50-aa7a1dbd2f4e",
   "metadata": {},
   "outputs": [],
   "source": [
    "import math\n",
    "\n",
    "def calcSquareTriangle(ab,ac, bc):\n",
    "    if ab<=0 or ac<=0 or bc <=0:\n",
    "        raise ValueError('One of the sides is less or equal to 0')\n",
    "    p = (ab + bc + ac) / 2\n",
    "    s = math.sqrt(p* (p-ab) * (p-ac) * (p-bc))\n",
    "\n",
    "    return print(s)\n",
    "\n"
   ]
  },
  {
   "cell_type": "code",
   "execution_count": 46,
   "id": "6962b2bf-12bd-4b4c-be61-310b1df3caa7",
   "metadata": {},
   "outputs": [
    {
     "name": "stdout",
     "output_type": "stream",
     "text": [
      "3.897114317029974\n"
     ]
    }
   ],
   "source": [
    "calcSquareTriangle(3,3,3)"
   ]
  },
  {
   "cell_type": "code",
   "execution_count": 48,
   "id": "cbee6a95-dfb8-4d1b-887e-777103a8c2b2",
   "metadata": {},
   "outputs": [
    {
     "ename": "ValueError",
     "evalue": "One of the sides is less or equal to 0",
     "output_type": "error",
     "traceback": [
      "\u001b[0;31m---------------------------------------------------------------------------\u001b[0m",
      "\u001b[0;31mValueError\u001b[0m                                Traceback (most recent call last)",
      "Cell \u001b[0;32mIn[48], line 1\u001b[0m\n\u001b[0;32m----> 1\u001b[0m calcSquareTriangle(\u001b[38;5;241m3\u001b[39m,\u001b[38;5;241m-\u001b[39m\u001b[38;5;241m3\u001b[39m,\u001b[38;5;241m3\u001b[39m)\n",
      "Cell \u001b[0;32mIn[44], line 5\u001b[0m, in \u001b[0;36mcalcSquareTriangle\u001b[0;34m(ab, ac, bc)\u001b[0m\n\u001b[1;32m      3\u001b[0m \u001b[38;5;28;01mdef\u001b[39;00m \u001b[38;5;21mcalcSquareTriangle\u001b[39m(ab,ac, bc):\n\u001b[1;32m      4\u001b[0m     \u001b[38;5;28;01mif\u001b[39;00m ab\u001b[38;5;241m<\u001b[39m\u001b[38;5;241m=\u001b[39m\u001b[38;5;241m0\u001b[39m \u001b[38;5;129;01mor\u001b[39;00m ac\u001b[38;5;241m<\u001b[39m\u001b[38;5;241m=\u001b[39m\u001b[38;5;241m0\u001b[39m \u001b[38;5;129;01mor\u001b[39;00m bc \u001b[38;5;241m<\u001b[39m\u001b[38;5;241m=\u001b[39m\u001b[38;5;241m0\u001b[39m:\n\u001b[0;32m----> 5\u001b[0m         \u001b[38;5;28;01mraise\u001b[39;00m \u001b[38;5;167;01mValueError\u001b[39;00m(\u001b[38;5;124m'\u001b[39m\u001b[38;5;124mOne of the sides is less or equal to 0\u001b[39m\u001b[38;5;124m'\u001b[39m)\n\u001b[1;32m      6\u001b[0m     p \u001b[38;5;241m=\u001b[39m (ab \u001b[38;5;241m+\u001b[39m bc \u001b[38;5;241m+\u001b[39m ac) \u001b[38;5;241m/\u001b[39m \u001b[38;5;241m2\u001b[39m\n\u001b[1;32m      7\u001b[0m     s \u001b[38;5;241m=\u001b[39m math\u001b[38;5;241m.\u001b[39msqrt(p\u001b[38;5;241m*\u001b[39m (p\u001b[38;5;241m-\u001b[39mab) \u001b[38;5;241m*\u001b[39m (p\u001b[38;5;241m-\u001b[39mac) \u001b[38;5;241m*\u001b[39m (p\u001b[38;5;241m-\u001b[39mbc))\n",
      "\u001b[0;31mValueError\u001b[0m: One of the sides is less or equal to 0"
     ]
    }
   ],
   "source": [
    "calcSquareTriangle(3,-3,3)"
   ]
  },
  {
   "cell_type": "code",
   "execution_count": null,
   "id": "d0efc963-e6bd-41da-9ca0-4b4ea45fffd2",
   "metadata": {},
   "outputs": [],
   "source": [
    "#valueerror is default exception object  from py library, "
   ]
  },
  {
   "cell_type": "code",
   "execution_count": null,
   "id": "0fea7c35-c6fa-49b9-b61a-59b3d9076fb6",
   "metadata": {},
   "outputs": [],
   "source": [
    "# we can use custom ecxeption via class syntax"
   ]
  },
  {
   "cell_type": "code",
   "execution_count": 1,
   "id": "f7343caf-d5f6-48a8-a731-e7945295f0bc",
   "metadata": {},
   "outputs": [],
   "source": [
    "class InvalidTriangleError(Exception):\n",
    "    \"\"\"Raised when a triangle has invalid side\"\"\"\n",
    "    "
   ]
  },
  {
   "cell_type": "code",
   "execution_count": 3,
   "id": "4b14caef-35bd-4971-a93a-c440011c0543",
   "metadata": {},
   "outputs": [],
   "source": [
    "import math\n",
    "\n",
    "def calcSquareTriangle(ab,ac, bc):\n",
    "    if ab<=0 or ac<=0 or bc <=0:\n",
    "        raise InvalidTriangleError('One of the sides is less or equal to 0')\n",
    "    p = (ab + bc + ac) / 2\n",
    "    s = math.sqrt(p* (p-ab) * (p-ac) * (p-bc))\n",
    "\n",
    "    return print(s)\n"
   ]
  },
  {
   "cell_type": "code",
   "execution_count": 5,
   "id": "377ab679-60bc-4b22-a514-d494a3e9e31f",
   "metadata": {},
   "outputs": [
    {
     "ename": "InvalidTriangleError",
     "evalue": "One of the sides is less or equal to 0",
     "output_type": "error",
     "traceback": [
      "\u001b[0;31m---------------------------------------------------------------------------\u001b[0m",
      "\u001b[0;31mInvalidTriangleError\u001b[0m                      Traceback (most recent call last)",
      "Cell \u001b[0;32mIn[5], line 1\u001b[0m\n\u001b[0;32m----> 1\u001b[0m calcSquareTriangle(\u001b[38;5;241m3\u001b[39m,\u001b[38;5;241m-\u001b[39m\u001b[38;5;241m3\u001b[39m,\u001b[38;5;241m3\u001b[39m)\n",
      "Cell \u001b[0;32mIn[3], line 5\u001b[0m, in \u001b[0;36mcalcSquareTriangle\u001b[0;34m(ab, ac, bc)\u001b[0m\n\u001b[1;32m      3\u001b[0m \u001b[38;5;28;01mdef\u001b[39;00m \u001b[38;5;21mcalcSquareTriangle\u001b[39m(ab,ac, bc):\n\u001b[1;32m      4\u001b[0m     \u001b[38;5;28;01mif\u001b[39;00m ab\u001b[38;5;241m<\u001b[39m\u001b[38;5;241m=\u001b[39m\u001b[38;5;241m0\u001b[39m \u001b[38;5;129;01mor\u001b[39;00m ac\u001b[38;5;241m<\u001b[39m\u001b[38;5;241m=\u001b[39m\u001b[38;5;241m0\u001b[39m \u001b[38;5;129;01mor\u001b[39;00m bc \u001b[38;5;241m<\u001b[39m\u001b[38;5;241m=\u001b[39m\u001b[38;5;241m0\u001b[39m:\n\u001b[0;32m----> 5\u001b[0m         \u001b[38;5;28;01mraise\u001b[39;00m InvalidTriangleError(\u001b[38;5;124m'\u001b[39m\u001b[38;5;124mOne of the sides is less or equal to 0\u001b[39m\u001b[38;5;124m'\u001b[39m)\n\u001b[1;32m      6\u001b[0m     p \u001b[38;5;241m=\u001b[39m (ab \u001b[38;5;241m+\u001b[39m bc \u001b[38;5;241m+\u001b[39m ac) \u001b[38;5;241m/\u001b[39m \u001b[38;5;241m2\u001b[39m\n\u001b[1;32m      7\u001b[0m     s \u001b[38;5;241m=\u001b[39m math\u001b[38;5;241m.\u001b[39msqrt(p\u001b[38;5;241m*\u001b[39m (p\u001b[38;5;241m-\u001b[39mab) \u001b[38;5;241m*\u001b[39m (p\u001b[38;5;241m-\u001b[39mac) \u001b[38;5;241m*\u001b[39m (p\u001b[38;5;241m-\u001b[39mbc))\n",
      "\u001b[0;31mInvalidTriangleError\u001b[0m: One of the sides is less or equal to 0"
     ]
    }
   ],
   "source": [
    "calcSquareTriangle(3,-3,3)"
   ]
  },
  {
   "cell_type": "code",
   "execution_count": null,
   "id": "ae14d212-46b4-44d6-b44f-5d8f836a7b29",
   "metadata": {},
   "outputs": [],
   "source": [
    "#Сlasses basics"
   ]
  },
  {
   "cell_type": "code",
   "execution_count": 49,
   "id": "be1e8933-022a-4cdb-905d-55059928d718",
   "metadata": {},
   "outputs": [],
   "source": [
    "class CharSuper():\n",
    "    def __init__(self, race): #here we're defining constructor method - __name__ - special methods \n",
    "        self.race = race #self - attr of instance  - link on self of class\n",
    "\n",
    "    def getRace(self):\n",
    "        return self.race"
   ]
  },
  {
   "cell_type": "code",
   "execution_count": 51,
   "id": "d608905b-89db-44f1-aaa7-b13a5814b8c4",
   "metadata": {},
   "outputs": [
    {
     "data": {
      "text/plain": [
       "__main__.CharSuper"
      ]
     },
     "execution_count": 51,
     "metadata": {},
     "output_type": "execute_result"
    }
   ],
   "source": [
    "unit = CharSuper('Human')\n",
    "type(unit)"
   ]
  },
  {
   "cell_type": "code",
   "execution_count": 53,
   "id": "aafe4f9d-6bab-4535-ad86-302738c6aabf",
   "metadata": {},
   "outputs": [
    {
     "data": {
      "text/plain": [
       "'Human'"
      ]
     },
     "execution_count": 53,
     "metadata": {},
     "output_type": "execute_result"
    }
   ],
   "source": [
    "unit.getRace()"
   ]
  },
  {
   "cell_type": "code",
   "execution_count": null,
   "id": "0372fa66-2a98-41f2-8ac6-dc5546326e9f",
   "metadata": {},
   "outputs": [],
   "source": [
    "# Attributes, props and methods"
   ]
  },
  {
   "cell_type": "code",
   "execution_count": 79,
   "id": "5cf8c727-43e8-433a-a879-7f39deb950ca",
   "metadata": {},
   "outputs": [],
   "source": [
    "class CharSuper():\n",
    "    maxSpeed = 100\n",
    "    deadHealth = 0\n",
    "    def __init__(self, race, damage = 10, armor = 20): #default foo params\n",
    "        self.race = race \n",
    "        self.damage = damage\n",
    "        self.armor = armor\n",
    "        self.health = 100\n",
    "        \n",
    "    def getRace(self):\n",
    "        return print(self.race)\n",
    "    def hit(self,damage):\n",
    "        self.health -= damage\n",
    "\n",
    "    def isDead(self):\n",
    "        return self.health == Character.deadHeals\n"
   ]
  },
  {
   "cell_type": "code",
   "execution_count": 81,
   "id": "cadc8859-38ec-49f5-8a2e-292973e1eafb",
   "metadata": {},
   "outputs": [
    {
     "data": {
      "text/plain": [
       "80"
      ]
     },
     "execution_count": 81,
     "metadata": {},
     "output_type": "execute_result"
    }
   ],
   "source": [
    "ork = CharSuper('Ork')\n",
    "\n",
    "ork.hit(20)\n",
    "ork.health\n",
    "\n",
    "ork.currentSpeed(30)\n"
   ]
  },
  {
   "cell_type": "code",
   "execution_count": null,
   "id": "09fd7521-28d7-4ec2-bc3b-a045c8e5d5cf",
   "metadata": {},
   "outputs": [],
   "source": [
    "#We do not have private attributes(props) in python"
   ]
  },
  {
   "cell_type": "code",
   "execution_count": 119,
   "id": "2f0f5ca1-67fc-4085-8f3c-8478445d6ab4",
   "metadata": {},
   "outputs": [],
   "source": [
    "#But we can use protected and static props"
   ]
  },
  {
   "cell_type": "code",
   "execution_count": 137,
   "id": "174c37ce-219a-40e8-bd33-c0de38b55849",
   "metadata": {},
   "outputs": [],
   "source": [
    "class CharSuper():\n",
    "    MAX_SPEED = 100 #constants we define with capital chracters, but we have the ability to modify it, but agreed not to do that\n",
    "\n",
    "    def __init__(self, race, damage = 10):\n",
    "        self.damage = damage\n",
    "        self.__race = race # here we use 2 _ - that means this is private attribute we can't read or reassign it(agrred) ork._CharSuper__race - but with it we can\n",
    "        self._health = 100# with one _ we will see this at instances \n",
    "        self._currentSpeed = 20\n",
    "        \n",
    "\n",
    "    def getRace(self):\n",
    "        return print(self.race)\n",
    "    def hit(self,damage):\n",
    "        self.health -= damage\n",
    "        \n",
    "    @property ## this is getter - we can use this prop outside of the class - so thats protected property\n",
    "    def health(self):\n",
    "        return self._health ## better to use @property decorator if we have some complex logic inside of it\n",
    "\n",
    "    def isDead(self):\n",
    "        return self.health == Character.deadHeals\n",
    "    @property\n",
    "    def currentSpeed(self):\n",
    "        return self._currentSpeed\n",
    "\n",
    "    @currentSpeed.setter\n",
    "    def currentSpeed(self, newSpeed):\n",
    "        if newSpeed < 0:\n",
    "            self._currentSpeed = 0\n",
    "        if newSpeed > 100:\n",
    "            self._currentSpeed = 100\n",
    "        else:\n",
    "            self._currentSpeed = newSpeed\n"
   ]
  },
  {
   "cell_type": "code",
   "execution_count": 139,
   "id": "ffba1b49-b58e-49df-aa35-3add1ced2b88",
   "metadata": {},
   "outputs": [
    {
     "data": {
      "text/plain": [
       "20"
      ]
     },
     "execution_count": 139,
     "metadata": {},
     "output_type": "execute_result"
    }
   ],
   "source": [
    "human = CharSuper('Human')\n",
    "\n",
    "human.currentSpeed\n"
   ]
  },
  {
   "cell_type": "code",
   "execution_count": 141,
   "id": "d4541544-adaf-4ed8-8127-595dd3ba6f47",
   "metadata": {},
   "outputs": [],
   "source": [
    "human.currentSpeed = 50"
   ]
  },
  {
   "cell_type": "code",
   "execution_count": 143,
   "id": "9d9a6ff3-96a7-4079-88cb-446fc5d6afc3",
   "metadata": {},
   "outputs": [
    {
     "data": {
      "text/plain": [
       "50"
      ]
     },
     "execution_count": 143,
     "metadata": {},
     "output_type": "execute_result"
    }
   ],
   "source": [
    "human.currentSpeed"
   ]
  },
  {
   "cell_type": "code",
   "execution_count": null,
   "id": "b0633916-f6ab-4fc2-99b0-0e4a0bdab173",
   "metadata": {},
   "outputs": [],
   "source": [
    " #Static methods and attributes\n",
    "#we can call statis props and methods not only via class but with instance too "
   ]
  },
  {
   "cell_type": "code",
   "execution_count": 147,
   "id": "3a2f9239-2af5-4af5-a00b-bb2762b9ba7b",
   "metadata": {},
   "outputs": [],
   "source": [
    "class StaticTest:\n",
    "    x = 1"
   ]
  },
  {
   "cell_type": "code",
   "execution_count": 155,
   "id": "3ab090f4-14ce-4191-ade6-98a613d8d54a",
   "metadata": {},
   "outputs": [],
   "source": [
    "t1 = StaticTest()"
   ]
  },
  {
   "cell_type": "code",
   "execution_count": 157,
   "id": "e8815970-5bdf-49f1-930f-839fff828a43",
   "metadata": {},
   "outputs": [
    {
     "name": "stdout",
     "output_type": "stream",
     "text": [
      "via instance: 1\n",
      "via class: 1\n"
     ]
    }
   ],
   "source": [
    "print(f'via instance: {t1.x}')\n",
    "print(f'via class: {StaticTest.x}')"
   ]
  },
  {
   "cell_type": "code",
   "execution_count": 159,
   "id": "d2e5fa48-cab7-4381-b629-9f282204c2e9",
   "metadata": {},
   "outputs": [],
   "source": [
    "t1.x = 2"
   ]
  },
  {
   "cell_type": "code",
   "execution_count": 161,
   "id": "a0368943-9600-416d-997f-504fa343cc28",
   "metadata": {},
   "outputs": [
    {
     "name": "stdout",
     "output_type": "stream",
     "text": [
      "via instance: 2\n",
      "via class: 1\n"
     ]
    }
   ],
   "source": [
    "print(f'via instance: {t1.x}')\n",
    "print(f'via class: {StaticTest.x}')"
   ]
  },
  {
   "cell_type": "code",
   "execution_count": null,
   "id": "8ce80fae-52cf-4a99-9f0f-f86b5b695a1c",
   "metadata": {},
   "outputs": [],
   "source": [
    "#here we change attributes dedicated on instance, not linked with static CLASS attribute"
   ]
  },
  {
   "cell_type": "code",
   "execution_count": null,
   "id": "915b6eb4-0f94-46af-9754-057524ec6fcf",
   "metadata": {},
   "outputs": [],
   "source": [
    "class Date:\n",
    "    def __init__(self, month, day, year):\n",
    "        self.month = month\n",
    "        self.day = day\n",
    "        self.year = year\n",
    "\n",
    "    def display(self):\n",
    "        return f'{self.month} - {self.day} - {self.year}'\n",
    "    @classmethod # static method with classmethod decorator get cls as a first param - looks like self but not instance but class itself\n",
    "    def millenum_c(cls, month, day)\n",
    "        return cls(month,day, 2000) # will call class constructor\n",
    "\n",
    "    @staticmethod # this is static method that will call class by name, not inside of operation but differense that classmethod working on class \n",
    "    #whitch will be calling, but with staticmethod we will always work with called class\n",
    "    def millenium_s(month, day):\n",
    "        return Date(month,day, 2000)"
   ]
  },
  {
   "cell_type": "code",
   "execution_count": null,
   "id": "35a4ee88-7db6-4701-bb32-eccdf4a6e906",
   "metadata": {},
   "outputs": [],
   "source": [
    "# Inheritance and polymorphysm "
   ]
  },
  {
   "cell_type": "code",
   "execution_count": 205,
   "id": "2b1b0840-e472-4328-94b4-c935fa4a6f9d",
   "metadata": {},
   "outputs": [],
   "source": [
    "class Shape():\n",
    "    def __init__(self):\n",
    "        print('shape created')\n",
    "        \n",
    "    def draw(self):\n",
    "        print('drawing a shape')\n",
    "        \n",
    "    def area(self):\n",
    "        print('calc area')\n",
    "        \n",
    "    def perimeter(self):\n",
    "         print('calc perimeter')"
   ]
  },
  {
   "cell_type": "code",
   "execution_count": 207,
   "id": "2b0edf74-b737-4fee-bda2-f8315454c222",
   "metadata": {},
   "outputs": [
    {
     "name": "stdout",
     "output_type": "stream",
     "text": [
      "shape created\n"
     ]
    }
   ],
   "source": [
    "shape = Shape()\n"
   ]
  },
  {
   "cell_type": "code",
   "execution_count": 215,
   "id": "1186c827-4e31-4b94-82f3-28f3440be7bc",
   "metadata": {},
   "outputs": [],
   "source": [
    "class Rectangle(Shape):\n",
    "    def __init__(self, width, height):\n",
    "        Shape.__init__(self)\n",
    "        self.width = width\n",
    "        self.height = height\n",
    "\n",
    "        print('Rectangle created')\n",
    "    \n",
    "    def area(self):\n",
    "        print(self.width * self.height)\n",
    "    def perimeter(self):\n",
    "        print((self.width + self.height)* 2)"
   ]
  },
  {
   "cell_type": "code",
   "execution_count": 217,
   "id": "48827863-0a8d-471a-8635-fb0556fa8cc4",
   "metadata": {},
   "outputs": [
    {
     "name": "stdout",
     "output_type": "stream",
     "text": [
      "shape created\n",
      "Rectangle created\n"
     ]
    }
   ],
   "source": [
    "rect = Rectangle(10,15)\n"
   ]
  },
  {
   "cell_type": "code",
   "execution_count": 219,
   "id": "64e917fc-fe48-42a2-bd4f-7549607f4400",
   "metadata": {},
   "outputs": [
    {
     "name": "stdout",
     "output_type": "stream",
     "text": [
      "calc area\n"
     ]
    }
   ],
   "source": [
    "rect.area()"
   ]
  },
  {
   "cell_type": "code",
   "execution_count": 224,
   "id": "f436d72b-1962-42e3-826f-9e23117655ed",
   "metadata": {},
   "outputs": [],
   "source": [
    "import math\n",
    "class Triangle(Shape):\n",
    "    def __init__(self, a, b, c):\n",
    "        Shape.__init__(self)\n",
    "        self.a = a\n",
    "        self.b = b\n",
    "        self.c = c\n",
    "\n",
    "        print('Triangle created')\n",
    "    def area(self):\n",
    "        print((self.a + self.b + self.c)/2)\n",
    "    def perimeter(self):\n",
    "        print(self.a + self.b + self.c)"
   ]
  },
  {
   "cell_type": "code",
   "execution_count": 226,
   "id": "ef9e5d6b-d272-45a4-a512-6ed4c67cc1a3",
   "metadata": {},
   "outputs": [
    {
     "name": "stdout",
     "output_type": "stream",
     "text": [
      "shape created\n",
      "Triangle created\n"
     ]
    }
   ],
   "source": [
    "tri = Triangle(10,10,10)"
   ]
  },
  {
   "cell_type": "code",
   "execution_count": 228,
   "id": "dfb29d03-478c-4a1c-8faf-ffcdf98b40b4",
   "metadata": {},
   "outputs": [
    {
     "name": "stdout",
     "output_type": "stream",
     "text": [
      "30\n"
     ]
    }
   ],
   "source": [
    "tri.perimeter()"
   ]
  },
  {
   "cell_type": "code",
   "execution_count": null,
   "id": "4c20f771-6893-4ab5-823f-a830c1cd5f4e",
   "metadata": {},
   "outputs": [],
   "source": [
    "# multi inheritance - when class has not only one but few paerents"
   ]
  },
  {
   "cell_type": "code",
   "execution_count": 232,
   "id": "1160759c-a483-4482-9916-45bca032f79a",
   "metadata": {},
   "outputs": [],
   "source": [
    " class Animal:\n",
    "     def die(self):\n",
    "         print('bye bye')\n",
    "         self.health = 0\n",
    "         \n",
    "class Savage:\n",
    "    def hunt(self):\n",
    "        print('eating')\n",
    "        self.satiety = 100\n",
    "\n",
    "class Dog(Animal, Savage):\n",
    "    def bark(self):\n",
    "        print('woof-woof')"
   ]
  },
  {
   "cell_type": "code",
   "execution_count": 234,
   "id": "6ade624d-449f-4aa6-ba6f-3d329c8ca5cd",
   "metadata": {},
   "outputs": [
    {
     "name": "stdout",
     "output_type": "stream",
     "text": [
      "eating\n",
      "woof-woof\n",
      "bye bye\n"
     ]
    }
   ],
   "source": [
    "dog = Dog()\n",
    "dog.hunt()\n",
    "dog.bark()\n",
    "dog.die()"
   ]
  },
  {
   "cell_type": "code",
   "execution_count": 262,
   "id": "dc7f3610-e154-4275-9f4c-6c564f6fac3c",
   "metadata": {},
   "outputs": [],
   "source": [
    "class Animal:\n",
    "     def set_health(self, health):\n",
    "         print('set in animal')\n",
    "         \n",
    "class Savage(Animal):\n",
    "    def set_health(self, health):\n",
    "         Animal.set_health(self,health);\n",
    "         print('set in savage')\n",
    "\n",
    "class Mammal(Animal):\n",
    "    def set_health(self, health):\n",
    "         Animal.set_health(self,health);\n",
    "         print('set in mammel')\n",
    "\n",
    "class Dog(Mammal, Savage):\n",
    "    def set_health(self, health):\n",
    "         Mammal.set_health(self,health);\n",
    "         Savage.set_health(self,health);\n",
    "         print('set in dog')"
   ]
  },
  {
   "cell_type": "code",
   "execution_count": 264,
   "id": "295cf1bf-7270-4cbb-8f81-4bcb9d9c34cc",
   "metadata": {},
   "outputs": [],
   "source": [
    "# here we have a rhombus of death - dog inherite from few common classes"
   ]
  },
  {
   "cell_type": "code",
   "execution_count": 266,
   "id": "3f5c9d80-1c5f-408f-9f60-6d5cde472eb8",
   "metadata": {},
   "outputs": [
    {
     "name": "stdout",
     "output_type": "stream",
     "text": [
      "set in animal\n",
      "set in mammel\n",
      "set in animal\n",
      "set in savage\n",
      "set in dog\n"
     ]
    }
   ],
   "source": [
    "dog = Dog()\n",
    "dog.set_health(10) # here we have 2 times called set in animal from base class"
   ]
  },
  {
   "cell_type": "code",
   "execution_count": 274,
   "id": "f1a6f07b-4066-4b0f-ba36-989c5df58c13",
   "metadata": {},
   "outputs": [],
   "source": [
    "class Animal:\n",
    "     def set_health(self, health):\n",
    "         print('set in animal')\n",
    "         \n",
    "class Savage(Animal):\n",
    "    def set_health(self, health):\n",
    "         super().set_health(health);\n",
    "         #Animal.set_health(self,health);\n",
    "         print('set in savage')\n",
    "\n",
    "class Mammal(Animal):\n",
    "    def set_health(self, health):\n",
    "         super().set_health(health);\n",
    "         #Animal.set_health(self,health);\n",
    "         print('set in mammel')\n",
    "\n",
    "class Dog(Mammal, Savage):\n",
    "    def set_health(self, health):\n",
    "         super().set_health(health);\n",
    "         #Mammal.set_health(self,health);\n",
    "         #Savage.set_health(self,health);\n",
    "         print('set in dog')"
   ]
  },
  {
   "cell_type": "code",
   "execution_count": 276,
   "id": "689b18d2-864b-4094-98cd-576d3e90e031",
   "metadata": {},
   "outputs": [
    {
     "name": "stdout",
     "output_type": "stream",
     "text": [
      "set in animal\n",
      "set in savage\n",
      "set in mammel\n",
      "set in dog\n"
     ]
    }
   ],
   "source": [
    "dog = Dog()\n",
    "dog.set_health(10) #methods resolution order"
   ]
  },
  {
   "cell_type": "code",
   "execution_count": null,
   "id": "ae7782ca-9a72-46e8-846a-34ec0afd8737",
   "metadata": {},
   "outputs": [],
   "source": [
    "#Mixins - that's an extra case multi inheritance"
   ]
  },
  {
   "cell_type": "code",
   "execution_count": null,
   "id": "2f762be2-ce36-4edb-9432-fd49e2aaa2ba",
   "metadata": {},
   "outputs": [],
   "source": [
    "#They not acting like a base class, we cann mix them in any classes"
   ]
  },
  {
   "cell_type": "code",
   "execution_count": 316,
   "id": "e717082c-9174-4a6d-8142-f11c3f3cb50c",
   "metadata": {},
   "outputs": [],
   "source": [
    "class Viehicle:\n",
    "    def __init__(self, position):\n",
    "        self.position = position\n",
    "        \n",
    "    def travel(self,destination):\n",
    "        route = calculate_route(source=self.position, to = destination)\n",
    "        self.movealong(route)\n",
    "        \n",
    "    def calculate_route(self, source, to):\n",
    "        return 0\n",
    "        \n",
    "    def move_along(self,route):\n",
    "        print('moving')"
   ]
  },
  {
   "cell_type": "code",
   "execution_count": 318,
   "id": "c2f57173-7989-404f-9ba9-b89720d231cc",
   "metadata": {},
   "outputs": [],
   "source": [
    "class Car(Viehicle):\n",
    "    pass"
   ]
  },
  {
   "cell_type": "code",
   "execution_count": 320,
   "id": "6d3dd106-621e-4fe1-9e19-a8e2dbe5d707",
   "metadata": {},
   "outputs": [],
   "source": [
    "class Airplane(Viehicle):\n",
    "    pass\n",
    "#And we want to add radio class to Car but not add to Airplane, so we can add a mixin"
   ]
  },
  {
   "cell_type": "code",
   "execution_count": 322,
   "id": "175f996f-e14c-4932-9b44-36dbf9b687ee",
   "metadata": {},
   "outputs": [],
   "source": [
    "class RadioMixin:\n",
    "    def __init__(self):\n",
    "        self.radio = Radio()\n",
    "    def turn_on(self, station):\n",
    "        self.radio.set_station(station)\n",
    "        self.radio.play()\n",
    "\n",
    "class Radio:\n",
    "    def set_station(self, station):\n",
    "        self.station = station\n",
    "    def play(self):\n",
    "        print(f'playing {self.station}')\n",
    "\n",
    "\n",
    "class Car (Viehicle, RadioMixin):\n",
    "    def __init__(self):\n",
    "        Viehicle.__init__(self, 10)\n",
    "        RadioMixin.__init__(self)\n"
   ]
  },
  {
   "cell_type": "code",
   "execution_count": 324,
   "id": "cb1a3bba-6de0-41e6-87c1-27cb97b09e03",
   "metadata": {},
   "outputs": [
    {
     "name": "stdout",
     "output_type": "stream",
     "text": [
      "playing jazz\n"
     ]
    }
   ],
   "source": [
    "car = Car()\n",
    "\n",
    "car.turn_on('jazz')"
   ]
  },
  {
   "cell_type": "code",
   "execution_count": null,
   "id": "de562ecd-a6ab-46e9-bdb2-95141df3e393",
   "metadata": {},
   "outputs": [],
   "source": [
    "# Abstract class and method ABC - spacial module"
   ]
  },
  {
   "cell_type": "code",
   "execution_count": 326,
   "id": "8d9f0120-7061-409c-b562-7e96e8d34cfe",
   "metadata": {},
   "outputs": [],
   "source": [
    "from abc import ABC\n",
    "from abc import abstractmethod\n",
    "\n",
    "class Shape(ABC): # we can't create instance of this class and should use it only like parent class\n",
    "    def __init__(self):\n",
    "        super().__init__()\n",
    "\n",
    "    @abstractmethod\n",
    "    def draw(self):\n",
    "        print('drawing a shape')\n",
    "\n",
    "    @abstractmethod\n",
    "    def area(self):\n",
    "        print('calc area')\n",
    "\n",
    "    @abstractmethod # means that instances should reassign these methods - all of them!\n",
    "    def perimeter(self):\n",
    "        print('calc perimeter')"
   ]
  },
  {
   "cell_type": "code",
   "execution_count": 336,
   "id": "d33ad09c-b84c-4202-aa2d-df53024c563b",
   "metadata": {},
   "outputs": [],
   "source": [
    "import math\n",
    "class Triangle(Shape):\n",
    "    def __init__(self, a, b, c):\n",
    "        self.a = a\n",
    "        self.b = b\n",
    "        self.c = c\n",
    "\n",
    "        \n",
    "        print('Triangle created')\n",
    "\n",
    "    def draw(self):\n",
    "        print('drawing a tri')\n",
    "    \n",
    "    def area(self):\n",
    "        print((self.a + self.b + self.c)/2)\n",
    "    def perimeter(self):\n",
    "        print(self.a + self.b + self.c)"
   ]
  },
  {
   "cell_type": "code",
   "execution_count": 338,
   "id": "4a5922e5-5615-450a-87ef-9ba709ae1f8f",
   "metadata": {},
   "outputs": [
    {
     "name": "stdout",
     "output_type": "stream",
     "text": [
      "Triangle created\n"
     ]
    }
   ],
   "source": [
    "t = Triangle(10,10,10)"
   ]
  },
  {
   "cell_type": "code",
   "execution_count": 340,
   "id": "de0d6f59-18e8-49be-9e38-a4c5b9ea49a5",
   "metadata": {},
   "outputs": [
    {
     "name": "stdout",
     "output_type": "stream",
     "text": [
      "15.0\n"
     ]
    }
   ],
   "source": [
    "t.area()"
   ]
  },
  {
   "cell_type": "code",
   "execution_count": null,
   "id": "42d9ac52-bf45-4faa-9e74-bdbd9396dda6",
   "metadata": {},
   "outputs": [],
   "source": [
    "#magic methods dunder methods - we can reassign this methods- in most cases we should reassign str"
   ]
  },
  {
   "cell_type": "code",
   "execution_count": 342,
   "id": "c5abaa9f-8783-4710-81c0-465498eb8cc3",
   "metadata": {},
   "outputs": [],
   "source": [
    "class Point():\n",
    "    def __init__(self, x ,y):\n",
    "        self.x = x\n",
    "        self.y = y\n",
    "\n",
    "    def __str__(self): #The __str__ method returns a string representation of the Point object using an f-string\n",
    "        return f'{self.x, self.y}'\n",
    "        "
   ]
  },
  {
   "cell_type": "code",
   "execution_count": 344,
   "id": "9c7e611b-22ed-4146-af1b-1abfe2252c55",
   "metadata": {},
   "outputs": [
    {
     "name": "stdout",
     "output_type": "stream",
     "text": [
      "(3, 4)\n"
     ]
    }
   ],
   "source": [
    "p = Point(3,4)\n",
    "print(p)"
   ]
  },
  {
   "cell_type": "code",
   "execution_count": 346,
   "id": "d452bc14-1748-41f5-aef1-5554afa394e6",
   "metadata": {},
   "outputs": [
    {
     "name": "stdout",
     "output_type": "stream",
     "text": [
      "Using print(p): Point(3, 5)\n",
      "Using repr(p): Point(x=3, y=5)\n"
     ]
    },
    {
     "data": {
      "text/plain": [
       "Point(x=3, y=5)"
      ]
     },
     "execution_count": 346,
     "metadata": {},
     "output_type": "execute_result"
    }
   ],
   "source": [
    "#__str__ User-friendly string representation print(obj) Readable for end users\n",
    "#__repr__ Developer-friendly string representation repr(obj), debug Unambiguous, often recreatable string\n",
    "\n",
    "class Point:\n",
    "    def __init__(self, x ,y):\n",
    "        self.x = x\n",
    "        self.y = y\n",
    "\n",
    "    def __str__(self):\n",
    "        return f'Point({self.x}, {self.y})'\n",
    "\n",
    "    def __repr__(self):\n",
    "        return f'Point(x={self.x}, y={self.y})'\n",
    "\n",
    "# Create an instance\n",
    "p = Point(3, 5)\n",
    "\n",
    "# Demonstrate the difference\n",
    "print(\"Using print(p):\", p)         # Calls __str__\n",
    "print(\"Using repr(p):\", repr(p))   # Calls __repr__\n",
    "\n",
    "# Also shows how it's displayed in a cell output\n",
    "p"
   ]
  },
  {
   "cell_type": "code",
   "execution_count": null,
   "id": "df1dd127-57ca-486e-a103-bd2db6504136",
   "metadata": {},
   "outputs": [],
   "source": [
    "# HW rounds - cross"
   ]
  },
  {
   "cell_type": "code",
   "execution_count": 199,
   "id": "fc2bdf7a-f9fd-4605-85d9-50d4bc1b71f7",
   "metadata": {},
   "outputs": [],
   "source": [
    "class RC_Game:\n",
    "    win = [ [0,1,2],\n",
    "            [0,3,6],\n",
    "            [0,4,8],\n",
    "            [1,4,7],\n",
    "            [2,5,8],\n",
    "            [2,4,6],\n",
    "            [3,4,5],\n",
    "            [6,7,8],\n",
    "          ]\n",
    "    player1 = { 'name': 'player1', 'char': 'x', 'indexes': [] }\n",
    "    player2 = { 'name': 'player2', 'char': 'o', 'indexes': [] }\n",
    "\n",
    "    players = [player1, player2]\n",
    "            \n",
    "    def __init__(self):\n",
    "        self.res = []\n",
    "        self.order = 0\n",
    "        self.win = RC_Game.win\n",
    "        \n",
    "        self.player1 = RC_Game.player1\n",
    "        self.player3 = RC_Game.player2\n",
    "        self.palyers = RC_Game.players\n",
    "        self.player1['name'] = input(f'please enter player1 name, or it will be {RC_Game.player1['name']}')\n",
    "        self.player2['name'] = input(f'please enter player2 name, or it will be {RC_Game.player2['name']}')\n",
    "        \n",
    "        for _ in range(0,9):\n",
    "            self.res.append(' ')\n",
    "          \n",
    "        \n",
    "\n",
    "    def makeMove(self):\n",
    "        print(f'{self.players[self.order]['name']} turn to move:')\n",
    "        index = int(input('Please insert an index'))\n",
    "        self.players[self.order]['indexes'].append(index)\n",
    "        self.res[index] = self.players[self.order]['char']\n",
    "        #self.order = self.order - self.order + 1\n",
    "\n",
    "    def start(self):\n",
    "        print(self.player1)\n",
    "        while (self.win.count(self.player1['indexes']) > 0 \n",
    "            or self.win.count(self.player2['indexes']) > 0 ):\n",
    "            self.makeMove()\n",
    "            print(self.order)\n",
    "            self.order = 1 - self.order\n",
    "            self.printRes()\n",
    "\n",
    "        print(f'{self.players[self.order]['name']} winner today!')\n",
    "        \n",
    "        \n",
    "\n",
    "\n",
    "    def printRes(self): \n",
    "        print(f'{self.res[0]}|{self.res[1]}|{self.res[2]}')\n",
    "        print('- - -')\n",
    "        print(f'{self.res[3]}|{self.res[4]}|{self.res[5]}')\n",
    "        print('- - -')\n",
    "        print(f'{self.res[6]}|{self.res[7]}|{self.res[8]}')\n",
    "    \n",
    "        "
   ]
  },
  {
   "cell_type": "code",
   "execution_count": 201,
   "id": "84ea1365-b41c-4874-8f48-3fd7db4f1a62",
   "metadata": {
    "scrolled": true
   },
   "outputs": [
    {
     "name": "stdout",
     "output_type": "stream",
     "text": [
      "please enter player1 name, or it will be player1 j\n",
      "please enter player2 name, or it will be player2 j\n"
     ]
    }
   ],
   "source": [
    "g = RC_Game()"
   ]
  },
  {
   "cell_type": "code",
   "execution_count": 203,
   "id": "6f503ac6-e55a-4e27-9887-1c468536ffae",
   "metadata": {},
   "outputs": [
    {
     "name": "stdout",
     "output_type": "stream",
     "text": [
      "{'name': 'j', 'char': 'x', 'indexes': []}\n",
      "j winner today!\n"
     ]
    }
   ],
   "source": [
    "g.start()"
   ]
  },
  {
   "cell_type": "code",
   "execution_count": 139,
   "id": "cd2cf6af-c2e9-45e9-a708-ae09efd9f2e0",
   "metadata": {},
   "outputs": [
    {
     "name": "stdout",
     "output_type": "stream",
     "text": [
      "o| |o\n",
      "- - -\n",
      "x|o| \n",
      "- - -\n",
      "o|o|o\n"
     ]
    }
   ],
   "source": [
    "g.printRes()\n"
   ]
  },
  {
   "cell_type": "code",
   "execution_count": 205,
   "id": "b3619e58-c609-4c72-a7ee-bfb43628b7a3",
   "metadata": {},
   "outputs": [],
   "source": [
    "import copy\n",
    "\n",
    "class RC_Game:\n",
    "    win = [\n",
    "        [0,1,2], [0,3,6], [0,4,8],\n",
    "        [1,4,7], [2,5,8], [2,4,6],\n",
    "        [3,4,5], [6,7,8],\n",
    "    ]\n",
    "    default_player1 = { 'name': 'player1', 'char': 'x', 'indexes': [] }\n",
    "    default_player2 = { 'name': 'player2', 'char': 'o', 'indexes': [] }\n",
    "\n",
    "    def __init__(self):\n",
    "        self.res = [' '] * 9\n",
    "        self.order = 0\n",
    "\n",
    "        self.player1 = copy.deepcopy(RC_Game.default_player1)\n",
    "        self.player2 = copy.deepcopy(RC_Game.default_player2)\n",
    "        self.players = [self.player1, self.player2]\n",
    "\n",
    "        self.player1['name'] = input(f\"Enter name for player 1 (default: {self.player1['name']}): \") or self.player1['name']\n",
    "        self.player2['name'] = input(f\"Enter name for player 2 (default: {self.player2['name']}): \") or self.player2['name']\n",
    "\n",
    "    def printRes(self): \n",
    "        print(f'{self.res[0]}|{self.res[1]}|{self.res[2]}')\n",
    "        print('- - -')\n",
    "        print(f'{self.res[3]}|{self.res[4]}|{self.res[5]}')\n",
    "        print('- - -')\n",
    "        print(f'{self.res[6]}|{self.res[7]}|{self.res[8]}')\n",
    "\n",
    "    def check_winner(self, indexes):\n",
    "        for combo in self.win:\n",
    "            if all(i in indexes for i in combo):\n",
    "                return True\n",
    "        return False\n",
    "\n",
    "    def makeMove(self):\n",
    "        player = self.players[self.order]\n",
    "        print(f\"{player['name']} ({player['char']}), it's your turn.\")\n",
    "        \n",
    "        while True:\n",
    "            try:\n",
    "                index = int(input(\"Choose position (0-8): \"))\n",
    "                if index < 0 or index > 8 or self.res[index] != ' ':\n",
    "                    raise ValueError\n",
    "                break\n",
    "            except ValueError:\n",
    "                print(\"Invalid move. Try again.\")\n",
    "        \n",
    "        player['indexes'].append(index)\n",
    "        self.res[index] = player['char']\n",
    "\n",
    "    def start(self):\n",
    "        self.printRes()\n",
    "        while True:\n",
    "            self.makeMove()\n",
    "            self.printRes()\n",
    "            if self.check_winner(self.players[self.order]['indexes']):\n",
    "                print(f\"{self.players[self.order]['name']} wins!\")\n",
    "                break\n",
    "            if ' ' not in self.res:\n",
    "                print(\"It's a draw!\")\n",
    "                break\n",
    "            self.order = 1 - self.order"
   ]
  },
  {
   "cell_type": "code",
   "execution_count": 207,
   "id": "bdac4219-d545-47be-b4cb-af76783351f4",
   "metadata": {},
   "outputs": [
    {
     "name": "stdout",
     "output_type": "stream",
     "text": [
      "Enter name for player 1 (default: player1):  Alex\n",
      "Enter name for player 2 (default: player2):  Stan\n"
     ]
    },
    {
     "name": "stdout",
     "output_type": "stream",
     "text": [
      " | | \n",
      "- - -\n",
      " | | \n",
      "- - -\n",
      " | | \n",
      "Alex (x), it's your turn.\n"
     ]
    },
    {
     "name": "stdout",
     "output_type": "stream",
     "text": [
      "Choose position (0-8):  8\n"
     ]
    },
    {
     "name": "stdout",
     "output_type": "stream",
     "text": [
      " | | \n",
      "- - -\n",
      " | | \n",
      "- - -\n",
      " | |x\n",
      "Stan (o), it's your turn.\n"
     ]
    },
    {
     "name": "stdout",
     "output_type": "stream",
     "text": [
      "Choose position (0-8):  4\n"
     ]
    },
    {
     "name": "stdout",
     "output_type": "stream",
     "text": [
      " | | \n",
      "- - -\n",
      " |o| \n",
      "- - -\n",
      " | |x\n",
      "Alex (x), it's your turn.\n"
     ]
    },
    {
     "name": "stdout",
     "output_type": "stream",
     "text": [
      "Choose position (0-8):  6\n"
     ]
    },
    {
     "name": "stdout",
     "output_type": "stream",
     "text": [
      " | | \n",
      "- - -\n",
      " |o| \n",
      "- - -\n",
      "x| |x\n",
      "Stan (o), it's your turn.\n"
     ]
    },
    {
     "name": "stdout",
     "output_type": "stream",
     "text": [
      "Choose position (0-8):  2\n"
     ]
    },
    {
     "name": "stdout",
     "output_type": "stream",
     "text": [
      " | |o\n",
      "- - -\n",
      " |o| \n",
      "- - -\n",
      "x| |x\n",
      "Alex (x), it's your turn.\n"
     ]
    },
    {
     "name": "stdout",
     "output_type": "stream",
     "text": [
      "Choose position (0-8):  7\n"
     ]
    },
    {
     "name": "stdout",
     "output_type": "stream",
     "text": [
      " | |o\n",
      "- - -\n",
      " |o| \n",
      "- - -\n",
      "x|x|x\n",
      "Alex wins!\n"
     ]
    }
   ],
   "source": [
    "game = RC_Game()\n",
    "game.start()"
   ]
  },
  {
   "cell_type": "code",
   "execution_count": null,
   "id": "3294378d-7e7b-476d-bd8d-64575d387e4d",
   "metadata": {},
   "outputs": [],
   "source": [
    "#Debugging\n",
    "# pdb module - help us wih debug"
   ]
  },
  {
   "cell_type": "code",
   "execution_count": 209,
   "id": "130906ce-369c-4d78-8237-4625899760f7",
   "metadata": {},
   "outputs": [
    {
     "name": "stdout",
     "output_type": "stream",
     "text": [
      "--Return--\n",
      "None\n",
      "> \u001b[0;32m/var/folders/sc/x_jsrl314qld4_dd3wys63tr0000gn/T/ipykernel_46567/3860888853.py\u001b[0m(6)\u001b[0;36m<module>\u001b[0;34m()\u001b[0m\n",
      "\u001b[0;32m      4 \u001b[0;31m\u001b[0my\u001b[0m\u001b[0;34m=\u001b[0m\u001b[0;36m2\u001b[0m\u001b[0;34m\u001b[0m\u001b[0;34m\u001b[0m\u001b[0m\n",
      "\u001b[0m\u001b[0;32m      5 \u001b[0;31m\u001b[0;34m\u001b[0m\u001b[0m\n",
      "\u001b[0m\u001b[0;32m----> 6 \u001b[0;31m\u001b[0mpdb\u001b[0m\u001b[0;34m.\u001b[0m\u001b[0mset_trace\u001b[0m\u001b[0;34m(\u001b[0m\u001b[0;34m)\u001b[0m\u001b[0;34m\u001b[0m\u001b[0;34m\u001b[0m\u001b[0m\n",
      "\u001b[0m\u001b[0;32m      7 \u001b[0;31m\u001b[0;34m\u001b[0m\u001b[0m\n",
      "\u001b[0m\u001b[0;32m      8 \u001b[0;31m\u001b[0mz\u001b[0m\u001b[0;34m=\u001b[0m \u001b[0;36m3\u001b[0m\u001b[0;34m\u001b[0m\u001b[0;34m\u001b[0m\u001b[0m\n",
      "\u001b[0m\n"
     ]
    },
    {
     "name": "stdout",
     "output_type": "stream",
     "text": [
      "ipdb>  x\n"
     ]
    },
    {
     "name": "stdout",
     "output_type": "stream",
     "text": [
      "1\n"
     ]
    },
    {
     "name": "stdout",
     "output_type": "stream",
     "text": [
      "ipdb>  y\n"
     ]
    },
    {
     "name": "stdout",
     "output_type": "stream",
     "text": [
      "2\n"
     ]
    },
    {
     "name": "stdout",
     "output_type": "stream",
     "text": [
      "ipdb>  c\n"
     ]
    },
    {
     "name": "stdout",
     "output_type": "stream",
     "text": [
      "--Return--\n",
      "None\n",
      "> \u001b[0;32m/var/folders/sc/x_jsrl314qld4_dd3wys63tr0000gn/T/ipykernel_46567/3860888853.py\u001b[0m(10)\u001b[0;36m<module>\u001b[0;34m()\u001b[0m\n",
      "\u001b[0;32m      8 \u001b[0;31m\u001b[0mz\u001b[0m\u001b[0;34m=\u001b[0m \u001b[0;36m3\u001b[0m\u001b[0;34m\u001b[0m\u001b[0;34m\u001b[0m\u001b[0m\n",
      "\u001b[0m\u001b[0;32m      9 \u001b[0;31m\u001b[0mx\u001b[0m\u001b[0;34m+=\u001b[0m\u001b[0;36m1\u001b[0m\u001b[0;34m\u001b[0m\u001b[0;34m\u001b[0m\u001b[0m\n",
      "\u001b[0m\u001b[0;32m---> 10 \u001b[0;31m\u001b[0mpdb\u001b[0m\u001b[0;34m.\u001b[0m\u001b[0mset_trace\u001b[0m\u001b[0;34m(\u001b[0m\u001b[0;34m)\u001b[0m\u001b[0;34m\u001b[0m\u001b[0;34m\u001b[0m\u001b[0m\n",
      "\u001b[0m\u001b[0;32m     11 \u001b[0;31m\u001b[0;34m\u001b[0m\u001b[0m\n",
      "\u001b[0m\u001b[0;32m     12 \u001b[0;31m\u001b[0mprint\u001b[0m\u001b[0;34m(\u001b[0m\u001b[0;34m'finish'\u001b[0m\u001b[0;34m)\u001b[0m\u001b[0;34m\u001b[0m\u001b[0;34m\u001b[0m\u001b[0m\n",
      "\u001b[0m\n"
     ]
    },
    {
     "name": "stdout",
     "output_type": "stream",
     "text": [
      "ipdb>  z\n"
     ]
    },
    {
     "name": "stdout",
     "output_type": "stream",
     "text": [
      "3\n"
     ]
    },
    {
     "name": "stdout",
     "output_type": "stream",
     "text": [
      "ipdb>  c\n"
     ]
    },
    {
     "name": "stdout",
     "output_type": "stream",
     "text": [
      "finish\n"
     ]
    }
   ],
   "source": [
    "import pdb\n",
    "\n",
    "x=1\n",
    "y=2\n",
    "\n",
    "pdb.set_trace()\n",
    "\n",
    "z= 3\n",
    "x+=1\n",
    "pdb.set_trace() # like debuger() in js\n",
    "\n",
    "print('finish')\n",
    "\n"
   ]
  },
  {
   "cell_type": "code",
   "execution_count": null,
   "id": "fca241e0-456f-4b36-a6c8-ae281cb07a6b",
   "metadata": {},
   "outputs": [],
   "source": [
    "# iterible objects - let's create stack\n"
   ]
  },
  {
   "cell_type": "code",
   "execution_count": 215,
   "id": "98a14b8d-66b0-40c9-91f5-9d3518c3badd",
   "metadata": {},
   "outputs": [],
   "source": [
    "class MyStack:\n",
    "    def __init__(self):\n",
    "        self.array = []\n",
    "\n",
    "    def push(self, item):\n",
    "        self.array.append(item)\n",
    "\n",
    "    def pop(self):\n",
    "        popped_item = self.array.pop()\n",
    "        return popped_item\n",
    "    def peek(self):\n",
    "        return self.__current()\n",
    "\n",
    "    def __current(self):\n",
    "        return self.array[self.count() -1]\n",
    "\n",
    "    def count(self):\n",
    "        return len(self.array)\n",
    "\n",
    "    def __iter__(self):\n",
    "        self.index = self.count()-1\n",
    "        return self\n",
    "\n",
    "    def __next__(self):\n",
    "        if self.index < 0:\n",
    "            raise StopIteration()\n",
    "        result = self.array[self.index]\n",
    "        self.index-=1\n",
    "        return result\n",
    "    "
   ]
  },
  {
   "cell_type": "code",
   "execution_count": 217,
   "id": "64fa854a-859a-46e9-bf94-c1e1b4d9621f",
   "metadata": {},
   "outputs": [],
   "source": [
    "stack = MyStack()\n",
    "stack.push(1)\n",
    "stack.push(2)\n",
    "stack.push(3)"
   ]
  },
  {
   "cell_type": "code",
   "execution_count": 220,
   "id": "e0741469-c55b-4aac-b893-12dc235857bd",
   "metadata": {},
   "outputs": [
    {
     "data": {
      "text/plain": [
       "3"
      ]
     },
     "execution_count": 220,
     "metadata": {},
     "output_type": "execute_result"
    }
   ],
   "source": [
    "stack.pop()"
   ]
  },
  {
   "cell_type": "code",
   "execution_count": 222,
   "id": "be385bc4-e0e6-457d-8fb2-d569d22923cc",
   "metadata": {},
   "outputs": [
    {
     "data": {
      "text/plain": [
       "2"
      ]
     },
     "execution_count": 222,
     "metadata": {},
     "output_type": "execute_result"
    }
   ],
   "source": [
    "stack.count()"
   ]
  },
  {
   "cell_type": "code",
   "execution_count": null,
   "id": "352c87be-b13e-45d2-9c25-7eef829ce39f",
   "metadata": {},
   "outputs": [],
   "source": [
    "#Singleton pattern\n",
    "# in py memory allocation processing with method dudner __new__(cls) - static method "
   ]
  },
  {
   "cell_type": "code",
   "execution_count": 251,
   "id": "f480d448-e790-437c-96a7-04e929c442d2",
   "metadata": {},
   "outputs": [],
   "source": [
    "class Character():\n",
    "\n",
    "    _instance = None\n",
    "\n",
    "    def __new__(cls):# this is how object allocate memory in py \n",
    "        if not cls._instance:\n",
    "            cls._instance = super().__new__(cls)\n",
    "        return cls._instance\n",
    "\n",
    "    def __init__(self):\n",
    "        self.race = 'Elf'"
   ]
  },
  {
   "cell_type": "code",
   "execution_count": 253,
   "id": "551265b0-135d-4327-a7f3-f021897ea8f8",
   "metadata": {},
   "outputs": [
    {
     "data": {
      "text/plain": [
       "'Elf'"
      ]
     },
     "execution_count": 253,
     "metadata": {},
     "output_type": "execute_result"
    }
   ],
   "source": [
    "c1 = Character()\n",
    "c1.race"
   ]
  },
  {
   "cell_type": "code",
   "execution_count": 255,
   "id": "47cf608f-ebb1-464a-8d45-aef638edc746",
   "metadata": {},
   "outputs": [],
   "source": [
    "c2 = Character()\n",
    "c2.race = 'Human'\n"
   ]
  },
  {
   "cell_type": "code",
   "execution_count": 257,
   "id": "d1f02702-bcee-4a7d-9fe6-b4c164e50951",
   "metadata": {},
   "outputs": [
    {
     "data": {
      "text/plain": [
       "'Human'"
      ]
     },
     "execution_count": 257,
     "metadata": {},
     "output_type": "execute_result"
    }
   ],
   "source": [
    "c2.race\n"
   ]
  },
  {
   "cell_type": "code",
   "execution_count": 259,
   "id": "cbe228eb-660b-4905-a93d-1954b733e166",
   "metadata": {},
   "outputs": [
    {
     "data": {
      "text/plain": [
       "'Human'"
      ]
     },
     "execution_count": 259,
     "metadata": {},
     "output_type": "execute_result"
    }
   ],
   "source": [
    "c1.race"
   ]
  },
  {
   "cell_type": "code",
   "execution_count": 261,
   "id": "f5891837-202b-40fa-9463-1435a59da85b",
   "metadata": {},
   "outputs": [],
   "source": [
    "# now we always will reffering to single class instance"
   ]
  },
  {
   "cell_type": "code",
   "execution_count": null,
   "id": "4ed1e8da-2487-40a1-baa4-ae264c9a367e",
   "metadata": {},
   "outputs": [],
   "source": [
    "# data serializing\n",
    "# we will save state in a file and then we can restore this state from file - in py this calling pickle"
   ]
  },
  {
   "cell_type": "code",
   "execution_count": 269,
   "id": "192d9805-8f3d-4b94-878e-d167fc22a7a7",
   "metadata": {},
   "outputs": [],
   "source": [
    "class Character():\n",
    "    def __init__(self, race, damage = 10):\n",
    "        self.race = race\n",
    "        self.damage = damage\n",
    "        self.health = 100\n",
    "\n",
    "    def hit(self, damage):\n",
    "        self.health -=damage;\n",
    "\n",
    "    def is_dead(self):\n",
    "        return self.health == 0\n",
    "\n",
    "\n",
    "         "
   ]
  },
  {
   "cell_type": "code",
   "execution_count": 271,
   "id": "f558f90c-a860-4e9c-b59b-bfcdd6e83b83",
   "metadata": {},
   "outputs": [
    {
     "data": {
      "text/plain": [
       "80"
      ]
     },
     "execution_count": 271,
     "metadata": {},
     "output_type": "execute_result"
    }
   ],
   "source": [
    "c = Character('Elf')\n",
    "c.hit(20)\n",
    "c.health"
   ]
  },
  {
   "cell_type": "code",
   "execution_count": 273,
   "id": "5b071b35-c762-4a04-a3fc-54f1d79fa51d",
   "metadata": {},
   "outputs": [],
   "source": [
    "import pickle\n",
    "\n",
    "with open(r'/Users/stanislavkadyrov/Documents/python/game_state.bin','w+b') as f: #saving in directory\n",
    "    pickle.dump(c,f)"
   ]
  },
  {
   "cell_type": "code",
   "execution_count": 275,
   "id": "97eee673-7f29-4ecf-ad56-81ec736ef706",
   "metadata": {},
   "outputs": [
    {
     "name": "stdout",
     "output_type": "stream",
     "text": [
      "None\n"
     ]
    }
   ],
   "source": [
    "c = None\n",
    "print(c)\n"
   ]
  },
  {
   "cell_type": "code",
   "execution_count": 277,
   "id": "7fca8b9a-7ea7-4e3d-aaf6-36484ec26d1b",
   "metadata": {},
   "outputs": [
    {
     "name": "stdout",
     "output_type": "stream",
     "text": [
      "80\n"
     ]
    }
   ],
   "source": [
    "with open(r'/Users/stanislavkadyrov/Documents/python/game_state.bin','rb') as f:\n",
    "    c = pickle.load(f)\n",
    "print(c.health)"
   ]
  },
  {
   "cell_type": "code",
   "execution_count": null,
   "id": "a7cbfeb8-c245-4ae3-b6ca-c259b0434349",
   "metadata": {},
   "outputs": [],
   "source": [
    "#but if we will change class realisation somehow but after pickling we will have old realisation of class, init method will nt execute second time\n",
    "# but here dudnder methods will help us"
   ]
  },
  {
   "cell_type": "code",
   "execution_count": null,
   "id": "f20cd80b-37a6-4b2a-938b-b5263c863629",
   "metadata": {},
   "outputs": [],
   "source": [
    "class Character():\n",
    "    def __init__(self, race, armor, damage = 10):\n",
    "        self.race = race\n",
    "        self.armor = armor\n",
    "        self.damage = damage\n",
    "        self.health = 100\n",
    "\n",
    "    def hit(self, damage):\n",
    "        self.health -=damage;\n",
    "\n",
    "    def is_dead(self):\n",
    "        return self.health == 0\n",
    "\n",
    "    def __setstate__(self, state): # this will help us to have file up to date \n",
    "        self.race = state.get('race', 'Elf')\n",
    "        self.damage = state.get('damage', 10)\n",
    "        self.armor = state.get('armor', 20)\n",
    "        self.health = state.get('health', 100)\n",
    "\n"
   ]
  },
  {
   "cell_type": "code",
   "execution_count": null,
   "id": "b7223703-cfcf-4df7-89b9-8eb17a08c578",
   "metadata": {},
   "outputs": [],
   "source": [
    "#repr method\n"
   ]
  },
  {
   "cell_type": "code",
   "execution_count": 285,
   "id": "f03e2a37-1652-4ead-8652-a320b626a8b2",
   "metadata": {},
   "outputs": [
    {
     "data": {
      "text/plain": [
       "'[1, 2, 3]'"
      ]
     },
     "execution_count": 285,
     "metadata": {},
     "output_type": "execute_result"
    }
   ],
   "source": [
    "lst = [1,2,3]\n",
    "repr(lst) # will return reproduceble string representation - we can evaluate this, we have some meta info \n"
   ]
  },
  {
   "cell_type": "code",
   "execution_count": 287,
   "id": "f923d631-4033-43c0-a6c3-3a032b66d540",
   "metadata": {},
   "outputs": [
    {
     "name": "stdout",
     "output_type": "stream",
     "text": [
      "[1, 2, 3]\n"
     ]
    }
   ],
   "source": [
    "print(lst) # will use __str__ method to show the result in human readable format"
   ]
  },
  {
   "cell_type": "code",
   "execution_count": 289,
   "id": "4d2c9df7-091e-4a16-89cc-06cd61f1089d",
   "metadata": {},
   "outputs": [
    {
     "data": {
      "text/plain": [
       "True"
      ]
     },
     "execution_count": 289,
     "metadata": {},
     "output_type": "execute_result"
    }
   ],
   "source": [
    "eval(repr(lst)) == lst # eval run code whitch we pass into it"
   ]
  },
  {
   "cell_type": "code",
   "execution_count": null,
   "id": "c86bdb2e-a5de-45c2-852f-fec5883c656b",
   "metadata": {},
   "outputs": [],
   "source": [
    "# if class define dudner method __repr__ but not define __str__, with str calling will be called __repr__ instead, \n",
    "# but in ither direction this is not working"
   ]
  },
  {
   "cell_type": "code",
   "execution_count": 291,
   "id": "14e8df94-2d87-4246-a342-617c9c9850bb",
   "metadata": {},
   "outputs": [],
   "source": [
    "from datetime import datetime\n",
    "dt = datetime.now()\n"
   ]
  },
  {
   "cell_type": "code",
   "execution_count": 293,
   "id": "e37efbc1-a361-4480-829d-7caa54c24980",
   "metadata": {},
   "outputs": [
    {
     "data": {
      "text/plain": [
       "'datetime.datetime(2025, 4, 17, 12, 13, 32, 115004)'"
      ]
     },
     "execution_count": 293,
     "metadata": {},
     "output_type": "execute_result"
    }
   ],
   "source": [
    "repr(dt)\n"
   ]
  },
  {
   "cell_type": "code",
   "execution_count": 295,
   "id": "e55f3cc6-1d0a-4f16-a9b4-2f57fe9377fa",
   "metadata": {},
   "outputs": [
    {
     "name": "stdout",
     "output_type": "stream",
     "text": [
      "2025-04-17 12:13:32.115004\n"
     ]
    }
   ],
   "source": [
    "print(dt)"
   ]
  },
  {
   "cell_type": "code",
   "execution_count": null,
   "id": "a3bc3778-35da-4a87-994c-21c5a286b668",
   "metadata": {},
   "outputs": [],
   "source": [
    "#here we can see the difference between them"
   ]
  },
  {
   "cell_type": "code",
   "execution_count": 297,
   "id": "abdef8b2-b0f3-44e3-8043-3f89a0ddbeee",
   "metadata": {},
   "outputs": [],
   "source": [
    "#eq method"
   ]
  },
  {
   "cell_type": "code",
   "execution_count": 299,
   "id": "4b448971-9e1c-4f20-8c45-eef53a222224",
   "metadata": {},
   "outputs": [],
   "source": [
    "#if we will compare two objects and we do not have __eq__ method defined - base eq will check the links for those obkects"
   ]
  },
  {
   "cell_type": "code",
   "execution_count": 303,
   "id": "086127c0-4e90-419f-b3a2-d555c7a7520c",
   "metadata": {},
   "outputs": [],
   "source": [
    "class Character():\n",
    "    def __init__(self, race, damage = 10):\n",
    "        self.race = race\n",
    "        self.damage = damage\n",
    "\n",
    "    def __repr__(self):\n",
    "        return f\"Character('{self.race}', {self.damage})\"\n",
    "\n",
    "    def str(self):\n",
    "        return f\"{self.race}, with damage: {self.damage})\"\n",
    "\n",
    "    def __eq__(self, other):\n",
    "        if isinstance(other, Character):\n",
    "            return self.race == other.race and self.damage == other.damage\n",
    "        return False\n"
   ]
  },
  {
   "cell_type": "code",
   "execution_count": 305,
   "id": "825da3ea-df00-4d03-87c9-4894210685df",
   "metadata": {},
   "outputs": [
    {
     "name": "stdout",
     "output_type": "stream",
     "text": [
      "Character('Elf', 10)\n"
     ]
    }
   ],
   "source": [
    "c = Character('Elf')\n",
    "print(c)"
   ]
  },
  {
   "cell_type": "code",
   "execution_count": 307,
   "id": "9aeadc68-070c-419f-97a6-ff6f9f429652",
   "metadata": {},
   "outputs": [],
   "source": [
    "d = eval(repr(c))"
   ]
  },
  {
   "cell_type": "code",
   "execution_count": 309,
   "id": "8b98c89d-75ab-4220-a596-35bd4c496b03",
   "metadata": {},
   "outputs": [
    {
     "data": {
      "text/plain": [
       "True"
      ]
     },
     "execution_count": 309,
     "metadata": {},
     "output_type": "execute_result"
    }
   ],
   "source": [
    "c == d"
   ]
  },
  {
   "cell_type": "code",
   "execution_count": 311,
   "id": "584323f6-ae03-4fc1-87fb-7c5814ef6153",
   "metadata": {},
   "outputs": [],
   "source": [
    "# here we defined ourself eq"
   ]
  },
  {
   "cell_type": "code",
   "execution_count": null,
   "id": "3e5ff8ae-2785-437d-930e-fbd5554aa48f",
   "metadata": {},
   "outputs": [],
   "source": [
    "#Deep copy and shallow copy"
   ]
  },
  {
   "cell_type": "code",
   "execution_count": 320,
   "id": "f7625b06-801e-4ebe-a716-ff4d5b35ccfe",
   "metadata": {},
   "outputs": [
    {
     "name": "stdout",
     "output_type": "stream",
     "text": [
      "[1, 2, 3, [4, 5, 6, 7]]\n",
      "[1, 2, 3, [4, 5, 6, 7]]\n"
     ]
    }
   ],
   "source": [
    "list1 = [1,2,3,[4,5,6]]\n",
    "copiedList = list1.copy()\n",
    "copiedList[3].append(7)\n",
    "\n",
    "print(list1)\n",
    "print(copiedList) # so here we will have a reference but not a new obj so 7 will be added in both arrays"
   ]
  },
  {
   "cell_type": "code",
   "execution_count": null,
   "id": "b028d8d6-a392-416a-930e-c5ed5f06122f",
   "metadata": {},
   "outputs": [],
   "source": [
    "import copy"
   ]
  },
  {
   "cell_type": "code",
   "execution_count": 326,
   "id": "017a57e3-c863-4aa8-a314-2463dd18ae77",
   "metadata": {},
   "outputs": [
    {
     "name": "stdout",
     "output_type": "stream",
     "text": [
      "[1, 2, 3, [4, 5, 6, 7, 8, 8]]\n",
      "[1, 2, 3, [4, 5, 6, 7, 8, 8]]\n",
      "[1, 2, 3, [4, 5, 6, 7, 8, 8, 9]]\n"
     ]
    }
   ],
   "source": [
    "shallow_copy = copy.copy(list1)\n",
    "shallow_copy[3].append(8)\n",
    "print(shallow_copy)\n",
    "deep_copy = copy.deepcopy(list1)\n",
    "deep_copy[3].append(9)\n",
    "print(shallow_copy)\n",
    "\n",
    "print(deep_copy) # now we will be adding only in one array"
   ]
  },
  {
   "cell_type": "code",
   "execution_count": null,
   "id": "b373ea4d-744f-461c-bdd4-6dfba3d53367",
   "metadata": {},
   "outputs": [],
   "source": [
    "#Lets define ourself copy and deepcopy"
   ]
  },
  {
   "cell_type": "code",
   "execution_count": null,
   "id": "0302ce95-bc73-434b-a2e5-3f25736a4b0d",
   "metadata": {},
   "outputs": [],
   "source": [
    "class Point():\n",
    "    def __init__(self, x,y):\n",
    "        self.x = x\n",
    "        se;f.y = y\n",
    "\n",
    "    def __repr__(self):\n",
    "        return f\"Point({self.x}, {self,y})\""
   ]
  },
  {
   "cell_type": "code",
   "execution_count": 332,
   "id": "b7d2e905-321d-4979-bd29-8c819e06707e",
   "metadata": {},
   "outputs": [],
   "source": [
    "class Line(): \n",
    "    def __init__(self, p1, p2):\n",
    "        self.p1 = p1\n",
    "        self.p2 = p2\n",
    "\n",
    "    def __copy__(self):\n",
    "        cls = self.__class__\n",
    "        result = cls.__new__(cls) # create new inctance\n",
    "        result.__dict__.update(self.__dict__) # update dictionary(key-value pairs)\n",
    "        return result\n",
    "        \n",
    "    def __deepcopy__(self, memo):\n",
    "        cls = self.__class__\n",
    "        result = cls.__new__(cls) # create new inctance\n",
    "        memo [id(self)] = result # memoise link to prevent infifnite loop\n",
    "        for k,v in self.__dict__.items():\n",
    "            setattr(result, k, copy.deepcopy(v, memo))# deepcopy is checking that we already have this id and will pass this item\n",
    "        return result"
   ]
  },
  {
   "cell_type": "code",
   "execution_count": 344,
   "id": "d65e94d9-c7e3-4e32-b31d-3fbd8f2a8a19",
   "metadata": {},
   "outputs": [],
   "source": [
    "##ENUMS - powerful instrument"
   ]
  },
  {
   "cell_type": "code",
   "execution_count": 346,
   "id": "de559928-b187-410e-89c5-025a98e5ac46",
   "metadata": {},
   "outputs": [],
   "source": [
    "from enum import Enum"
   ]
  },
  {
   "cell_type": "code",
   "execution_count": 348,
   "id": "da133fe7-1393-4323-a836-ff4eb8907b1f",
   "metadata": {},
   "outputs": [],
   "source": [
    "class TrafficLight(Enum):\n",
    "    RED = 1\n",
    "    YELLOW = 2\n",
    "    GREEN = 3\n",
    " "
   ]
  },
  {
   "cell_type": "code",
   "execution_count": 350,
   "id": "86ce0506-51cb-46db-acbe-c2ec0570810c",
   "metadata": {},
   "outputs": [
    {
     "name": "stdout",
     "output_type": "stream",
     "text": [
      "TrafficLight.RED\n",
      "TrafficLight.YELLOW\n",
      "TrafficLight.GREEN\n"
     ]
    }
   ],
   "source": [
    "for i in TrafficLight:\n",
    "    print(i)"
   ]
  },
  {
   "cell_type": "code",
   "execution_count": 352,
   "id": "8b1d920d-8938-48e8-b885-f1cd9b36e1b1",
   "metadata": {},
   "outputs": [
    {
     "name": "stdout",
     "output_type": "stream",
     "text": [
      "RED\n"
     ]
    }
   ],
   "source": [
    " print(TrafficLight.RED.name)"
   ]
  },
  {
   "cell_type": "code",
   "execution_count": 354,
   "id": "9f5de5a4-b86f-42d4-84c3-9f4c7760d3ff",
   "metadata": {},
   "outputs": [
    {
     "name": "stdout",
     "output_type": "stream",
     "text": [
      "TrafficLight.RED\n"
     ]
    }
   ],
   "source": [
    "print(TrafficLight(1))"
   ]
  },
  {
   "cell_type": "code",
   "execution_count": 356,
   "id": "c41707b3-4bb5-4b5f-90ca-789c5264d26e",
   "metadata": {},
   "outputs": [
    {
     "name": "stdout",
     "output_type": "stream",
     "text": [
      "TrafficLight.RED\n"
     ]
    }
   ],
   "source": [
    "print(TrafficLight['RED'])"
   ]
  },
  {
   "cell_type": "code",
   "execution_count": 358,
   "id": "45dc7dad-1a5c-4097-a91e-a1f5bc0f9451",
   "metadata": {},
   "outputs": [
    {
     "name": "stdout",
     "output_type": "stream",
     "text": [
      "1\n"
     ]
    }
   ],
   "source": [
    " print(TrafficLight.RED.value)"
   ]
  },
  {
   "cell_type": "code",
   "execution_count": 372,
   "id": "fa99155f-5254-416a-a196-537606a94652",
   "metadata": {},
   "outputs": [],
   "source": [
    "import json"
   ]
  },
  {
   "cell_type": "code",
   "execution_count": 374,
   "id": "e92f538b-90ae-4297-8dc2-b09f5b8d9e84",
   "metadata": {},
   "outputs": [],
   "source": [
    "class Tournament:\n",
    "    def __init__(self, name, year):\n",
    "        self.name = name\n",
    "        self.year = year\n",
    "        "
   ]
  },
  {
   "cell_type": "code",
   "execution_count": 398,
   "id": "8412b1d7-272e-4b00-b574-03233005a450",
   "metadata": {},
   "outputs": [
    {
     "name": "stdout",
     "output_type": "stream",
     "text": [
      "{\n",
      "  \"FIDE1\": 2018,\n",
      "  \"FIDE2\": 2019\n",
      "}\n",
      "<class 'dict'>\n"
     ]
    }
   ],
   "source": [
    "tournaments = {\n",
    "    'FIDE1': 2018,\n",
    "    'FIDE2': 2019,\n",
    "}\n",
    "\n",
    "json_data = json.dumps(tournaments, indent = 2)# process serialization\n",
    "print(json_data)\n",
    "\n",
    "loaded = json.loads(json_data) # process deserialization\n",
    "print(type(loaded))\n",
    "\n",
    "\n"
   ]
  },
  {
   "cell_type": "code",
   "execution_count": 428,
   "id": "951111fb-569f-461a-a569-c74bd583fb0c",
   "metadata": {},
   "outputs": [],
   "source": [
    "import random\n",
    "def randoms(min, max, n):\n",
    "    return [random.randint(min,max) for _ in range(n)]"
   ]
  },
  {
   "cell_type": "code",
   "execution_count": 430,
   "id": "abb9ea8d",
   "metadata": {},
   "outputs": [],
   "source": [
    "## Generators functions"
   ]
  },
  {
   "cell_type": "code",
   "execution_count": 432,
   "id": "ac6ed41f-ae13-42fa-98c5-60ed339d446c",
   "metadata": {},
   "outputs": [
    {
     "name": "stdout",
     "output_type": "stream",
     "text": [
      "28\n",
      "22\n",
      "13\n",
      "12\n",
      "16\n"
     ]
    }
   ],
   "source": [
    "for r in randoms(10,30, 5):\n",
    "    print(r)"
   ]
  },
  {
   "cell_type": "code",
   "execution_count": 434,
   "id": "b336fa50-1fe8-4159-8cb3-dda45b3a993c",
   "metadata": {},
   "outputs": [],
   "source": [
    "#Problem right now that we have all randoms results with this items in memory whole time fom the begining"
   ]
  },
  {
   "cell_type": "code",
   "execution_count": 436,
   "id": "a0174fe0-18f4-4476-920e-faab380a1f59",
   "metadata": {},
   "outputs": [],
   "source": [
    "# lets rewrite with generators\n",
    "def randoms(min, max, n):\n",
    "    for i in range(n):\n",
    "        yield random.randint(min,max)"
   ]
  },
  {
   "cell_type": "code",
   "execution_count": 438,
   "id": "1e1ced5c-ef30-4317-b0ce-0c65c3aaa881",
   "metadata": {},
   "outputs": [
    {
     "name": "stdout",
     "output_type": "stream",
     "text": [
      "17\n",
      "14\n",
      "17\n",
      "15\n",
      "25\n"
     ]
    }
   ],
   "source": [
    "for r in randoms(10,30,5):\n",
    "    print(r)"
   ]
  },
  {
   "cell_type": "code",
   "execution_count": null,
   "id": "9a69d8b7-15fb-4daa-b6d3-ced8fb90ecf9",
   "metadata": {},
   "outputs": [],
   "source": [
    "#here we're using lazy evaluation, we're executing one by one on every iteration\n"
   ]
  },
  {
   "cell_type": "code",
   "execution_count": null,
   "id": "9be12375-8a40-47d2-8afa-d962e6f802b1",
   "metadata": {},
   "outputs": [],
   "source": [
    "#we can run with generator only once, then you need to recreate generator\n",
    "#if we need to run throughtout it again - you need to put result in a list"
   ]
  },
  {
   "cell_type": "code",
   "execution_count": 442,
   "id": "95934f13-fb4a-4c40-90fd-98b50972178c",
   "metadata": {},
   "outputs": [
    {
     "name": "stdout",
     "output_type": "stream",
     "text": [
      "[3, 2, 8, 10, 2]\n"
     ]
    }
   ],
   "source": [
    "import itertools\n",
    "\n",
    "rand_seq = randoms(1,10,10)\n",
    "\n",
    "five_taken = list(itertools.islice(rand_seq, 5))\n",
    "print(five_taken)"
   ]
  },
  {
   "cell_type": "code",
   "execution_count": null,
   "id": "d0dfaca8-7563-4508-9b28-412d53d029df",
   "metadata": {},
   "outputs": [],
   "source": [
    "#useful if we have big sequence(file, created sequence)"
   ]
  },
  {
   "cell_type": "code",
   "execution_count": null,
   "id": "e56c1077-b45d-4a0c-b5c7-f4fc66169f4c",
   "metadata": {},
   "outputs": [],
   "source": [
    "#Module Itertools"
   ]
  },
  {
   "cell_type": "code",
   "execution_count": 444,
   "id": "d5db4188-6b16-4958-b788-1b6f26d0372a",
   "metadata": {},
   "outputs": [],
   "source": [
    "#All generators are iterators, but not all iterators are generators. "
   ]
  },
  {
   "cell_type": "code",
   "execution_count": 450,
   "id": "05c66803-3c67-4365-8621-5832d94a6580",
   "metadata": {},
   "outputs": [],
   "source": [
    "\n",
    "\n",
    "#Iteration is a general term for taking each item of something, one after another. Any time you use a loop, explicit or implicit, to go over a group of items, that is iteration.\n",
    "\n",
    "#In Python, iterable and iterator have specific meanings.\n",
    "\n",
    "#An iterable is an object that has an __iter__ method which returns an iterator, or which defines a __getitem__ method that can take sequential indexes starting from zero (and raises an IndexError when the indexes are no longer valid). So an iterable is an object that you can get an iterator from.\n",
    "\n",
    "#An iterator is an object with a next (Python 2) or __next__ (Python 3) method.\n",
    "\n",
    "#Whenever you use a for loop, or map, or a list comprehension, etc. in Python, the next method is called automatically to get each item from the iterator, thus going through the process of iteration.\n",
    "\n"
   ]
  },
  {
   "cell_type": "code",
   "execution_count": 460,
   "id": "915de75e-746c-430b-9942-ec81675b6832",
   "metadata": {},
   "outputs": [
    {
     "name": "stdout",
     "output_type": "stream",
     "text": [
      "<class 'list_iterator'>\n",
      "1\n"
     ]
    }
   ],
   "source": [
    "iterable = [1,2,3]\n",
    "iterator = iter(iterable) #__iter__ method which returns an iterator will be called\n",
    "print(type(iterator))\n",
    "\n",
    "print(next(iterator)) #  __next__ method which will be called"
   ]
  },
  {
   "cell_type": "code",
   "execution_count": 462,
   "id": "ac6bc55e-60c5-4a75-bf76-7bc467990c60",
   "metadata": {},
   "outputs": [],
   "source": [
    "import itertools as it\n"
   ]
  },
  {
   "cell_type": "code",
   "execution_count": 464,
   "id": "dfb54f58-014c-4f4b-95e4-2f21d6e50792",
   "metadata": {},
   "outputs": [
    {
     "name": "stdout",
     "output_type": "stream",
     "text": [
      "[0, 2, 4, 6, 8]\n"
     ]
    }
   ],
   "source": [
    "even_nums = [x for x in range(10) if x%2 == 0] # here we're not using lazy evaluation\n",
    "print(even_nums)"
   ]
  },
  {
   "cell_type": "code",
   "execution_count": 466,
   "id": "59614e5c-da46-4540-8893-1af18a4aaec3",
   "metadata": {},
   "outputs": [
    {
     "data": {
      "text/plain": [
       "count(0, 2)"
      ]
     },
     "execution_count": 466,
     "metadata": {},
     "output_type": "execute_result"
    }
   ],
   "source": [
    "even_nums = it.count(0,2)\n",
    "even_nums"
   ]
  },
  {
   "cell_type": "code",
   "execution_count": 468,
   "id": "337b1ec6-b3fe-4951-ac3f-242dd7582fb4",
   "metadata": {},
   "outputs": [
    {
     "data": {
      "text/plain": [
       "[0, 2, 4, 6, 8]"
      ]
     },
     "execution_count": 468,
     "metadata": {},
     "output_type": "execute_result"
    }
   ],
   "source": [
    "list(next(even_nums) for _ in range(5)) # here we're using lazy evaluation with generators and next method"
   ]
  },
  {
   "cell_type": "code",
   "execution_count": 472,
   "id": "8a706b14-b94a-470f-85bc-e70b10ee812e",
   "metadata": {},
   "outputs": [
    {
     "data": {
      "text/plain": [
       "[(0, 'a'), (1, 'b'), (2, 'c')]"
      ]
     },
     "execution_count": 472,
     "metadata": {},
     "output_type": "execute_result"
    }
   ],
   "source": [
    "list(zip(it.count(), ['a', 'b', 'c']))"
   ]
  },
  {
   "cell_type": "code",
   "execution_count": 474,
   "id": "b60b135b-710c-4107-af51-dfbaa5aa4571",
   "metadata": {},
   "outputs": [],
   "source": [
    "def print_iterable(iterable, end = None):\n",
    "    for x in iterable:\n",
    "        if end:\n",
    "            print(x, end = end)\n",
    "        else:\n",
    "            print(x)\n"
   ]
  },
  {
   "cell_type": "code",
   "execution_count": 476,
   "id": "12febe89-1f21-4d63-9a1e-e476440ed5d4",
   "metadata": {},
   "outputs": [
    {
     "name": "stdout",
     "output_type": "stream",
     "text": [
      "1 1 1 1 1 "
     ]
    }
   ],
   "source": [
    "ones = it.repeat(1,5)\n",
    "print_iterable(ones, ' ')"
   ]
  },
  {
   "cell_type": "code",
   "execution_count": null,
   "id": "4ad2d23c-f4ba-4425-8e8a-46e92c38075c",
   "metadata": {},
   "outputs": [],
   "source": [
    "#if we need to create seq of repeatable elems, we can use cycle"
   ]
  },
  {
   "cell_type": "code",
   "execution_count": 478,
   "id": "fc2c1273-92bd-4ebc-8980-fff630cb1883",
   "metadata": {},
   "outputs": [
    {
     "name": "stdout",
     "output_type": "stream",
     "text": [
      "[1, -1, 1, -1, 1, -1, 1, -1, 1, -1]\n"
     ]
    }
   ],
   "source": [
    "pos_neg_ones = it.cycle([1, -1])\n",
    "print(list(next(pos_neg_ones) for _ in range(10)))"
   ]
  },
  {
   "cell_type": "code",
   "execution_count": null,
   "id": "5b228677-77f2-458b-89ee-60b4541b74f1",
   "metadata": {},
   "outputs": [],
   "source": [
    "#accumulate"
   ]
  },
  {
   "cell_type": "code",
   "execution_count": 480,
   "id": "9fd4e29c-236b-4de4-991a-0ede2a293b86",
   "metadata": {},
   "outputs": [
    {
     "data": {
      "text/plain": [
       "[1, 3, 6, 10, 15, 21, 28]"
      ]
     },
     "execution_count": 480,
     "metadata": {},
     "output_type": "execute_result"
    }
   ],
   "source": [
    "list(it.accumulate([1,2,3,4,5,6,7])) #accumulate one-by-one or we can pass custom foo"
   ]
  },
  {
   "cell_type": "code",
   "execution_count": null,
   "id": "8eb8c710-3c04-4ee7-9b27-27777233b547",
   "metadata": {},
   "outputs": [],
   "source": [
    "#chain"
   ]
  },
  {
   "cell_type": "code",
   "execution_count": 484,
   "id": "d0744784-a1ea-4437-ba17-7f4632b1dcc1",
   "metadata": {},
   "outputs": [
    {
     "data": {
      "text/plain": [
       "['A', 'B', 'C', 'D', 'E', 'F']"
      ]
     },
     "execution_count": 484,
     "metadata": {},
     "output_type": "execute_result"
    }
   ],
   "source": [
    "list(it.chain('ABC', 'DEF')) #represent seq of elems one by one"
   ]
  },
  {
   "cell_type": "code",
   "execution_count": null,
   "id": "5d752dc6-4348-40e1-a243-9ad7648cd97e",
   "metadata": {},
   "outputs": [],
   "source": [
    "#dropwhile"
   ]
  },
  {
   "cell_type": "code",
   "execution_count": 486,
   "id": "2df0ebe5-91eb-49ed-9eca-06426efe456c",
   "metadata": {},
   "outputs": [
    {
     "data": {
      "text/plain": [
       "[3, 4, 5, 6, 7]"
      ]
     },
     "execution_count": 486,
     "metadata": {},
     "output_type": "execute_result"
    }
   ],
   "source": [
    "list(it.dropwhile(lambda x: x<3, [1,2,3,4,5,6,7]))"
   ]
  },
  {
   "cell_type": "code",
   "execution_count": null,
   "id": "5b1981f3-aaac-40b5-875b-cd016a56ffef",
   "metadata": {},
   "outputs": [],
   "source": [
    "#filterfalse"
   ]
  },
  {
   "cell_type": "code",
   "execution_count": 488,
   "id": "05b4f8ca-2c9b-4901-a6b5-b9d3a63a47cb",
   "metadata": {},
   "outputs": [
    {
     "data": {
      "text/plain": [
       "[0, 2, 4, 6, 8]"
      ]
     },
     "execution_count": 488,
     "metadata": {},
     "output_type": "execute_result"
    }
   ],
   "source": [
    "list(it.filterfalse(lambda x: x%2, range(10)))"
   ]
  },
  {
   "cell_type": "code",
   "execution_count": null,
   "id": "bd3d4e53-9106-4663-9b90-321b7e4b54aa",
   "metadata": {},
   "outputs": [],
   "source": [
    "#zip_longest"
   ]
  },
  {
   "cell_type": "code",
   "execution_count": 495,
   "id": "0665abfd-ba75-4d0e-9165-e6e81ce5a38e",
   "metadata": {},
   "outputs": [],
   "source": [
    "names = ['post', 'drake', 'billie', 'monetochka']\n",
    "dates = [11, 20, 21]\n",
    "\n",
    "players1 = dict(zip(names, dates)) # will cut off last one in lingest seq\n",
    "players2 = dict(it.zip_longest(names, dates)) # will put None in pair with last one in lingest seq"
   ]
  },
  {
   "cell_type": "code",
   "execution_count": 497,
   "id": "c3b51643-69b7-4606-b975-7d1f1f94a1e6",
   "metadata": {},
   "outputs": [
    {
     "data": {
      "text/plain": [
       "{'post': 11, 'drake': 20, 'billie': 21}"
      ]
     },
     "execution_count": 497,
     "metadata": {},
     "output_type": "execute_result"
    }
   ],
   "source": [
    "players1"
   ]
  },
  {
   "cell_type": "code",
   "execution_count": 499,
   "id": "938d92cd-2d8f-4e88-ad41-0290ce44540e",
   "metadata": {},
   "outputs": [
    {
     "data": {
      "text/plain": [
       "{'post': 11, 'drake': 20, 'billie': 21, 'monetochka': None}"
      ]
     },
     "execution_count": 499,
     "metadata": {},
     "output_type": "execute_result"
    }
   ],
   "source": [
    "players2"
   ]
  },
  {
   "cell_type": "code",
   "execution_count": 503,
   "id": "170a2528-6332-4424-8ef4-3d13b09df1f5",
   "metadata": {},
   "outputs": [
    {
     "data": {
      "text/plain": [
       "{'post': 11, 'drake': 20, 'billie': 21, 'monetochka': 1}"
      ]
     },
     "execution_count": 503,
     "metadata": {},
     "output_type": "execute_result"
    }
   ],
   "source": [
    "players2 = dict(it.zip_longest(names, dates, fillvalue = 1))# with fillvalue we can pass default param\n",
    "players2"
   ]
  },
  {
   "cell_type": "code",
   "execution_count": null,
   "id": "bed4b036-c0ad-4e62-a7a9-72bd8f4cafe1",
   "metadata": {},
   "outputs": [],
   "source": [
    "#groupby()"
   ]
  },
  {
   "cell_type": "code",
   "execution_count": null,
   "id": "edaaf93c-2be5-4b2a-b1f1-35a4119c63cc",
   "metadata": {},
   "outputs": [],
   "source": [
    "#islice"
   ]
  },
  {
   "cell_type": "code",
   "execution_count": 509,
   "id": "f0a92f05-18cb-4d5a-b17c-b4ef95f80715",
   "metadata": {},
   "outputs": [
    {
     "name": "stdout",
     "output_type": "stream",
     "text": [
      "[0, 2, 4, 6, 8, 10, 12, 14, 16, 18]\n",
      "[4, 8, 12, 16]\n"
     ]
    }
   ],
   "source": [
    "even_nums = it.count(0,2)\n",
    "print([x for x in range(20) if x%2 ==0])\n",
    "\n",
    "print(list(it.islice(even_nums, 2, 10 ,2)))"
   ]
  },
  {
   "cell_type": "code",
   "execution_count": null,
   "id": "25b1bb09-b5ce-40f6-9519-9b68d8d8044a",
   "metadata": {},
   "outputs": [],
   "source": [
    "#permutations"
   ]
  },
  {
   "cell_type": "code",
   "execution_count": null,
   "id": "ec4e6723-b298-424e-a443-7f5b5d356d21",
   "metadata": {},
   "outputs": [],
   "source": [
    "#product"
   ]
  }
 ],
 "metadata": {
  "kernelspec": {
   "display_name": "Python 3",
   "language": "python",
   "name": "python3"
  },
  "language_info": {
   "codemirror_mode": {
    "name": "ipython",
    "version": 3
   },
   "file_extension": ".py",
   "mimetype": "text/x-python",
   "name": "python",
   "nbconvert_exporter": "python",
   "pygments_lexer": "ipython3",
   "version": "3.13.2"
  }
 },
 "nbformat": 4,
 "nbformat_minor": 5
}
