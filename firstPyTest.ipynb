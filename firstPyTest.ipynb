{
 "cells": [
  {
   "cell_type": "code",
   "execution_count": 1,
   "id": "63430c92-a01c-4f1b-8a86-8e635b8ee4b5",
   "metadata": {},
   "outputs": [
    {
     "name": "stdout",
     "output_type": "stream",
     "text": [
      "Hello world\n"
     ]
    }
   ],
   "source": [
    "print('Hello world')"
   ]
  },
  {
   "cell_type": "code",
   "execution_count": 2,
   "id": "df468a36-e029-4147-80b2-ada0a124cde3",
   "metadata": {},
   "outputs": [
    {
     "data": {
      "text/plain": [
       "12"
      ]
     },
     "execution_count": 2,
     "metadata": {},
     "output_type": "execute_result"
    }
   ],
   "source": [
    "2*6"
   ]
  },
  {
   "cell_type": "code",
   "execution_count": 3,
   "id": "8a7686de-1c23-4a3d-a8fb-63bfe79ec798",
   "metadata": {},
   "outputs": [
    {
     "data": {
      "text/plain": [
       "12.0"
      ]
     },
     "execution_count": 3,
     "metadata": {},
     "output_type": "execute_result"
    }
   ],
   "source": [
    "24/2"
   ]
  },
  {
   "cell_type": "code",
   "execution_count": 4,
   "id": "12b07ec8-47f2-43d9-8094-b1b1aee35081",
   "metadata": {},
   "outputs": [
    {
     "data": {
      "text/plain": [
       "12"
      ]
     },
     "execution_count": 4,
     "metadata": {},
     "output_type": "execute_result"
    }
   ],
   "source": [
    "2**3+4"
   ]
  },
  {
   "cell_type": "code",
   "execution_count": 5,
   "id": "964c03d2-04a1-4834-b023-95ea696a36f0",
   "metadata": {},
   "outputs": [],
   "source": [
    "name = 'John Snow'\n",
    "age = 29"
   ]
  },
  {
   "cell_type": "code",
   "execution_count": 6,
   "id": "7ba92338-ef47-4ba3-821f-074418fc69fb",
   "metadata": {},
   "outputs": [
    {
     "name": "stdout",
     "output_type": "stream",
     "text": [
      "John Snow 29\n"
     ]
    }
   ],
   "source": [
    "print(name, age)"
   ]
  },
  {
   "cell_type": "code",
   "execution_count": 7,
   "id": "eee083de-378a-4dc8-8009-07bbf8515eee",
   "metadata": {},
   "outputs": [
    {
     "data": {
      "text/plain": [
       "'/Users/stanislavkadyrov/Documents/python'"
      ]
     },
     "execution_count": 7,
     "metadata": {},
     "output_type": "execute_result"
    }
   ],
   "source": [
    "pwd"
   ]
  },
  {
   "cell_type": "code",
   "execution_count": 8,
   "id": "ee185974-2c97-48ab-9451-8796a55ce533",
   "metadata": {},
   "outputs": [
    {
     "name": "stdout",
     "output_type": "stream",
     "text": [
      "lol, working\n"
     ]
    }
   ],
   "source": [
    "with open('file.txt', mode='w+') as file:\n",
    "    file.write('lol, working');\n",
    "    file.seek(0);\n",
    "    data = file.read();\n",
    "    print(data);"
   ]
  },
  {
   "cell_type": "code",
   "execution_count": 17,
   "id": "603412ac-237d-41b0-9719-44da4c054680",
   "metadata": {},
   "outputs": [
    {
     "data": {
      "text/plain": [
       "'utf-8'"
      ]
     },
     "execution_count": 17,
     "metadata": {},
     "output_type": "execute_result"
    }
   ],
   "source": [
    "import sys\n",
    "sys.getdefaultencoding()"
   ]
  },
  {
   "cell_type": "code",
   "execution_count": 19,
   "id": "cf8cdf9b-bd1c-44be-96b8-957c1b0284bb",
   "metadata": {},
   "outputs": [
    {
     "data": {
      "text/plain": [
       "97"
      ]
     },
     "execution_count": 19,
     "metadata": {},
     "output_type": "execute_result"
    }
   ],
   "source": [
    "ord('a)"
   ]
  },
  {
   "cell_type": "code",
   "execution_count": 21,
   "id": "87763360-c562-4401-a3b4-339290caa44c",
   "metadata": {},
   "outputs": [
    {
     "data": {
      "text/plain": [
       "'Ń'"
      ]
     },
     "execution_count": 21,
     "metadata": {},
     "output_type": "execute_result"
    }
   ],
   "source": [
    "chr(323)\n"
   ]
  },
  {
   "cell_type": "code",
   "execution_count": 172,
   "id": "b34d82b7-7b23-4ebf-8236-e0e8731b4dbb",
   "metadata": {},
   "outputs": [
    {
     "name": "stdout",
     "output_type": "stream",
     "text": [
      "Attempt 1, Type a num 2\n"
     ]
    },
    {
     "name": "stdout",
     "output_type": "stream",
     "text": [
      "Yoy should try bigger num\n"
     ]
    },
    {
     "name": "stdout",
     "output_type": "stream",
     "text": [
      "Attempt 2, Type a num 2\n"
     ]
    },
    {
     "name": "stdout",
     "output_type": "stream",
     "text": [
      "Yoy should try bigger num\n"
     ]
    },
    {
     "name": "stdout",
     "output_type": "stream",
     "text": [
      "Attempt 3, Type a num 5\n"
     ]
    },
    {
     "name": "stdout",
     "output_type": "stream",
     "text": [
      "Hey, you score!\n"
     ]
    }
   ],
   "source": [
    "def guessNum():\n",
    "    secretNum = random.randint(1,10);\n",
    "    attempts = 6;\n",
    "\n",
    "    for attempt in range(1, attempts +1): \n",
    "        try: \n",
    "            guess = int(input(f'Attempt {attempt}, Type a num'))\n",
    "            if guess == secretNum:\n",
    "                print('Hey, you score!');\n",
    "                return\n",
    "            hint = 'bigger' if guess < secretNum else 'smaller'\n",
    "            print(f'Yoy should try {hint} num')\n",
    "        except ValueError:\n",
    "            print('You should use integral num')\n",
    "    print(f'You used all tryes, num was {secretNum}')\n",
    "\n",
    "guessNum();"
   ]
  },
  {
   "cell_type": "code",
   "execution_count": null,
   "id": "5fa452b8-9b5b-4138-9811-1c011bd426c0",
   "metadata": {},
   "outputs": [],
   "source": [
    "def sticks_game():\n",
    "    print(\"Добро пожаловать в игру 'Игра в палочки'!\")\n",
    "    \n",
    "    # Запрос начального количества палочек\n",
    "    total_sticks = int(input(\"Введите количество палочек (по умолчанию 10): \") or 10)\n",
    "    \n",
    "    # Запрос имен игроков\n",
    "    player1 = input(\"Введите имя первого игрока: \") or \"Игрок 1\"\n",
    "    player2 = input(\"Введите имя второго игрока: \") or \"Игрок 2\"\n",
    "    \n",
    "    players = [player1, player2]  # Очередность игроков\n",
    "    turn = 0  # Индекс текущего игрока\n",
    "\n",
    "    while total_sticks > 0:\n",
    "        print(f\"\\nПалочек осталось: {total_sticks}\")\n",
    "        \n",
    "        # Запрос хода\n",
    "        try:\n",
    "            taken = int(input(f\"{players[turn]}, сколько палочек вы берёте? (1-3): \"))\n",
    "            \n",
    "            if taken not in [1, 2, 3]:\n",
    "                print(\"Можно брать только 1, 2 или 3 палочки!\")\n",
    "                continue\n",
    "            if taken > total_sticks:\n",
    "                print(\"Нельзя взять больше палочек, чем осталось!\")\n",
    "                continue\n",
    "            \n",
    "            total_sticks -= taken  # Уменьшаем количество палочек\n",
    "            \n",
    "            if total_sticks == 0:\n",
    "                print(f\"\\n{players[turn]} взял последние палочки и проиграл! Победил {players[1 - turn]}!\")\n",
    "                break\n",
    "\n",
    "            turn = 1 - turn  # Меняем игрока\n",
    "\n",
    "        except ValueError:\n",
    "            print(\"Ошибка! Введите число от 1 до 3.\")\n",
    "\n",
    "sticks_game()\n",
    "    "
   ]
  }
 ],
 "metadata": {
  "kernelspec": {
   "display_name": "Python [conda env:base] *",
   "language": "python",
   "name": "conda-base-py"
  },
  "language_info": {
   "codemirror_mode": {
    "name": "ipython",
    "version": 3
   },
   "file_extension": ".py",
   "mimetype": "text/x-python",
   "name": "python",
   "nbconvert_exporter": "python",
   "pygments_lexer": "ipython3",
   "version": "3.12.7"
  }
 },
 "nbformat": 4,
 "nbformat_minor": 5
}
