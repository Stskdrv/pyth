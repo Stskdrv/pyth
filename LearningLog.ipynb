{
 "cells": [
  {
   "cell_type": "markdown",
   "id": "ddebdce7-161e-44c7-ae78-721a563bee5f",
   "metadata": {},
   "source": [
    "# Initiation of project\n",
    "python -m venv ll_env - we're creating new local virtual env for our project\n",
    "\n",
    "# Model creation\n",
    "\t•\tclass Entry(models.Model):\n",
    "Определяет новую модель Entry, которая будет представлять таблицу в базе данных.\n",
    "\t•\tblog = models.ForeignKey(Blog, on_delete=models.CASCADE)\n",
    "Связь “многие записи принадлежат одному блогу”.\n",
    "Если удалить блог, все связанные записи тоже удаляются (CASCADE).\n",
    "\t•\theadline = models.CharField(max_length=255)\n",
    "Строка — заголовок записи. Максимум 255 символов.\n",
    "\t•\tbody_text = models.TextField()\n",
    "Длинный текст — основное содержание записи (например, статья).\n",
    "\t•\tpub_date = models.DateField()\n",
    "Дата публикации. Хранит только дату (без времени).\n",
    "\t•\tmod_date = models.DateField(default=date.today)\n",
    "Дата последнего изменения. По умолчанию — текущая дата.\n",
    "\t•\tauthors = models.ManyToManyField(Author)\n",
    "Связь “многие ко многим”: запись может иметь нескольких авторов, и автор может участвовать в нескольких записях.\n",
    "\t•\tnumber_of_comments = models.IntegerField(default=0)\n",
    "Целое число. Считает количество комментариев, по умолчанию 0.\n",
    "\t•\tnumber_of_pingbacks = models.IntegerField(default=0)\n",
    "Целое число. Считает количество внешних ссылок (пингбэков), по умолчанию 0.\n",
    "\t•\trating = models.IntegerField(default=5)\n",
    "Рейтинг записи (например, от 1 до 10). По умолчанию 5.\n",
    "\t•\tdef __str__(self): return self.headline\n",
    "Метод строкового представления. Возвращает заголовок, чтобы объект красиво отображался в админке и консоли.\n"
   ]
  }
 ],
 "metadata": {
  "kernelspec": {
   "display_name": "Python [conda env:base] *",
   "language": "python",
   "name": "conda-base-py"
  },
  "language_info": {
   "codemirror_mode": {
    "name": "ipython",
    "version": 3
   },
   "file_extension": ".py",
   "mimetype": "text/x-python",
   "name": "python",
   "nbconvert_exporter": "python",
   "pygments_lexer": "ipython3",
   "version": "3.12.7"
  }
 },
 "nbformat": 4,
 "nbformat_minor": 5
}
