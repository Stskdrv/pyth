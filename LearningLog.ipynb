{
 "cells": [
  {
   "cell_type": "markdown",
   "id": "ddebdce7-161e-44c7-ae78-721a563bee5f",
   "metadata": {},
   "source": [
    "# Initiation of project\n",
    "python -m venv ll_env - we're creating new local virtual env for our project\n",
    "\n",
    "\n"
   ]
  }
 ],
 "metadata": {
  "kernelspec": {
   "display_name": "Python [conda env:base] *",
   "language": "python",
   "name": "conda-base-py"
  },
  "language_info": {
   "codemirror_mode": {
    "name": "ipython",
    "version": 3
   },
   "file_extension": ".py",
   "mimetype": "text/x-python",
   "name": "python",
   "nbconvert_exporter": "python",
   "pygments_lexer": "ipython3",
   "version": "3.12.7"
  }
 },
 "nbformat": 4,
 "nbformat_minor": 5
}
